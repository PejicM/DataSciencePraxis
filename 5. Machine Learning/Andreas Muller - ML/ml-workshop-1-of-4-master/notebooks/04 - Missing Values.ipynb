{
 "cells": [
  {
   "cell_type": "markdown",
   "metadata": {},
   "source": [
    "# Dealing with missing values"
   ]
  },
  {
   "cell_type": "code",
   "execution_count": 2,
   "metadata": {},
   "outputs": [],
   "source": [
    "import numpy as np\n",
    "import matplotlib.pyplot as plt\n",
    "import pandas as pd\n",
    "np.set_printoptions(precision=3)\n",
    "%matplotlib inline\n",
    "plt.rcParams[\"figure.dpi\"] = 300"
   ]
  },
  {
   "cell_type": "code",
   "execution_count": 9,
   "metadata": {},
   "outputs": [
    {
     "data": {
      "text/plain": [
       "['sepal length (cm)',\n",
       " 'sepal width (cm)',\n",
       " 'petal length (cm)',\n",
       " 'petal width (cm)']"
      ]
     },
     "execution_count": 9,
     "metadata": {},
     "output_type": "execute_result"
    }
   ],
   "source": [
    "from sklearn.datasets import load_iris\n",
    "from sklearn.utils import shuffle\n",
    "iris = load_iris()\n",
    "iris.feature_names"
   ]
  },
  {
   "cell_type": "code",
   "execution_count": 10,
   "metadata": {},
   "outputs": [],
   "source": [
    "X, y = iris.data, iris.target\n",
    "X, y = shuffle(X, y)"
   ]
  },
  {
   "cell_type": "code",
   "execution_count": 11,
   "metadata": {},
   "outputs": [
    {
     "name": "stdout",
     "output_type": "stream",
     "text": [
      "[[5.6 2.7 4.2 1.3]\n",
      " [4.7 3.2 1.3 0.2]\n",
      " [5.7 2.8 4.5 1.3]\n",
      " [5.8 2.8 5.1 2.4]\n",
      " [5.6 3.  4.1 1.3]\n",
      " [7.6 3.  6.6 2.1]\n",
      " [5.  3.3 1.4 0.2]\n",
      " [6.3 2.3 4.4 1.3]\n",
      " [5.1 3.3 1.7 0.5]\n",
      " [6.4 3.2 5.3 2.3]\n",
      " [6.1 2.9 4.7 1.4]\n",
      " [4.4 3.2 1.3 0.2]\n",
      " [5.5 4.2 1.4 0.2]\n",
      " [7.2 3.2 6.  1.8]\n",
      " [5.7 2.6 3.5 1. ]\n",
      " [5.8 2.7 5.1 1.9]\n",
      " [6.4 2.7 5.3 1.9]\n",
      " [6.1 2.8 4.7 1.2]\n",
      " [5.5 2.6 4.4 1.2]\n",
      " [5.7 4.4 1.5 0.4]\n",
      " [6.7 3.3 5.7 2.5]\n",
      " [5.7 2.9 4.2 1.3]\n",
      " [5.  3.4 1.6 0.4]\n",
      " [6.9 3.1 5.1 2.3]\n",
      " [6.1 2.6 5.6 1.4]\n",
      " [6.4 3.2 4.5 1.5]\n",
      " [4.8 3.1 1.6 0.2]\n",
      " [6.3 2.5 5.  1.9]\n",
      " [5.  3.5 1.3 0.3]\n",
      " [4.6 3.6 1.  0.2]]\n"
     ]
    }
   ],
   "source": [
    "print(X[:30])"
   ]
  },
  {
   "cell_type": "code",
   "execution_count": 12,
   "metadata": {},
   "outputs": [
    {
     "data": {
      "text/plain": [
       "array([[nan, 2.8, 4.6, 1.5],\n",
       "       [nan, 3. , 1.4, 0.3],\n",
       "       [nan, 2. , 3.5, 1. ],\n",
       "       [nan, 3. , 6.1, 2.3],\n",
       "       [6.3, 3.3, 6. , 2.5],\n",
       "       [nan, 3. , 4.4, 1.4],\n",
       "       [nan, 2.4, 3.8, 1.1],\n",
       "       [nan, 4. , 1.2, 0.2],\n",
       "       [nan, 2.9, 4.3, 1.3],\n",
       "       [nan, 2.8, 5.6, 2.1],\n",
       "       [6.5, 3. , 5.8, 2.2],\n",
       "       [nan, 3.1, 4.7, 1.5],\n",
       "       [nan, 2.6, 4. , 1.2],\n",
       "       [nan, 2.5, 4.5, 1.7],\n",
       "       [nan, 3.5, 1.3, 0.2],\n",
       "       [nan, 2.5, 5.8, 1.8],\n",
       "       [nan, 3.4, 1.5, 0.2],\n",
       "       [nan, 3.4, 1.4, 0.3],\n",
       "       [nan, 2.7, 3.9, 1.2],\n",
       "       [nan, 3.6, 1.4, 0.2],\n",
       "       [5.6, 3. , 4.5, 1.5],\n",
       "       [nan, 3. , 4.6, 1.4],\n",
       "       [nan, 3. , 5.1, 1.8],\n",
       "       [nan, 3.3, 5.7, 2.1],\n",
       "       [nan, 2.8, 6.1, 1.9],\n",
       "       [nan, 3.7, 1.5, 0.4],\n",
       "       [7. , 3.2, 4.7, 1.4],\n",
       "       [nan, 2.3, 1.3, 0.3],\n",
       "       [nan, 3.1, 1.5, 0.1],\n",
       "       [nan, 3. , 1.1, 0.1]])"
      ]
     },
     "execution_count": 12,
     "metadata": {},
     "output_type": "execute_result"
    }
   ],
   "source": [
    "# a column is mostly missing\n",
    "rng = np.random.RandomState(0)\n",
    "X_missing_column = X.copy()\n",
    "mask = X.sum(axis=1) < rng.normal(loc=19, scale=3, size=X.shape[0])\n",
    "X_missing_column[mask, 0] = np.NaN\n",
    "X_missing_column[120:]"
   ]
  },
  {
   "cell_type": "code",
   "execution_count": 13,
   "metadata": {},
   "outputs": [
    {
     "data": {
      "text/plain": [
       "array([[5.6, 2.7, 4.2, 1.3],\n",
       "       [nan, nan, 1.3, 0.2],\n",
       "       [5.7, 2.8, 4.5, 1.3],\n",
       "       [5.8, 2.8, 5.1, 2.4],\n",
       "       [5.6, 3. , 4.1, 1.3],\n",
       "       [nan, nan, nan, nan],\n",
       "       [5. , 3.3, 1.4, 0.2],\n",
       "       [6.3, 2.3, 4.4, 1.3],\n",
       "       [5.1, 3.3, 1.7, 0.5],\n",
       "       [6.4, 3.2, 5.3, 2.3],\n",
       "       [6.1, 2.9, 4.7, 1.4],\n",
       "       [4.4, 3.2, 1.3, 0.2],\n",
       "       [5.5, 4.2, 1.4, 0.2],\n",
       "       [7.2, 3.2, 6. , 1.8],\n",
       "       [nan, nan, nan, nan],\n",
       "       [5.8, 2.7, 5.1, 1.9],\n",
       "       [6.4, 2.7, 5.3, 1.9],\n",
       "       [6.1, 2.8, 4.7, 1.2],\n",
       "       [5.5, 2.6, 4.4, 1.2],\n",
       "       [5.7, 4.4, 1.5, 0.4],\n",
       "       [6.7, 3.3, 5.7, 2.5],\n",
       "       [5.7, 2.9, 4.2, 1.3],\n",
       "       [5. , 3.4, 1.6, 0.4],\n",
       "       [6.9, nan, nan, nan],\n",
       "       [6.1, 2.6, 5.6, 1.4],\n",
       "       [6.4, 3.2, 4.5, 1.5],\n",
       "       [nan, nan, nan, 0.2],\n",
       "       [6.3, 2.5, 5. , 1.9],\n",
       "       [5. , 3.5, 1.3, 0.3],\n",
       "       [4.6, 3.6, 1. , 0.2]])"
      ]
     },
     "execution_count": 13,
     "metadata": {},
     "output_type": "execute_result"
    }
   ],
   "source": [
    "# only a few rows have missing data. but a lot of it\n",
    "rng = np.random.RandomState(4)\n",
    "X_missing_rows = X.copy()\n",
    "for i in rng.randint(0, 30, 5):\n",
    "    X_missing_rows[i, rng.uniform(size=4)> .2] = np.NaN\n",
    "X_missing_rows[:30]"
   ]
  },
  {
   "cell_type": "code",
   "execution_count": 14,
   "metadata": {},
   "outputs": [
    {
     "data": {
      "text/plain": [
       "array([6.588, 2.974, 5.552, 2.026])"
      ]
     },
     "execution_count": 14,
     "metadata": {},
     "output_type": "execute_result"
    }
   ],
   "source": [
    "X[y==2].mean(axis=0)"
   ]
  },
  {
   "cell_type": "code",
   "execution_count": 15,
   "metadata": {},
   "outputs": [
    {
     "data": {
      "text/plain": [
       "array([[5.6, 2.7, 4.2, 1.3],\n",
       "       [4.7, 3.2, 1.3, 0.2],\n",
       "       [5.7, 2.8, nan, 1.3],\n",
       "       [5.8, 2.8, nan, 2.4],\n",
       "       [5.6, 3. , 4.1, 1.3],\n",
       "       [7.6, 3. , 6.6, 2.1],\n",
       "       [5. , 3.3, 1.4, 0.2],\n",
       "       [6.3, 2.3, nan, 1.3],\n",
       "       [5.1, 3.3, 1.7, 0.5],\n",
       "       [6.4, 3.2, nan, nan],\n",
       "       [6.1, 2.9, nan, 1.4],\n",
       "       [4.4, 3.2, 1.3, 0.2],\n",
       "       [5.5, 4.2, 1.4, 0.2],\n",
       "       [7.2, 3.2, nan, nan],\n",
       "       [5.7, 2.6, 3.5, 1. ],\n",
       "       [5.8, 2.7, 5.1, 1.9],\n",
       "       [6.4, 2.7, nan, 1.9],\n",
       "       [6.1, 2.8, nan, 1.2],\n",
       "       [5.5, 2.6, 4.4, 1.2],\n",
       "       [5.7, 4.4, 1.5, 0.4],\n",
       "       [6.7, 3.3, nan, 2.5],\n",
       "       [5.7, 2.9, 4.2, 1.3],\n",
       "       [5. , 3.4, 1.6, 0.4],\n",
       "       [6.9, 3.1, nan, nan],\n",
       "       [6.1, 2.6, 5.6, 1.4],\n",
       "       [6.4, 3.2, 4.5, nan],\n",
       "       [4.8, 3.1, 1.6, 0.2],\n",
       "       [6.3, 2.5, nan, nan],\n",
       "       [5. , 3.5, 1.3, 0.3],\n",
       "       [4.6, 3.6, 1. , 0.2]])"
      ]
     },
     "execution_count": 15,
     "metadata": {},
     "output_type": "execute_result"
    }
   ],
   "source": [
    "# some values missing only\n",
    "rng = np.random.RandomState(0)\n",
    "X_some_missing = X.copy()\n",
    "mask = np.abs(X[:, 2] - rng.normal(loc=5.5, scale=.7, size=X.shape[0])) < .6\n",
    "X_some_missing[mask, 3] = np.NaN\n",
    "# different random numbers\n",
    "mask2 = np.abs(X[:, 2] - rng.normal(loc=5.5, scale=.7, size=X.shape[0])) < .6\n",
    "X_some_missing[mask2, 2] = np.NaN\n",
    "X_some_missing[:30]"
   ]
  },
  {
   "cell_type": "code",
   "execution_count": 16,
   "metadata": {},
   "outputs": [],
   "source": [
    "# from now on use X_ = X_some_missing\n",
    "X_ = X_some_missing"
   ]
  },
  {
   "cell_type": "code",
   "execution_count": 17,
   "metadata": {},
   "outputs": [],
   "source": [
    "from sklearn.linear_model import LogisticRegression\n",
    "from sklearn.model_selection import train_test_split\n",
    "X_train, X_test, y_train, y_test = train_test_split(X_, y, stratify=y, random_state=0)"
   ]
  },
  {
   "cell_type": "code",
   "execution_count": 18,
   "metadata": {},
   "outputs": [
    {
     "name": "stderr",
     "output_type": "stream",
     "text": [
      "C:\\Users\\m.pejic\\AppData\\Local\\Continuum\\anaconda3\\lib\\site-packages\\sklearn\\linear_model\\logistic.py:432: FutureWarning: Default solver will be changed to 'lbfgs' in 0.22. Specify a solver to silence this warning.\n",
      "  FutureWarning)\n",
      "C:\\Users\\m.pejic\\AppData\\Local\\Continuum\\anaconda3\\lib\\site-packages\\sklearn\\linear_model\\logistic.py:469: FutureWarning: Default multi_class will be changed to 'auto' in 0.22. Specify the multi_class option to silence this warning.\n",
      "  \"this warning.\", FutureWarning)\n"
     ]
    },
    {
     "data": {
      "text/plain": [
       "0.7631578947368421"
      ]
     },
     "execution_count": 18,
     "metadata": {},
     "output_type": "execute_result"
    }
   ],
   "source": [
    "from sklearn.preprocessing import StandardScaler\n",
    "\n",
    "nan_columns = np.any(np.isnan(X_train), axis=0)\n",
    "X_drop_columns = X_train[:, ~nan_columns]\n",
    "logreg = LogisticRegression().fit(X_drop_columns, y_train)\n",
    "logreg.score(X_test[:, ~nan_columns], y_test)\n"
   ]
  },
  {
   "cell_type": "code",
   "execution_count": null,
   "metadata": {},
   "outputs": [],
   "source": []
  },
  {
   "cell_type": "code",
   "execution_count": 19,
   "metadata": {},
   "outputs": [
    {
     "name": "stderr",
     "output_type": "stream",
     "text": [
      "C:\\Users\\m.pejic\\AppData\\Local\\Continuum\\anaconda3\\lib\\site-packages\\sklearn\\utils\\deprecation.py:66: DeprecationWarning: Class Imputer is deprecated; Imputer was deprecated in version 0.20 and will be removed in 0.22. Import impute.SimpleImputer from sklearn instead.\n",
      "  warnings.warn(msg, category=DeprecationWarning)\n"
     ]
    },
    {
     "data": {
      "text/plain": [
       "array([[6.1  , 2.8  , 3.29 , 1.2  ],\n",
       "       [6.4  , 2.8  , 5.6  , 0.982],\n",
       "       [4.7  , 3.2  , 1.6  , 0.2  ],\n",
       "       [4.3  , 3.   , 1.1  , 0.1  ],\n",
       "       [5.   , 3.6  , 1.4  , 0.2  ],\n",
       "       [5.7  , 4.4  , 1.5  , 0.4  ],\n",
       "       [4.8  , 3.1  , 1.6  , 0.2  ],\n",
       "       [6.7  , 3.1  , 4.7  , 1.5  ],\n",
       "       [7.1  , 3.   , 3.29 , 2.1  ],\n",
       "       [6.7  , 3.3  , 5.7  , 0.982],\n",
       "       [6.3  , 2.8  , 3.29 , 0.982],\n",
       "       [5.   , 3.   , 1.6  , 0.2  ],\n",
       "       [6.8  , 3.2  , 3.29 , 2.3  ],\n",
       "       [5.1  , 3.3  , 1.7  , 0.5  ],\n",
       "       [5.8  , 2.7  , 5.1  , 1.9  ],\n",
       "       [5.5  , 3.5  , 1.3  , 0.2  ],\n",
       "       [6.6  , 3.   , 4.4  , 1.4  ],\n",
       "       [6.2  , 2.9  , 4.3  , 1.3  ],\n",
       "       [6.   , 3.4  , 3.29 , 1.6  ],\n",
       "       [6.   , 2.9  , 3.29 , 1.5  ],\n",
       "       [4.6  , 3.2  , 1.4  , 0.2  ],\n",
       "       [4.9  , 2.5  , 4.5  , 1.7  ],\n",
       "       [6.2  , 2.8  , 4.8  , 1.8  ],\n",
       "       [4.5  , 2.3  , 1.3  , 0.3  ],\n",
       "       [5.2  , 2.7  , 3.9  , 0.982],\n",
       "       [5.5  , 2.4  , 3.7  , 1.   ],\n",
       "       [5.1  , 3.8  , 1.9  , 0.4  ],\n",
       "       [6.3  , 2.9  , 3.29 , 0.982],\n",
       "       [7.7  , 3.   , 3.29 , 0.982],\n",
       "       [7.7  , 2.6  , 6.9  , 2.3  ]])"
      ]
     },
     "execution_count": 19,
     "metadata": {},
     "output_type": "execute_result"
    }
   ],
   "source": [
    "from sklearn.preprocessing import Imputer\n",
    "imp = Imputer(strategy=\"mean\").fit(X_train)\n",
    "X_mean_imp = imp.transform(X_train)\n",
    "X_mean_imp[-30:]"
   ]
  },
  {
   "cell_type": "code",
   "execution_count": 20,
   "metadata": {},
   "outputs": [
    {
     "data": {
      "text/plain": [
       "(112, 4)"
      ]
     },
     "execution_count": 20,
     "metadata": {},
     "output_type": "execute_result"
    }
   ],
   "source": [
    "X_mean_imp.shape"
   ]
  },
  {
   "cell_type": "code",
   "execution_count": 21,
   "metadata": {},
   "outputs": [
    {
     "ename": "AttributeError",
     "evalue": "module 'matplotlib.cm' has no attribute 'Vega10'",
     "output_type": "error",
     "traceback": [
      "\u001b[1;31m---------------------------------------------------------------------------\u001b[0m",
      "\u001b[1;31mAttributeError\u001b[0m                            Traceback (most recent call last)",
      "\u001b[1;32m<ipython-input-21-29c5e0902d90>\u001b[0m in \u001b[0;36m<module>\u001b[1;34m\u001b[0m\n\u001b[0;32m     15\u001b[0m     \u001b[0mplt\u001b[0m\u001b[1;33m.\u001b[0m\u001b[0mlegend\u001b[0m\u001b[1;33m(\u001b[0m\u001b[0mhandles\u001b[0m\u001b[1;33m=\u001b[0m\u001b[1;33m[\u001b[0m\u001b[0msquare\u001b[0m\u001b[1;33m,\u001b[0m \u001b[0mcircle\u001b[0m\u001b[1;33m]\u001b[0m\u001b[1;33m,\u001b[0m \u001b[0mnumpoints\u001b[0m\u001b[1;33m=\u001b[0m\u001b[1;36m1\u001b[0m\u001b[1;33m,\u001b[0m \u001b[0mloc\u001b[0m\u001b[1;33m=\u001b[0m\u001b[1;34m\"best\"\u001b[0m\u001b[1;33m)\u001b[0m\u001b[1;33m\u001b[0m\u001b[1;33m\u001b[0m\u001b[0m\n\u001b[0;32m     16\u001b[0m \u001b[1;33m\u001b[0m\u001b[0m\n\u001b[1;32m---> 17\u001b[1;33m \u001b[0mplot_imputation\u001b[0m\u001b[1;33m(\u001b[0m\u001b[0mX_mean_imp\u001b[0m\u001b[1;33m,\u001b[0m \u001b[1;34m\"Mean imputation\"\u001b[0m\u001b[1;33m)\u001b[0m\u001b[1;33m\u001b[0m\u001b[1;33m\u001b[0m\u001b[0m\n\u001b[0m",
      "\u001b[1;32m<ipython-input-21-29c5e0902d90>\u001b[0m in \u001b[0;36mplot_imputation\u001b[1;34m(X_imp, title, ax)\u001b[0m\n\u001b[0;32m      8\u001b[0m     \u001b[1;32mif\u001b[0m \u001b[0mtitle\u001b[0m \u001b[1;32mis\u001b[0m \u001b[1;32mnot\u001b[0m \u001b[1;32mNone\u001b[0m\u001b[1;33m:\u001b[0m\u001b[1;33m\u001b[0m\u001b[1;33m\u001b[0m\u001b[0m\n\u001b[0;32m      9\u001b[0m         \u001b[0max\u001b[0m\u001b[1;33m.\u001b[0m\u001b[0mset_title\u001b[0m\u001b[1;33m(\u001b[0m\u001b[0mtitle\u001b[0m\u001b[1;33m)\u001b[0m\u001b[1;33m\u001b[0m\u001b[1;33m\u001b[0m\u001b[0m\n\u001b[1;32m---> 10\u001b[1;33m     \u001b[0max\u001b[0m\u001b[1;33m.\u001b[0m\u001b[0mscatter\u001b[0m\u001b[1;33m(\u001b[0m\u001b[0mX_imp\u001b[0m\u001b[1;33m[\u001b[0m\u001b[0mimputed_mask\u001b[0m\u001b[1;33m,\u001b[0m \u001b[1;36m2\u001b[0m\u001b[1;33m]\u001b[0m\u001b[1;33m,\u001b[0m \u001b[0mX_imp\u001b[0m\u001b[1;33m[\u001b[0m\u001b[0mimputed_mask\u001b[0m\u001b[1;33m,\u001b[0m \u001b[1;36m3\u001b[0m\u001b[1;33m]\u001b[0m\u001b[1;33m,\u001b[0m \u001b[0mc\u001b[0m\u001b[1;33m=\u001b[0m\u001b[0mplt\u001b[0m\u001b[1;33m.\u001b[0m\u001b[0mcm\u001b[0m\u001b[1;33m.\u001b[0m\u001b[0mVega10\u001b[0m\u001b[1;33m(\u001b[0m\u001b[0my_train\u001b[0m\u001b[1;33m[\u001b[0m\u001b[0mimputed_mask\u001b[0m\u001b[1;33m]\u001b[0m\u001b[1;33m)\u001b[0m\u001b[1;33m,\u001b[0m \u001b[0malpha\u001b[0m\u001b[1;33m=\u001b[0m\u001b[1;36m.6\u001b[0m\u001b[1;33m,\u001b[0m \u001b[0mmarker\u001b[0m\u001b[1;33m=\u001b[0m\u001b[1;34m\"s\"\u001b[0m\u001b[1;33m)\u001b[0m\u001b[1;33m\u001b[0m\u001b[1;33m\u001b[0m\u001b[0m\n\u001b[0m\u001b[0;32m     11\u001b[0m     \u001b[0max\u001b[0m\u001b[1;33m.\u001b[0m\u001b[0mscatter\u001b[0m\u001b[1;33m(\u001b[0m\u001b[0mX_imp\u001b[0m\u001b[1;33m[\u001b[0m\u001b[1;33m~\u001b[0m\u001b[0mimputed_mask\u001b[0m\u001b[1;33m,\u001b[0m \u001b[1;36m2\u001b[0m\u001b[1;33m]\u001b[0m\u001b[1;33m,\u001b[0m \u001b[0mX_imp\u001b[0m\u001b[1;33m[\u001b[0m\u001b[1;33m~\u001b[0m\u001b[0mimputed_mask\u001b[0m\u001b[1;33m,\u001b[0m \u001b[1;36m3\u001b[0m\u001b[1;33m]\u001b[0m\u001b[1;33m,\u001b[0m \u001b[0mc\u001b[0m\u001b[1;33m=\u001b[0m\u001b[0mplt\u001b[0m\u001b[1;33m.\u001b[0m\u001b[0mcm\u001b[0m\u001b[1;33m.\u001b[0m\u001b[0mVega10\u001b[0m\u001b[1;33m(\u001b[0m\u001b[0my_train\u001b[0m\u001b[1;33m[\u001b[0m\u001b[1;33m~\u001b[0m\u001b[0mimputed_mask\u001b[0m\u001b[1;33m]\u001b[0m\u001b[1;33m)\u001b[0m\u001b[1;33m,\u001b[0m \u001b[0malpha\u001b[0m\u001b[1;33m=\u001b[0m\u001b[1;36m.6\u001b[0m\u001b[1;33m)\u001b[0m\u001b[1;33m\u001b[0m\u001b[1;33m\u001b[0m\u001b[0m\n\u001b[0;32m     12\u001b[0m     \u001b[1;31m# this is for creating the legend...\u001b[0m\u001b[1;33m\u001b[0m\u001b[1;33m\u001b[0m\u001b[1;33m\u001b[0m\u001b[0m\n",
      "\u001b[1;31mAttributeError\u001b[0m: module 'matplotlib.cm' has no attribute 'Vega10'"
     ]
    },
    {
     "data": {
      "image/png": "[encoded data removed]",
      "text/plain": [
       "<Figure size 1800x1200 with 1 Axes>"
      ]
     },
     "metadata": {
      "needs_background": "light"
     },
     "output_type": "display_data"
    }
   ],
   "source": [
    "import matplotlib.patches as patches\n",
    "imputed_mask = np.any(np.isnan(X_train), axis=1)\n",
    "\n",
    "def plot_imputation(X_imp, title=None, ax=None):\n",
    "    # helper function to plot imputed data points\n",
    "    if ax is None:\n",
    "        ax = plt.gca()\n",
    "    if title is not None:\n",
    "        ax.set_title(title)\n",
    "    ax.scatter(X_imp[imputed_mask, 2], X_imp[imputed_mask, 3], c=plt.cm.Vega10(y_train[imputed_mask]), alpha=.6, marker=\"s\")\n",
    "    ax.scatter(X_imp[~imputed_mask, 2], X_imp[~imputed_mask, 3], c=plt.cm.Vega10(y_train[~imputed_mask]), alpha=.6)\n",
    "    # this is for creating the legend...\n",
    "    square = plt.Line2D((0,), (0,), linestyle='', marker=\"s\", markerfacecolor=\"w\", markeredgecolor=\"k\", label='Imputed data')\n",
    "    circle = plt.Line2D((0,), (0,), linestyle='', marker=\"o\", markerfacecolor=\"w\", markeredgecolor=\"k\", label='Real data')\n",
    "    plt.legend(handles=[square, circle], numpoints=1, loc=\"best\")\n",
    "\n",
    "plot_imputation(X_mean_imp, \"Mean imputation\")"
   ]
  },
  {
   "cell_type": "code",
   "execution_count": null,
   "metadata": {},
   "outputs": [],
   "source": [
    "# the problem is designed that way that mean imputation wouldn't work"
   ]
  },
  {
   "cell_type": "code",
   "execution_count": 22,
   "metadata": {},
   "outputs": [
    {
     "name": "stderr",
     "output_type": "stream",
     "text": [
      "C:\\Users\\m.pejic\\AppData\\Local\\Continuum\\anaconda3\\lib\\site-packages\\sklearn\\linear_model\\logistic.py:432: FutureWarning: Default solver will be changed to 'lbfgs' in 0.22. Specify a solver to silence this warning.\n",
      "  FutureWarning)\n",
      "C:\\Users\\m.pejic\\AppData\\Local\\Continuum\\anaconda3\\lib\\site-packages\\sklearn\\linear_model\\logistic.py:469: FutureWarning: Default multi_class will be changed to 'auto' in 0.22. Specify the multi_class option to silence this warning.\n",
      "  \"this warning.\", FutureWarning)\n"
     ]
    },
    {
     "data": {
      "text/plain": [
       "0.8157894736842105"
      ]
     },
     "execution_count": 22,
     "metadata": {},
     "output_type": "execute_result"
    }
   ],
   "source": [
    "logreg = LogisticRegression().fit(X_mean_imp, y_train)\n",
    "\n",
    "X_mean_imp_test = imp.transform(X_test)\n",
    "logreg.score(X_mean_imp_test, y_test)"
   ]
  },
  {
   "cell_type": "code",
   "execution_count": null,
   "metadata": {},
   "outputs": [],
   "source": []
  }
 ],
 "metadata": {
  "anaconda-cloud": {},
  "kernelspec": {
   "display_name": "Python 3",
   "language": "python",
   "name": "python3"
  },
  "language_info": {
   "codemirror_mode": {
    "name": "ipython",
    "version": 3
   },
   "file_extension": ".py",
   "mimetype": "text/x-python",
   "name": "python",
   "nbconvert_exporter": "python",
   "pygments_lexer": "ipython3",
   "version": "3.7.3"
  }
 },
 "nbformat": 4,
 "nbformat_minor": 2
}
