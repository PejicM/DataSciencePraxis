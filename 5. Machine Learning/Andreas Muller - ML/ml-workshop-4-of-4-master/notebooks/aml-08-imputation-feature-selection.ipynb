{
 "cells": [
  {
   "cell_type": "code",
   "execution_count": null,
   "metadata": {},
   "outputs": [],
   "source": [
    "import numpy as np\n",
    "import matplotlib.pyplot as plt\n",
    "import pandas as pd\n",
    "% matplotlib inline\n",
    "plt.rcParams[\"savefig.dpi\"] = 300\n",
    "plt.rcParams[\"savefig.bbox\"] = 'tight'"
   ]
  },
  {
   "cell_type": "code",
   "execution_count": null,
   "metadata": {},
   "outputs": [],
   "source": [
    "from sklearn.datasets import load_iris\n",
    "from sklearn.utils import shuffle\n",
    "iris = load_iris()"
   ]
  },
  {
   "cell_type": "code",
   "execution_count": null,
   "metadata": {},
   "outputs": [],
   "source": [
    "X, y = iris.data, iris.target\n",
    "X, y = shuffle(X, y)"
   ]
  },
  {
   "cell_type": "code",
   "execution_count": null,
   "metadata": {},
   "outputs": [],
   "source": [
    "print(X[:30])"
   ]
  },
  {
   "cell_type": "code",
   "execution_count": null,
   "metadata": {},
   "outputs": [],
   "source": [
    "# a column is mostly missing\n",
    "rng = np.random.RandomState(0)\n",
    "X_missing_column = X.copy()\n",
    "mask = X.sum(axis=1) < rng.normal(loc=19, scale=3, size=X.shape[0])\n",
    "X_missing_column[mask, 0] = np.NaN\n",
    "X_missing_column[120:]"
   ]
  },
  {
   "cell_type": "code",
   "execution_count": null,
   "metadata": {},
   "outputs": [],
   "source": [
    "# only a few rows have missing data. but a lot of it\n",
    "rng = np.random.RandomState(4)\n",
    "X_missing_rows = X.copy()\n",
    "for i in rng.randint(0, 30, 5):\n",
    "    X_missing_rows[i, rng.uniform(size=4)> .2] = np.NaN\n",
    "X_missing_rows[:30]"
   ]
  },
  {
   "cell_type": "code",
   "execution_count": null,
   "metadata": {},
   "outputs": [],
   "source": [
    "X[y==2].mean(axis=0)"
   ]
  },
  {
   "cell_type": "code",
   "execution_count": null,
   "metadata": {},
   "outputs": [],
   "source": [
    "# some values missing only\n",
    "rng = np.random.RandomState(0)\n",
    "X_some_missing = X.copy()\n",
    "mask = np.abs(X[:, 2] - rng.normal(loc=5.5, scale=.7, size=X.shape[0])) < .6\n",
    "X_some_missing[mask, 3] = np.NaN\n",
    "# different random numbers\n",
    "mask2 = np.abs(X[:, 2] - rng.normal(loc=5.5, scale=.7, size=X.shape[0])) < .6\n",
    "X_some_missing[mask2, 2] = np.NaN\n",
    "X_some_missing[:30]"
   ]
  },
  {
   "cell_type": "code",
   "execution_count": null,
   "metadata": {},
   "outputs": [],
   "source": [
    "np.mean(mask)"
   ]
  },
  {
   "cell_type": "code",
   "execution_count": null,
   "metadata": {},
   "outputs": [],
   "source": [
    "np.bincount(y[~mask2])"
   ]
  },
  {
   "cell_type": "code",
   "execution_count": null,
   "metadata": {},
   "outputs": [],
   "source": [
    "# from now on use X_ = X_some_missing\n",
    "X_ = X_some_missing"
   ]
  },
  {
   "cell_type": "code",
   "execution_count": null,
   "metadata": {},
   "outputs": [],
   "source": [
    "from sklearn.linear_model import LogisticRegression\n",
    "from sklearn.model_selection import train_test_split, cross_val_score\n",
    "X_train, X_test, y_train, y_test = train_test_split(X_, y, stratify=y, random_state=0)"
   ]
  },
  {
   "cell_type": "code",
   "execution_count": null,
   "metadata": {},
   "outputs": [],
   "source": [
    "from sklearn.pipeline import make_pipeline\n",
    "from sklearn.preprocessing import StandardScaler\n",
    "\n",
    "nan_columns = np.any(np.isnan(X_train), axis=0)\n",
    "X_drop_columns = X_train[:, ~nan_columns]\n",
    "logreg = make_pipeline(StandardScaler(), LogisticRegression())\n",
    "scores = cross_val_score(logreg, X_drop_columns, y_train, cv=10)\n",
    "np.mean(scores)"
   ]
  },
  {
   "cell_type": "code",
   "execution_count": null,
   "metadata": {},
   "outputs": [],
   "source": [
    "print(X_train[-30:])"
   ]
  },
  {
   "cell_type": "code",
   "execution_count": null,
   "metadata": {},
   "outputs": [],
   "source": [
    "np.set_printoptions(precision=3)"
   ]
  },
  {
   "cell_type": "code",
   "execution_count": null,
   "metadata": {},
   "outputs": [],
   "source": [
    "from sklearn.preprocessing import Imputer\n",
    "imp = Imputer(strategy=\"mean\").fit(X_train)\n",
    "X_mean_imp = imp.transform(X_train)\n",
    "X_mean_imp[-30:]"
   ]
  },
  {
   "cell_type": "code",
   "execution_count": null,
   "metadata": {},
   "outputs": [],
   "source": [
    "X_mean_imp.shape"
   ]
  },
  {
   "cell_type": "code",
   "execution_count": null,
   "metadata": {},
   "outputs": [],
   "source": [
    "import matplotlib.patches as patches\n",
    "imputed_mask = np.any(np.isnan(X_train), axis=1)\n",
    "\n",
    "def plot_imputation(X_imp, title=None, ax=None):\n",
    "    # helper function to plot imputed data points\n",
    "    if ax is None:\n",
    "        ax = plt.gca()\n",
    "    if title is not None:\n",
    "        ax.set_title(title)\n",
    "    ax.scatter(X_imp[imputed_mask, 2], X_imp[imputed_mask, 3], c=plt.cm.Vega10(y_train[imputed_mask]), alpha=.6, marker=\"s\")\n",
    "    ax.scatter(X_imp[~imputed_mask, 2], X_imp[~imputed_mask, 3], c=plt.cm.Vega10(y_train[~imputed_mask]), alpha=.6)\n",
    "    # this is for creating the legend...\n",
    "    square = plt.Line2D((0,), (0,), linestyle='', marker=\"s\", markerfacecolor=\"w\", markeredgecolor=\"k\", label='Imputed data')\n",
    "    circle = plt.Line2D((0,), (0,), linestyle='', marker=\"o\", markerfacecolor=\"w\", markeredgecolor=\"k\", label='Real data')\n",
    "    plt.legend(handles=[square, circle], numpoints=1, loc=\"best\")\n",
    "\n",
    "plot_imputation(X_mean_imp, \"Mean imputation\")"
   ]
  },
  {
   "cell_type": "code",
   "execution_count": null,
   "metadata": {},
   "outputs": [],
   "source": [
    "# I designed the problem so that mean imputation wouldn't work - slightly different than in lecture!"
   ]
  },
  {
   "cell_type": "code",
   "execution_count": null,
   "metadata": {},
   "outputs": [],
   "source": [
    "mean_pipe = make_pipeline(Imputer(), StandardScaler(), LogisticRegression())\n",
    "scores = cross_val_score(mean_pipe, X_train, y_train, cv=10)\n",
    "np.mean(scores)"
   ]
  },
  {
   "cell_type": "markdown",
   "metadata": {},
   "source": [
    "# Model-driven imputation and KNN"
   ]
  },
  {
   "cell_type": "code",
   "execution_count": null,
   "metadata": {},
   "outputs": [],
   "source": [
    "# Very inefficient didactic implementation\n",
    "\n",
    "distances = np.zeros((X_train.shape[0], X_train.shape[0]))\n",
    "for i, x1 in enumerate(X_train):\n",
    "    for j, x2 in enumerate(X_train):\n",
    "        dist = (x1 - x2) ** 2\n",
    "        nan_mask = np.isnan(dist)\n",
    "        distances[i, j] = dist[~nan_mask].mean() * X_train.shape[1]\n",
    "        \n",
    "neighbors = np.argsort(distances, axis=1)[:, 1:]\n",
    "n_neighbors = 3\n",
    "\n",
    "X_train_knn = X_train.copy()\n",
    "for feature in range(X_train.shape[1]):\n",
    "    has_missing_value = np.isnan(X_train[:, feature])\n",
    "    for row in np.where(has_missing_value)[0]:\n",
    "        neighbor_features = X_train[neighbors[row], feature]\n",
    "        non_nan_neighbors = neighbor_features[~np.isnan(neighbor_features)]\n",
    "        X_train_knn[row, feature] = non_nan_neighbors[:n_neighbors].mean()"
   ]
  },
  {
   "cell_type": "code",
   "execution_count": null,
   "metadata": {},
   "outputs": [],
   "source": [
    "plot_imputation(X_train_knn, \"KNN imputation\")"
   ]
  },
  {
   "cell_type": "code",
   "execution_count": null,
   "metadata": {},
   "outputs": [],
   "source": [
    "# this is cheating because I'm not using a pipeline\n",
    "# we would need to write a transformer that does the imputation\n",
    "scores = cross_val_score(logreg, X_train_knn, y_train, cv=10)\n",
    "np.mean(scores)"
   ]
  },
  {
   "cell_type": "code",
   "execution_count": null,
   "metadata": {},
   "outputs": [],
   "source": [
    "asdf = np.arange(5)"
   ]
  },
  {
   "cell_type": "code",
   "execution_count": null,
   "metadata": {},
   "outputs": [],
   "source": [
    "from sklearn.ensemble import RandomForestRegressor\n",
    "\n",
    "\n",
    "# this is just because I'm lazy and don't want to special-case the first iteration\n",
    "X_imputed = Imputer().fit_transform(X_train)\n",
    "\n",
    "rf = RandomForestRegressor(n_estimators=100)\n",
    "\n",
    "for i in range(10):\n",
    "    last = X_imputed.copy()\n",
    "    for feature in range(X_train.shape[1]):\n",
    "        inds_not_f = np.arange(X_train.shape[1])\n",
    "        inds_not_f = inds_not_f[inds_not_f != feature]\n",
    "        f_missing = np.isnan(X_train[:, feature])\n",
    "        if not np.any(f_missing):\n",
    "            continue\n",
    "        rf.fit(X_imputed[~f_missing][:, inds_not_f], X_train[~f_missing, feature])\n",
    "\n",
    "        X_imputed[f_missing, feature] = rf.predict(X_imputed[f_missing][:, inds_not_f])\n",
    "\n",
    "    # this would make more sense if we scaled the data beforehand\n",
    "    if (np.linalg.norm(last - X_imputed)) < .5:\n",
    "        print(i)\n",
    "        break\n"
   ]
  },
  {
   "cell_type": "code",
   "execution_count": null,
   "metadata": {},
   "outputs": [],
   "source": [
    "fig, axes = plt.subplots(1, 3, figsize=(12, 4))\n",
    "plot_imputation(X_mean_imp, \"Mean\", ax=axes[0])\n",
    "plot_imputation(X_train_knn, \"KNN\", ax=axes[1])\n",
    "plot_imputation(X_imputed, \"Random Forest imputation\", ax=axes[2])\n",
    "plt.savefig(\"images/mean_knn_rf_comparison.png\")"
   ]
  },
  {
   "cell_type": "code",
   "execution_count": null,
   "metadata": {},
   "outputs": [],
   "source": [
    "scores = cross_val_score(logreg, X_imputed, y_train, cv=10)\n",
    "np.mean(scores)"
   ]
  },
  {
   "cell_type": "code",
   "execution_count": null,
   "metadata": {},
   "outputs": [],
   "source": [
    "# you need to pip install fancyimpute for the rest! - and tensorflow\n",
    "import fancyimpute\n",
    "X_train_fancy_knn = fancyimpute.KNN().complete(X_train)"
   ]
  },
  {
   "cell_type": "code",
   "execution_count": null,
   "metadata": {},
   "outputs": [],
   "source": [
    "fig, ax = plt.subplots(1, 2, figsize=(8, 3))\n",
    "plot_imputation(X_train_knn, \"Naive KNN\", ax=ax[0])\n",
    "plot_imputation(X_train_fancy_knn, \"Fancy KNN\", ax=ax[1])"
   ]
  },
  {
   "cell_type": "code",
   "execution_count": null,
   "metadata": {},
   "outputs": [],
   "source": [
    "X_train_fancy_simple = fancyimpute.SimpleFill().complete(X_train)\n",
    "X_train_fancy_mice = fancyimpute.MICE(verbose=0).complete(X_train)\n",
    "X_train_fancy_si = fancyimpute.SoftImpute(verbose=0).complete(X_train)"
   ]
  },
  {
   "cell_type": "code",
   "execution_count": null,
   "metadata": {},
   "outputs": [],
   "source": [
    "fig, axes = plt.subplots(2, 2, figsize=(8, 8), dpi=100)\n",
    "for ax, name, X_imp in zip(axes.ravel(), [\"mean\", \"KNN\", \"MICE\", \"Soft impute\"],\n",
    "                           [X_train_fancy_simple, X_train_fancy_knn, X_train_fancy_mice, X_train_fancy_si]):\n",
    "    plot_imputation(X_imp, name, ax=ax)\n",
    "plt.savefig(\"images/fancy_impute_comparison.png\")"
   ]
  },
  {
   "cell_type": "code",
   "execution_count": null,
   "metadata": {},
   "outputs": [],
   "source": [
    "mice = fancyimpute.MICE(verbose=0)\n",
    "X_train_fancy_mice = mice.complete(X_train)\n",
    "scores = cross_val_score(logreg, X_train_fancy_mice, y_train, cv=10)\n",
    "scores.mean()"
   ]
  },
  {
   "cell_type": "markdown",
   "metadata": {},
   "source": [
    "# Feature Selection"
   ]
  },
  {
   "cell_type": "code",
   "execution_count": null,
   "metadata": {},
   "outputs": [],
   "source": [
    "from sklearn.datasets import load_boston"
   ]
  },
  {
   "cell_type": "code",
   "execution_count": null,
   "metadata": {},
   "outputs": [],
   "source": [
    "boston = load_boston()\n",
    "X, y = boston.data, boston.target\n",
    "X_train, X_test, y_train, y_test = train_test_split(X, y, random_state=0)"
   ]
  },
  {
   "cell_type": "code",
   "execution_count": null,
   "metadata": {},
   "outputs": [],
   "source": [
    "from sklearn.preprocessing import scale\n",
    "X_train_scaled = scale(X_train)\n",
    "cov = np.cov(X_train_scaled, rowvar=False)"
   ]
  },
  {
   "cell_type": "code",
   "execution_count": null,
   "metadata": {},
   "outputs": [],
   "source": [
    "plt.figure(figsize=(8, 8), dpi=100)\n",
    "plt.imshow(cov)\n",
    "plt.xticks(range(X.shape[1]), boston.feature_names)\n",
    "plt.yticks(range(X.shape[1]), boston.feature_names);"
   ]
  },
  {
   "cell_type": "code",
   "execution_count": null,
   "metadata": {},
   "outputs": [],
   "source": [
    "from scipy.cluster import hierarchy\n",
    "order = np.array(hierarchy.dendrogram(hierarchy.ward(cov), no_plot=True)['ivl'], dtype=\"int\")"
   ]
  },
  {
   "cell_type": "code",
   "execution_count": null,
   "metadata": {},
   "outputs": [],
   "source": [
    "plt.figure(figsize=(8, 8), dpi=100)\n",
    "plt.imshow(cov[order, :][:, order])\n",
    "plt.xticks(range(X.shape[1]), boston.feature_names[order])\n",
    "plt.yticks(range(X.shape[1]), boston.feature_names[order]);"
   ]
  },
  {
   "cell_type": "markdown",
   "metadata": {},
   "source": [
    "# Supervised feature selection"
   ]
  },
  {
   "cell_type": "code",
   "execution_count": null,
   "metadata": {},
   "outputs": [],
   "source": [
    "from sklearn.feature_selection import f_regression\n",
    "f_values, p_values = f_regression(X, y)"
   ]
  },
  {
   "cell_type": "code",
   "execution_count": null,
   "metadata": {},
   "outputs": [],
   "source": [
    "fig, ax = plt.subplots(2, 1)\n",
    "ax[0].set_title(\"F values\")\n",
    "ax[0].plot(f_values, 'o')\n",
    "ax[1].set_title(\"p values\")\n",
    "ax[1].plot(p_values, 'o')\n",
    "ax[1].set_yscale(\"log\")\n",
    "\n",
    "ax[1].set_xticks(range(X.shape[1]))\n",
    "ax[1].set_xticklabels(boston.feature_names, rotation=50);\n",
    "fig.tight_layout()"
   ]
  },
  {
   "cell_type": "code",
   "execution_count": null,
   "metadata": {},
   "outputs": [],
   "source": [
    "from sklearn.feature_selection import SelectKBest, SelectPercentile, SelectFpr\n",
    "from sklearn.linear_model import RidgeCV\n",
    "\n",
    "select = SelectKBest(k=2, score_func=f_regression)\n",
    "select.fit(X_train, y_train)\n",
    "print(X_train.shape)\n",
    "print(select.transform(X_train).shape)"
   ]
  },
  {
   "cell_type": "code",
   "execution_count": null,
   "metadata": {},
   "outputs": [],
   "source": [
    "all_features = make_pipeline(StandardScaler(), RidgeCV())\n",
    "select_2 = make_pipeline(StandardScaler(), SelectKBest(k=2, score_func=f_regression), RidgeCV())"
   ]
  },
  {
   "cell_type": "code",
   "execution_count": null,
   "metadata": {},
   "outputs": [],
   "source": [
    "np.mean(cross_val_score(all_features, X_train, y_train, cv=10))"
   ]
  },
  {
   "cell_type": "code",
   "execution_count": null,
   "metadata": {},
   "outputs": [],
   "source": [
    "np.mean(cross_val_score(select_2, X_train, y_train, cv=10))"
   ]
  },
  {
   "cell_type": "code",
   "execution_count": null,
   "metadata": {},
   "outputs": [],
   "source": [
    "from sklearn.feature_selection import mutual_info_regression\n",
    "scores = mutual_info_regression(X_train, y_train, discrete_features=[3])\n",
    "\n",
    "fig = plt.figure(figsize=(8, 2))\n",
    "line_f, = plt.plot(f_values, 'o', c='r')\n",
    "plt.ylabel(\"F value\")\n",
    "ax2 = plt.twinx()\n",
    "line_s, = ax2.plot(scores, 'o', alpha=.7)\n",
    "ax2.set_ylabel(\"MI score\")\n",
    "plt.xticks(range(X.shape[1]), boston.feature_names)\n",
    "plt.legend([line_s, line_f], [\"Mutual info scores\", \"F values\"], loc=(0, 1))"
   ]
  },
  {
   "cell_type": "code",
   "execution_count": null,
   "metadata": {},
   "outputs": [],
   "source": [
    "from sklearn.linear_model import LassoCV\n",
    "X_train_scaled = scale(X_train)\n",
    "lasso = LassoCV().fit(X_train_scaled, y_train)\n",
    "print(lasso.coef_)"
   ]
  },
  {
   "cell_type": "code",
   "execution_count": null,
   "metadata": {},
   "outputs": [],
   "source": [
    "fig = plt.figure(figsize=(8, 2))\n",
    "line_f, = plt.plot(f_values, 'o', c='r')\n",
    "plt.ylabel(\"F value\")\n",
    "ax2 = plt.twinx()\n",
    "ax2.set_ylabel(\"lasso coefficients\")\n",
    "line_s, = ax2.plot(np.abs(lasso.coef_), 'o', alpha=.7)\n",
    "plt.xticks(range(X.shape[1]), boston.feature_names)\n",
    "plt.legend([line_s, line_f], [\"Lasso coefficients abs\", \"F values\"], loc=(0, 1))"
   ]
  },
  {
   "cell_type": "code",
   "execution_count": null,
   "metadata": {},
   "outputs": [],
   "source": [
    "from sklearn.linear_model import Lasso\n",
    "X_train_scaled = scale(X_train)\n",
    "lasso = Lasso().fit(X_train_scaled, y_train)\n",
    "print(lasso.coef_)"
   ]
  },
  {
   "cell_type": "code",
   "execution_count": null,
   "metadata": {},
   "outputs": [],
   "source": [
    "fig = plt.figure(figsize=(8, 2))\n",
    "line_f, = plt.plot(f_values, 'o', c='r')\n",
    "plt.ylabel(\"F value\")\n",
    "ax2 = plt.twinx()\n",
    "ax2.set_ylabel(\"lasso coefficients\")\n",
    "line_s, = ax2.plot(np.abs(lasso.coef_), 'o', alpha=.7)\n",
    "plt.xticks(range(X.shape[1]), boston.feature_names)\n",
    "plt.legend([line_s, line_f], [\"Lasso coefficients abs\", \"F values\"], loc=(0, 1))"
   ]
  },
  {
   "cell_type": "code",
   "execution_count": null,
   "metadata": {},
   "outputs": [],
   "source": [
    "X_train.shape"
   ]
  },
  {
   "cell_type": "code",
   "execution_count": null,
   "metadata": {},
   "outputs": [],
   "source": [
    "from sklearn.feature_selection import SelectFromModel\n",
    "select_lassocv = SelectFromModel(LassoCV())\n",
    "select_lassocv.fit(X_train, y_train)\n",
    "print(select_lassocv.transform(X_train).shape)"
   ]
  },
  {
   "cell_type": "code",
   "execution_count": null,
   "metadata": {},
   "outputs": [],
   "source": [
    "pipe_lassocv = make_pipeline(StandardScaler(), select_lassocv, RidgeCV())\n",
    "np.mean(cross_val_score(pipe_lassocv, X_train, y_train, cv=10))"
   ]
  },
  {
   "cell_type": "code",
   "execution_count": null,
   "metadata": {},
   "outputs": [],
   "source": [
    "np.mean(cross_val_score(all_features, X_train, y_train, cv=10))"
   ]
  },
  {
   "cell_type": "code",
   "execution_count": null,
   "metadata": {},
   "outputs": [],
   "source": [
    "# could grid-search alpha in lasso\n",
    "select_lasso = SelectFromModel(Lasso())\n",
    "pipe_lasso = make_pipeline(StandardScaler(), select_lasso, RidgeCV())\n",
    "np.mean(cross_val_score(pipe_lasso, X_train, y_train, cv=10))"
   ]
  },
  {
   "cell_type": "code",
   "execution_count": null,
   "metadata": {},
   "outputs": [],
   "source": [
    "from sklearn.linear_model import LinearRegression\n",
    "from sklearn.feature_selection import RFE\n",
    "\n",
    "# create ranking among all features by selecting only one\n",
    "rfe = RFE(LinearRegression(), n_features_to_select=1)\n",
    "rfe.fit(X_train_scaled, y_train)\n",
    "rfe.ranking_"
   ]
  },
  {
   "cell_type": "code",
   "execution_count": null,
   "metadata": {},
   "outputs": [],
   "source": [
    "lr = LinearRegression().fit(X_train_scaled, y_train)\n",
    "fig = plt.figure(figsize=(8, 2))\n",
    "line_f, = plt.plot(np.abs(lr.coef_), 'o', c='r')\n",
    "plt.ylabel(\"LR coefficients abs\")\n",
    "ax2 = plt.twinx()\n",
    "ax2.set_ylabel(\"1 - RFE ranking\")\n",
    "line_s, = ax2.plot(1 - rfe.ranking_, 'o', alpha=.7)\n",
    "plt.xticks(range(X.shape[1]), boston.feature_names)\n",
    "plt.legend([line_s, line_f], [\"RFE ranking\", \"LR coefficients\"], loc=(0, 1))"
   ]
  },
  {
   "cell_type": "code",
   "execution_count": null,
   "metadata": {},
   "outputs": [],
   "source": [
    "from sklearn.linear_model import LinearRegression\n",
    "from sklearn.feature_selection import RFECV\n",
    "\n",
    "rfe = RFECV(LinearRegression(), cv=10)\n",
    "rfe.fit(X_train_scaled, y_train)\n",
    "print(rfe.support_)\n",
    "print(boston.feature_names[rfe.support_])"
   ]
  },
  {
   "cell_type": "code",
   "execution_count": null,
   "metadata": {},
   "outputs": [],
   "source": [
    "pipe_rfe_ridgecv = make_pipeline(StandardScaler(), RFECV(LinearRegression(), cv=10), RidgeCV())\n",
    "np.mean(cross_val_score(pipe_rfe_ridgecv, X_train, y_train, cv=10))"
   ]
  },
  {
   "cell_type": "code",
   "execution_count": null,
   "metadata": {},
   "outputs": [],
   "source": [
    "from sklearn.preprocessing import PolynomialFeatures\n",
    "pipe_rfe_ridgecv = make_pipeline(StandardScaler(), PolynomialFeatures(), RFECV(LinearRegression(), cv=10), RidgeCV())\n",
    "np.mean(cross_val_score(pipe_rfe_ridgecv, X_train, y_train, cv=10))"
   ]
  },
  {
   "cell_type": "code",
   "execution_count": null,
   "metadata": {},
   "outputs": [],
   "source": [
    "pipe_rfe_ridgecv.fit(X_train, y_train)\n",
    "print(pipe_rfe_ridgecv.named_steps['rfecv'].support_)"
   ]
  },
  {
   "cell_type": "code",
   "execution_count": null,
   "metadata": {},
   "outputs": [],
   "source": [
    "from mlxtend.feature_selection import SequentialFeatureSelector\n",
    "sfs = SequentialFeatureSelector(LinearRegression(), forward=False, k_features=7)\n",
    "sfs.fit(X_train_scaled, y_train)"
   ]
  },
  {
   "cell_type": "code",
   "execution_count": null,
   "metadata": {},
   "outputs": [],
   "source": [
    "print(sfs.k_feature_idx_)\n",
    "print(boston.feature_names[np.array(sfs.k_feature_idx_)])"
   ]
  },
  {
   "cell_type": "code",
   "execution_count": null,
   "metadata": {},
   "outputs": [],
   "source": [
    "sfs.k_score_"
   ]
  },
  {
   "cell_type": "code",
   "execution_count": null,
   "metadata": {},
   "outputs": [],
   "source": []
  }
 ],
 "metadata": {
  "anaconda-cloud": {},
  "kernelspec": {
   "display_name": "Python [default]",
   "language": "python",
   "name": "python3"
  },
  "language_info": {
   "codemirror_mode": {
    "name": "ipython",
    "version": 3
   },
   "file_extension": ".py",
   "mimetype": "text/x-python",
   "name": "python",
   "nbconvert_exporter": "python",
   "pygments_lexer": "ipython3",
   "version": "3.6.3"
  }
 },
 "nbformat": 4,
 "nbformat_minor": 2
}
