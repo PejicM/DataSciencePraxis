{
 "cells": [
  {
   "cell_type": "markdown",
   "metadata": {},
   "source": [
    "# Review of scikit-learn API"
   ]
  },
  {
   "cell_type": "markdown",
   "metadata": {},
   "source": [
    "# Exercise\n",
    "\n",
    "Load the dataset ``data/bank-campaign.csv`` (you can find a description in data/bank-campaign-desc.txt).\n",
    "\n",
    "This dataset is success of marketing a telephone bank marketing campaign. The goal is to predict the binary outcome \"target\", which is whether a client subscribed to a new product.\n",
    "\n",
    "Split the data into a training and a test set using ``train_test_split``.\n",
    "Use cross-validation to evaluate a RandomForestClassifier on the training part.\n",
    "Then use ``GridSearchCV`` to adjust the parameters ``max_features`` and ``max_depth``.\n",
    "Create a heat-map with the cross-validation results for the whole grid.\n",
    "\n",
    "Bonus: Also plot the influence of ``max_depth`` on runtime."
   ]
  },
  {
   "cell_type": "code",
   "execution_count": null,
   "metadata": {},
   "outputs": [],
   "source": [
    "# %load solutions/bank_campaign.py"
   ]
  },
  {
   "cell_type": "code",
   "execution_count": 35,
   "metadata": {},
   "outputs": [],
   "source": [
    "# imports\n",
    "import numpy as np\n",
    "import pandas as pd\n",
    "import matplotlib.pyplot as plt\n",
    "%matplotlib inline\n",
    "import seaborn as sns\n",
    "\n",
    "from sklearn.model_selection import train_test_split, cross_val_score, GridSearchCV\n",
    "from sklearn.ensemble import RandomForestClassifier\n",
    "from sklearn.metrics import confusion_matrix, classification_report"
   ]
  },
  {
   "cell_type": "code",
   "execution_count": 5,
   "metadata": {},
   "outputs": [
    {
     "data": {
      "text/html": [
       "<div>\n",
       "<style scoped>\n",
       "    .dataframe tbody tr th:only-of-type {\n",
       "        vertical-align: middle;\n",
       "    }\n",
       "\n",
       "    .dataframe tbody tr th {\n",
       "        vertical-align: top;\n",
       "    }\n",
       "\n",
       "    .dataframe thead th {\n",
       "        text-align: right;\n",
       "    }\n",
       "</style>\n",
       "<table border=\"1\" class=\"dataframe\">\n",
       "  <thead>\n",
       "    <tr style=\"text-align: right;\">\n",
       "      <th></th>\n",
       "      <th>age</th>\n",
       "      <th>duration</th>\n",
       "      <th>campaign</th>\n",
       "      <th>pdays</th>\n",
       "      <th>previous</th>\n",
       "      <th>emp.var.rate</th>\n",
       "      <th>cons.price.idx</th>\n",
       "      <th>cons.conf.idx</th>\n",
       "      <th>euribor3m</th>\n",
       "      <th>nr.employed</th>\n",
       "      <th>...</th>\n",
       "      <th>month_sep</th>\n",
       "      <th>day_of_week_fri</th>\n",
       "      <th>day_of_week_mon</th>\n",
       "      <th>day_of_week_thu</th>\n",
       "      <th>day_of_week_tue</th>\n",
       "      <th>day_of_week_wed</th>\n",
       "      <th>poutcome_failure</th>\n",
       "      <th>poutcome_nonexistent</th>\n",
       "      <th>poutcome_success</th>\n",
       "      <th>target</th>\n",
       "    </tr>\n",
       "  </thead>\n",
       "  <tbody>\n",
       "    <tr>\n",
       "      <th>0</th>\n",
       "      <td>56</td>\n",
       "      <td>261</td>\n",
       "      <td>1</td>\n",
       "      <td>999</td>\n",
       "      <td>0</td>\n",
       "      <td>1.1</td>\n",
       "      <td>93.994</td>\n",
       "      <td>-36.4</td>\n",
       "      <td>4.857</td>\n",
       "      <td>5191.0</td>\n",
       "      <td>...</td>\n",
       "      <td>0.0</td>\n",
       "      <td>0.0</td>\n",
       "      <td>1.0</td>\n",
       "      <td>0.0</td>\n",
       "      <td>0.0</td>\n",
       "      <td>0.0</td>\n",
       "      <td>0.0</td>\n",
       "      <td>1.0</td>\n",
       "      <td>0.0</td>\n",
       "      <td>no</td>\n",
       "    </tr>\n",
       "    <tr>\n",
       "      <th>1</th>\n",
       "      <td>57</td>\n",
       "      <td>149</td>\n",
       "      <td>1</td>\n",
       "      <td>999</td>\n",
       "      <td>0</td>\n",
       "      <td>1.1</td>\n",
       "      <td>93.994</td>\n",
       "      <td>-36.4</td>\n",
       "      <td>4.857</td>\n",
       "      <td>5191.0</td>\n",
       "      <td>...</td>\n",
       "      <td>0.0</td>\n",
       "      <td>0.0</td>\n",
       "      <td>1.0</td>\n",
       "      <td>0.0</td>\n",
       "      <td>0.0</td>\n",
       "      <td>0.0</td>\n",
       "      <td>0.0</td>\n",
       "      <td>1.0</td>\n",
       "      <td>0.0</td>\n",
       "      <td>no</td>\n",
       "    </tr>\n",
       "    <tr>\n",
       "      <th>2</th>\n",
       "      <td>37</td>\n",
       "      <td>226</td>\n",
       "      <td>1</td>\n",
       "      <td>999</td>\n",
       "      <td>0</td>\n",
       "      <td>1.1</td>\n",
       "      <td>93.994</td>\n",
       "      <td>-36.4</td>\n",
       "      <td>4.857</td>\n",
       "      <td>5191.0</td>\n",
       "      <td>...</td>\n",
       "      <td>0.0</td>\n",
       "      <td>0.0</td>\n",
       "      <td>1.0</td>\n",
       "      <td>0.0</td>\n",
       "      <td>0.0</td>\n",
       "      <td>0.0</td>\n",
       "      <td>0.0</td>\n",
       "      <td>1.0</td>\n",
       "      <td>0.0</td>\n",
       "      <td>no</td>\n",
       "    </tr>\n",
       "    <tr>\n",
       "      <th>3</th>\n",
       "      <td>40</td>\n",
       "      <td>151</td>\n",
       "      <td>1</td>\n",
       "      <td>999</td>\n",
       "      <td>0</td>\n",
       "      <td>1.1</td>\n",
       "      <td>93.994</td>\n",
       "      <td>-36.4</td>\n",
       "      <td>4.857</td>\n",
       "      <td>5191.0</td>\n",
       "      <td>...</td>\n",
       "      <td>0.0</td>\n",
       "      <td>0.0</td>\n",
       "      <td>1.0</td>\n",
       "      <td>0.0</td>\n",
       "      <td>0.0</td>\n",
       "      <td>0.0</td>\n",
       "      <td>0.0</td>\n",
       "      <td>1.0</td>\n",
       "      <td>0.0</td>\n",
       "      <td>no</td>\n",
       "    </tr>\n",
       "    <tr>\n",
       "      <th>4</th>\n",
       "      <td>56</td>\n",
       "      <td>307</td>\n",
       "      <td>1</td>\n",
       "      <td>999</td>\n",
       "      <td>0</td>\n",
       "      <td>1.1</td>\n",
       "      <td>93.994</td>\n",
       "      <td>-36.4</td>\n",
       "      <td>4.857</td>\n",
       "      <td>5191.0</td>\n",
       "      <td>...</td>\n",
       "      <td>0.0</td>\n",
       "      <td>0.0</td>\n",
       "      <td>1.0</td>\n",
       "      <td>0.0</td>\n",
       "      <td>0.0</td>\n",
       "      <td>0.0</td>\n",
       "      <td>0.0</td>\n",
       "      <td>1.0</td>\n",
       "      <td>0.0</td>\n",
       "      <td>no</td>\n",
       "    </tr>\n",
       "  </tbody>\n",
       "</table>\n",
       "<p>5 rows × 64 columns</p>\n",
       "</div>"
      ],
      "text/plain": [
       "   age  duration  campaign  pdays  previous  emp.var.rate  cons.price.idx  \\\n",
       "0   56       261         1    999         0           1.1          93.994   \n",
       "1   57       149         1    999         0           1.1          93.994   \n",
       "2   37       226         1    999         0           1.1          93.994   \n",
       "3   40       151         1    999         0           1.1          93.994   \n",
       "4   56       307         1    999         0           1.1          93.994   \n",
       "\n",
       "   cons.conf.idx  euribor3m  nr.employed  ...  month_sep  day_of_week_fri  \\\n",
       "0          -36.4      4.857       5191.0  ...        0.0              0.0   \n",
       "1          -36.4      4.857       5191.0  ...        0.0              0.0   \n",
       "2          -36.4      4.857       5191.0  ...        0.0              0.0   \n",
       "3          -36.4      4.857       5191.0  ...        0.0              0.0   \n",
       "4          -36.4      4.857       5191.0  ...        0.0              0.0   \n",
       "\n",
       "   day_of_week_mon  day_of_week_thu  day_of_week_tue  day_of_week_wed  \\\n",
       "0              1.0              0.0              0.0              0.0   \n",
       "1              1.0              0.0              0.0              0.0   \n",
       "2              1.0              0.0              0.0              0.0   \n",
       "3              1.0              0.0              0.0              0.0   \n",
       "4              1.0              0.0              0.0              0.0   \n",
       "\n",
       "   poutcome_failure  poutcome_nonexistent  poutcome_success  target  \n",
       "0               0.0                   1.0               0.0      no  \n",
       "1               0.0                   1.0               0.0      no  \n",
       "2               0.0                   1.0               0.0      no  \n",
       "3               0.0                   1.0               0.0      no  \n",
       "4               0.0                   1.0               0.0      no  \n",
       "\n",
       "[5 rows x 64 columns]"
      ]
     },
     "execution_count": 5,
     "metadata": {},
     "output_type": "execute_result"
    }
   ],
   "source": [
    "# load data\n",
    "df = pd.read_csv('data/bank-campaign.csv')\n",
    "df.head()"
   ]
  },
  {
   "cell_type": "code",
   "execution_count": 10,
   "metadata": {},
   "outputs": [
    {
     "data": {
      "text/plain": [
       "age                      0\n",
       "duration                 0\n",
       "campaign                 0\n",
       "pdays                    0\n",
       "previous                 0\n",
       "emp.var.rate             0\n",
       "cons.price.idx           0\n",
       "cons.conf.idx            0\n",
       "euribor3m                0\n",
       "nr.employed              0\n",
       "job_admin.               0\n",
       "job_blue-collar          0\n",
       "job_entrepreneur         0\n",
       "job_housemaid            0\n",
       "job_management           0\n",
       "job_retired              0\n",
       "job_self-employed        0\n",
       "job_services             0\n",
       "job_student              0\n",
       "job_technician           0\n",
       "job_unemployed           0\n",
       "job_unknown              0\n",
       "marital_divorced         0\n",
       "marital_married          0\n",
       "marital_single           0\n",
       "marital_unknown          0\n",
       "education_basic.4y       0\n",
       "education_basic.6y       0\n",
       "education_basic.9y       0\n",
       "education_high.school    0\n",
       "                        ..\n",
       "default_no               0\n",
       "default_unknown          0\n",
       "default_yes              0\n",
       "housing_no               0\n",
       "housing_unknown          0\n",
       "housing_yes              0\n",
       "loan_no                  0\n",
       "loan_unknown             0\n",
       "loan_yes                 0\n",
       "contact_cellular         0\n",
       "contact_telephone        0\n",
       "month_apr                0\n",
       "month_aug                0\n",
       "month_dec                0\n",
       "month_jul                0\n",
       "month_jun                0\n",
       "month_mar                0\n",
       "month_may                0\n",
       "month_nov                0\n",
       "month_oct                0\n",
       "month_sep                0\n",
       "day_of_week_fri          0\n",
       "day_of_week_mon          0\n",
       "day_of_week_thu          0\n",
       "day_of_week_tue          0\n",
       "day_of_week_wed          0\n",
       "poutcome_failure         0\n",
       "poutcome_nonexistent     0\n",
       "poutcome_success         0\n",
       "target                   0\n",
       "Length: 64, dtype: int64"
      ]
     },
     "execution_count": 10,
     "metadata": {},
     "output_type": "execute_result"
    }
   ],
   "source": [
    "# check if there is missing data (NaN values)\n",
    "df[df.isnull()].count()\n",
    "\n",
    "# we can see that there aren't any NaN values..."
   ]
  },
  {
   "cell_type": "code",
   "execution_count": 11,
   "metadata": {},
   "outputs": [],
   "source": [
    "# create X and y arrays\n",
    "X = df.drop('target', axis=1)\n",
    "y = df['target']"
   ]
  },
  {
   "cell_type": "code",
   "execution_count": 13,
   "metadata": {},
   "outputs": [],
   "source": [
    "# split data into training and test sets\n",
    "X_train, X_test, y_train, y_test = train_test_split(X, y, stratify=y, random_state=101)"
   ]
  },
  {
   "cell_type": "code",
   "execution_count": 23,
   "metadata": {},
   "outputs": [
    {
     "data": {
      "text/plain": [
       "RandomForestClassifier(bootstrap=True, class_weight=None, criterion='gini',\n",
       "                       max_depth=None, max_features='auto', max_leaf_nodes=None,\n",
       "                       min_impurity_decrease=0.0, min_impurity_split=None,\n",
       "                       min_samples_leaf=1, min_samples_split=2,\n",
       "                       min_weight_fraction_leaf=0.0, n_estimators=100,\n",
       "                       n_jobs=None, oob_score=False, random_state=None,\n",
       "                       verbose=0, warm_start=False)"
      ]
     },
     "execution_count": 23,
     "metadata": {},
     "output_type": "execute_result"
    }
   ],
   "source": [
    "# create and train model\n",
    "forest = RandomForestClassifier(n_estimators=100)\n",
    "forest.fit(X_train, y_train)"
   ]
  },
  {
   "cell_type": "code",
   "execution_count": 24,
   "metadata": {},
   "outputs": [
    {
     "name": "stdout",
     "output_type": "stream",
     "text": [
      "Accuracy without preprocessing and cross validation\n",
      "\tTraining data accuracy: 1.0\n",
      "\tTest data accuracy: 0.909876663105759\n"
     ]
    }
   ],
   "source": [
    "print('Accuracy without preprocessing and cross validation')\n",
    "print('\\tTraining data accuracy: {}'.format(forest.score(X_train, y_train)))\n",
    "print('\\tTest data accuracy: {}'.format(forest.score(X_test, y_test)))"
   ]
  },
  {
   "cell_type": "code",
   "execution_count": 22,
   "metadata": {},
   "outputs": [
    {
     "data": {
      "text/plain": [
       "array([0.9171521 , 0.91226934, 0.9106507 , 0.91550664, 0.91324053,\n",
       "       0.91226934, 0.9074134 , 0.91388799, 0.91680155, 0.91421172])"
      ]
     },
     "execution_count": 22,
     "metadata": {},
     "output_type": "execute_result"
    }
   ],
   "source": [
    "# cross validation\n",
    "res = cross_val_score(RandomForestClassifier(n_estimators=100), X_train, y_train, cv=10)\n",
    "res"
   ]
  },
  {
   "cell_type": "code",
   "execution_count": 29,
   "metadata": {},
   "outputs": [],
   "source": [
    "# find best values for parameters max_features and max_depth with GridSearchCV\n",
    "param_grid = {'max_features': [4, 8, 16, 20, 25, 40],\n",
    "              'max_depth': [3, 5, 8, 10, 15, 20, 30]}\n",
    "\n",
    "grid = GridSearchCV(RandomForestClassifier(n_estimators=100), param_grid, cv=10)"
   ]
  },
  {
   "cell_type": "code",
   "execution_count": 31,
   "metadata": {},
   "outputs": [
    {
     "data": {
      "text/plain": [
       "GridSearchCV(cv=10, error_score='raise-deprecating',\n",
       "             estimator=RandomForestClassifier(bootstrap=True, class_weight=None,\n",
       "                                              criterion='gini', max_depth=None,\n",
       "                                              max_features='auto',\n",
       "                                              max_leaf_nodes=None,\n",
       "                                              min_impurity_decrease=0.0,\n",
       "                                              min_impurity_split=None,\n",
       "                                              min_samples_leaf=1,\n",
       "                                              min_samples_split=2,\n",
       "                                              min_weight_fraction_leaf=0.0,\n",
       "                                              n_estimators=100, n_jobs=None,\n",
       "                                              oob_score=False,\n",
       "                                              random_state=None, verbose=0,\n",
       "                                              warm_start=False),\n",
       "             iid='warn', n_jobs=None,\n",
       "             param_grid={'max_depth': [3, 5, 8, 10, 15, 20, 30],\n",
       "                         'max_features': [4, 8, 16, 20, 25, 40]},\n",
       "             pre_dispatch='2*n_jobs', refit=True, return_train_score=False,\n",
       "             scoring=None, verbose=0)"
      ]
     },
     "execution_count": 31,
     "metadata": {},
     "output_type": "execute_result"
    }
   ],
   "source": [
    "# train model with optimal parameters (grid)\n",
    "grid.fit(X_train, y_train)"
   ]
  },
  {
   "cell_type": "code",
   "execution_count": 37,
   "metadata": {},
   "outputs": [
    {
     "name": "stdout",
     "output_type": "stream",
     "text": [
      "Accuracy with optimal parameters (grid search)\n",
      "\tTraining data accuracy: 0.9351591078307597\n",
      "\tTest data accuracy: 0.9163834126444595\n"
     ]
    }
   ],
   "source": [
    "print('Accuracy with optimal parameters (grid search)')\n",
    "print('\\tTraining data accuracy: {}'.format(grid.score(X_train, y_train)))\n",
    "print('\\tTest data accuracy: {}'.format(grid.score(X_test, y_test)))"
   ]
  },
  {
   "cell_type": "code",
   "execution_count": 34,
   "metadata": {},
   "outputs": [],
   "source": [
    "# let model make predictions\n",
    "predictions = grid.predict(X_test)"
   ]
  },
  {
   "cell_type": "code",
   "execution_count": 36,
   "metadata": {},
   "outputs": [
    {
     "name": "stdout",
     "output_type": "stream",
     "text": [
      "[[8779  358]\n",
      " [ 503  657]]\n",
      "              precision    recall  f1-score   support\n",
      "\n",
      "          no       0.95      0.96      0.95      9137\n",
      "         yes       0.65      0.57      0.60      1160\n",
      "\n",
      "    accuracy                           0.92     10297\n",
      "   macro avg       0.80      0.76      0.78     10297\n",
      "weighted avg       0.91      0.92      0.91     10297\n",
      "\n"
     ]
    }
   ],
   "source": [
    "# metrics\n",
    "print(confusion_matrix(y_test, predictions))\n",
    "print(classification_report(y_test, predictions))"
   ]
  },
  {
   "cell_type": "code",
   "execution_count": 32,
   "metadata": {},
   "outputs": [
    {
     "name": "stdout",
     "output_type": "stream",
     "text": [
      "Index(['mean_fit_time', 'std_fit_time', 'mean_score_time', 'std_score_time',\n",
      "       'param_max_depth', 'param_max_features', 'params', 'split0_test_score',\n",
      "       'split1_test_score', 'split2_test_score', 'split3_test_score',\n",
      "       'split4_test_score', 'split5_test_score', 'split6_test_score',\n",
      "       'split7_test_score', 'split8_test_score', 'split9_test_score',\n",
      "       'mean_test_score', 'std_test_score', 'rank_test_score'],\n",
      "      dtype='object')\n"
     ]
    },
    {
     "data": {
      "text/html": [
       "<div>\n",
       "<style scoped>\n",
       "    .dataframe tbody tr th:only-of-type {\n",
       "        vertical-align: middle;\n",
       "    }\n",
       "\n",
       "    .dataframe tbody tr th {\n",
       "        vertical-align: top;\n",
       "    }\n",
       "\n",
       "    .dataframe thead th {\n",
       "        text-align: right;\n",
       "    }\n",
       "</style>\n",
       "<table border=\"1\" class=\"dataframe\">\n",
       "  <thead>\n",
       "    <tr style=\"text-align: right;\">\n",
       "      <th>param_max_features</th>\n",
       "      <th>4</th>\n",
       "      <th>8</th>\n",
       "      <th>16</th>\n",
       "      <th>20</th>\n",
       "      <th>25</th>\n",
       "      <th>40</th>\n",
       "    </tr>\n",
       "    <tr>\n",
       "      <th>param_max_depth</th>\n",
       "      <th></th>\n",
       "      <th></th>\n",
       "      <th></th>\n",
       "      <th></th>\n",
       "      <th></th>\n",
       "      <th></th>\n",
       "    </tr>\n",
       "  </thead>\n",
       "  <tbody>\n",
       "    <tr>\n",
       "      <th>3</th>\n",
       "      <td>0.888576</td>\n",
       "      <td>0.900813</td>\n",
       "      <td>0.902140</td>\n",
       "      <td>0.903014</td>\n",
       "      <td>0.903920</td>\n",
       "      <td>0.906704</td>\n",
       "    </tr>\n",
       "    <tr>\n",
       "      <th>5</th>\n",
       "      <td>0.900877</td>\n",
       "      <td>0.902625</td>\n",
       "      <td>0.906510</td>\n",
       "      <td>0.908258</td>\n",
       "      <td>0.911528</td>\n",
       "      <td>0.916157</td>\n",
       "    </tr>\n",
       "    <tr>\n",
       "      <th>8</th>\n",
       "      <td>0.902172</td>\n",
       "      <td>0.907708</td>\n",
       "      <td>0.915283</td>\n",
       "      <td>0.916837</td>\n",
       "      <td>0.916901</td>\n",
       "      <td>0.917840</td>\n",
       "    </tr>\n",
       "    <tr>\n",
       "      <th>10</th>\n",
       "      <td>0.904244</td>\n",
       "      <td>0.910556</td>\n",
       "      <td>0.915898</td>\n",
       "      <td>0.916934</td>\n",
       "      <td>0.917581</td>\n",
       "      <td>0.917225</td>\n",
       "    </tr>\n",
       "    <tr>\n",
       "      <th>15</th>\n",
       "      <td>0.907546</td>\n",
       "      <td>0.913179</td>\n",
       "      <td>0.916740</td>\n",
       "      <td>0.915639</td>\n",
       "      <td>0.915930</td>\n",
       "      <td>0.914862</td>\n",
       "    </tr>\n",
       "    <tr>\n",
       "      <th>20</th>\n",
       "      <td>0.908647</td>\n",
       "      <td>0.912531</td>\n",
       "      <td>0.913794</td>\n",
       "      <td>0.914862</td>\n",
       "      <td>0.913761</td>\n",
       "      <td>0.913664</td>\n",
       "    </tr>\n",
       "    <tr>\n",
       "      <th>30</th>\n",
       "      <td>0.909294</td>\n",
       "      <td>0.913340</td>\n",
       "      <td>0.913891</td>\n",
       "      <td>0.914053</td>\n",
       "      <td>0.913438</td>\n",
       "      <td>0.913988</td>\n",
       "    </tr>\n",
       "  </tbody>\n",
       "</table>\n",
       "</div>"
      ],
      "text/plain": [
       "param_max_features        4         8         16        20        25        40\n",
       "param_max_depth                                                               \n",
       "3                   0.888576  0.900813  0.902140  0.903014  0.903920  0.906704\n",
       "5                   0.900877  0.902625  0.906510  0.908258  0.911528  0.916157\n",
       "8                   0.902172  0.907708  0.915283  0.916837  0.916901  0.917840\n",
       "10                  0.904244  0.910556  0.915898  0.916934  0.917581  0.917225\n",
       "15                  0.907546  0.913179  0.916740  0.915639  0.915930  0.914862\n",
       "20                  0.908647  0.912531  0.913794  0.914862  0.913761  0.913664\n",
       "30                  0.909294  0.913340  0.913891  0.914053  0.913438  0.913988"
      ]
     },
     "metadata": {},
     "output_type": "display_data"
    }
   ],
   "source": [
    "res = pd.DataFrame(grid.cv_results_)\n",
    "print(res.keys())\n",
    "res_piv = pd.pivot_table(\n",
    "    res, values='mean_test_score', index='param_max_depth',\n",
    "    columns='param_max_features')\n",
    "\n",
    "display(res_piv)\n"
   ]
  },
  {
   "cell_type": "code",
   "execution_count": 38,
   "metadata": {},
   "outputs": [
    {
     "data": {
      "text/plain": [
       "<matplotlib.colorbar.Colorbar at 0x24e36815b70>"
      ]
     },
     "execution_count": 38,
     "metadata": {},
     "output_type": "execute_result"
    },
    {
     "data": {
      "image/png": "[encoded data removed]",
      "text/plain": [
       "<Figure size 288x336 with 2 Axes>"
      ]
     },
     "metadata": {
      "needs_background": "light"
     },
     "output_type": "display_data"
    }
   ],
   "source": [
    "plt.matshow(res_piv.values)\n",
    "plt.xlabel(res_piv.columns.name)\n",
    "plt.xticks(range(res_piv.shape[1]), res_piv.columns)\n",
    "plt.ylabel(res_piv.index.name)\n",
    "plt.yticks(range(res_piv.shape[0]), res_piv.index);\n",
    "plt.colorbar()"
   ]
  }
 ],
 "metadata": {
  "anaconda-cloud": {},
  "kernelspec": {
   "display_name": "Python 3",
   "language": "python",
   "name": "python3"
  },
  "language_info": {
   "codemirror_mode": {
    "name": "ipython",
    "version": 3
   },
   "file_extension": ".py",
   "mimetype": "text/x-python",
   "name": "python",
   "nbconvert_exporter": "python",
   "pygments_lexer": "ipython3",
   "version": "3.7.3"
  }
 },
 "nbformat": 4,
 "nbformat_minor": 2
}
