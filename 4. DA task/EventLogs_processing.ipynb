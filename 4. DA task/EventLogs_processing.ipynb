{
 "cells": [
  {
   "cell_type": "markdown",
   "metadata": {},
   "source": [
    "# Data Analysis Task\n",
    "\n",
    "## Background\n",
    "\n",
    "*Event logging* (EL) is used to track a variety of performance and usage metrics to help on the decision making process. Specifically, the most used metrics are:\n",
    "\n",
    "- *clickthrough rate*: the proportion of search sessions where the user clicked on one of the results displayed\n",
    "- *zero results rate*: the proportion of searches that yielded 0 results\n",
    "\n",
    "and other metrics outside the scope of this task. EL uses JavaScript to asynchronously send messages (events) to the servers when the user has performed specific actions. In this task, you will analyze a subset of our event logs.\n",
    "\n",
    "## Task\n",
    "\n",
    "You must create a **reproducible report**\\* answering the following questions:\n",
    "\n",
    "1. What is the daily overall clickthrough rate? How does it vary between the groups?\n",
    "2. Which results do people tend to try first? How does it change day-to-day?\n",
    "3. What is the daily overall zero results rate? How does it vary between the groups?\n",
    "4. Let *session length* be approximately the time between the first event and the last event in a session. Choose a variable from the dataset and describe its relationship to session length. Visualize the relationship.\n",
    "5. Summarize your findings in an *executive summary*.\n",
    "\n",
    "## Data\n",
    "\n",
    "Desktop users are randomly sampled to be anonymously tracked by this schema which uses a \"I'm alive\" pinging system that it is used to estimate how long users stay on the pages they visit. The dataset contains just a little more than a week of EL data.\n",
    "\n",
    "| Column          | Value   | Description                                                                       |\n",
    "|:----------------|:--------|:----------------------------------------------------------------------------------|\n",
    "| uuid            | string  | Universally unique identifier (UUID) for backend event handling.|\n",
    "| timestamp       | integer | The date and time (UTC) of the event, formatted as YYYYMMDDhhmmss.                |\n",
    "| session_id      | string  | A unique ID identifying individual sessions.                                      |\n",
    "| group           | string  | A label (\"a\" or \"b\").                               |\n",
    "| action          | string  | Identifies in which the event was created. See below.                             |\n",
    "| checkin         | integer | How many seconds the page has been open for.                                      |\n",
    "| page_id         | string  | A unique identifier for correlating page visits and check-ins.                    |\n",
    "| n_results       | integer | Number of hits returned to the user. Only shown for searchResultPage events.      |\n",
    "| result_position | integer | The position of the visited page's link on the search engine results page (SERP). |\n",
    "\n",
    "The following are possible values for an event's action field:\n",
    "\n",
    "- **searchResultPage**: when a new search is performed and the user is shown a SERP.\n",
    "- **visitPage**: when the user clicks a link in the results.\n",
    "- **checkin**: when the user has remained on the page for a pre-specified amount of time.\n",
    "\n",
    "### Example Session\n",
    "\n",
    "|uuid                             |      timestamp|session_id       |group |action           | checkin|page_id          | n_results| result_position|\n",
    "|:--------------------------------|:--------------|:----------------|:-----|:----------------|-------:|:----------------|---------:|---------------:|\n",
    "|4f699f344515554a9371fe4ecb5b9ebc | 20160305195246|001e61b5477f5efc |b     |searchResultPage |      NA|1b341d0ab80eb77e |         7|              NA|\n",
    "|759d1dc9966353c2a36846a61125f286 | 20160305195302|001e61b5477f5efc |b     |visitPage        |      NA|5a6a1f75124cbf03 |        NA|               1|\n",
    "|77efd5a00a5053c4a713fbe5a48dbac4 | 20160305195312|001e61b5477f5efc |b     |checkin          |      10|5a6a1f75124cbf03 |        NA|               1|\n",
    "|42420284ad895ec4bcb1f000b949dd5e | 20160305195322|001e61b5477f5efc |b     |checkin          |      20|5a6a1f75124cbf03 |        NA|               1|\n",
    "|8ffd82c27a355a56882b5860993bd308 | 20160305195332|001e61b5477f5efc |b     |checkin          |      30|5a6a1f75124cbf03 |        NA|               1|\n",
    "|2988d11968b25b29add3a851bec2fe02 | 20160305195342|001e61b5477f5efc |b     |checkin          |      40|5a6a1f75124cbf03 |        NA|               1|\n",
    "\n",
    "This user's search query returned 7 results, they clicked on the first result, and stayed on the page between 40 and 50 seconds. (The next check-in would have happened at 50s.)\n",
    "\n",
    "Task 100% inspired by this one -> https://github.com/wikimedia-research/Discovery-Hiring-Analyst-2016\n",
    "\n",
    "\n",
    "\n"
   ]
  },
  {
   "cell_type": "code",
   "execution_count": 2,
   "metadata": {},
   "outputs": [],
   "source": [
    "# imports\n",
    "import numpy as np\n",
    "import pandas as pd\n",
    "import matplotlib.pyplot as plt\n",
    "import seaborn as sns\n",
    "%matplotlib inline\n",
    "\n",
    "# style of plots\n",
    "sns.set_style(\"darkgrid\")"
   ]
  },
  {
   "cell_type": "code",
   "execution_count": 3,
   "metadata": {},
   "outputs": [],
   "source": [
    "# data loading\n",
    "df = pd.read_csv('events_log.csv')"
   ]
  },
  {
   "cell_type": "code",
   "execution_count": 4,
   "metadata": {},
   "outputs": [
    {
     "name": "stdout",
     "output_type": "stream",
     "text": [
      "<class 'pandas.core.frame.DataFrame'>\n",
      "RangeIndex: 400165 entries, 0 to 400164\n",
      "Data columns (total 9 columns):\n",
      "uuid               400165 non-null object\n",
      "timestamp          400165 non-null float64\n",
      "session_id         400165 non-null object\n",
      "group              400165 non-null object\n",
      "action             400165 non-null object\n",
      "checkin            223824 non-null float64\n",
      "page_id            400165 non-null object\n",
      "n_results          136234 non-null float64\n",
      "result_position    230482 non-null float64\n",
      "dtypes: float64(4), object(5)\n",
      "memory usage: 27.5+ MB\n"
     ]
    }
   ],
   "source": [
    "# dataset info\n",
    "df.info()"
   ]
  },
  {
   "cell_type": "code",
   "execution_count": 5,
   "metadata": {},
   "outputs": [
    {
     "data": {
      "text/html": [
       "<div>\n",
       "<style scoped>\n",
       "    .dataframe tbody tr th:only-of-type {\n",
       "        vertical-align: middle;\n",
       "    }\n",
       "\n",
       "    .dataframe tbody tr th {\n",
       "        vertical-align: top;\n",
       "    }\n",
       "\n",
       "    .dataframe thead th {\n",
       "        text-align: right;\n",
       "    }\n",
       "</style>\n",
       "<table border=\"1\" class=\"dataframe\">\n",
       "  <thead>\n",
       "    <tr style=\"text-align: right;\">\n",
       "      <th></th>\n",
       "      <th>uuid</th>\n",
       "      <th>timestamp</th>\n",
       "      <th>session_id</th>\n",
       "      <th>group</th>\n",
       "      <th>action</th>\n",
       "      <th>checkin</th>\n",
       "      <th>page_id</th>\n",
       "      <th>n_results</th>\n",
       "      <th>result_position</th>\n",
       "    </tr>\n",
       "  </thead>\n",
       "  <tbody>\n",
       "    <tr>\n",
       "      <th>0</th>\n",
       "      <td>00000736167c507e8ec225bd9e71f9e5</td>\n",
       "      <td>2.016030e+13</td>\n",
       "      <td>78245c2c3fba013a</td>\n",
       "      <td>b</td>\n",
       "      <td>searchResultPage</td>\n",
       "      <td>NaN</td>\n",
       "      <td>cbeb66d1bc1f1bc2</td>\n",
       "      <td>5.0</td>\n",
       "      <td>NaN</td>\n",
       "    </tr>\n",
       "    <tr>\n",
       "      <th>1</th>\n",
       "      <td>00000c69fe345268935463abbfa5d5b3</td>\n",
       "      <td>2.016031e+13</td>\n",
       "      <td>c559c3be98dca8a4</td>\n",
       "      <td>a</td>\n",
       "      <td>searchResultPage</td>\n",
       "      <td>NaN</td>\n",
       "      <td>eb658e8722aad674</td>\n",
       "      <td>10.0</td>\n",
       "      <td>NaN</td>\n",
       "    </tr>\n",
       "    <tr>\n",
       "      <th>2</th>\n",
       "      <td>00003bfdab715ee59077a3670331b787</td>\n",
       "      <td>2.016030e+13</td>\n",
       "      <td>760bf89817ce4b08</td>\n",
       "      <td>a</td>\n",
       "      <td>checkin</td>\n",
       "      <td>30.0</td>\n",
       "      <td>f99a9fc1f7fdd21e</td>\n",
       "      <td>NaN</td>\n",
       "      <td>NaN</td>\n",
       "    </tr>\n",
       "    <tr>\n",
       "      <th>3</th>\n",
       "      <td>0000465cd7c35ad2bdeafec953e08c1a</td>\n",
       "      <td>2.016030e+13</td>\n",
       "      <td>fb905603d31b2071</td>\n",
       "      <td>a</td>\n",
       "      <td>checkin</td>\n",
       "      <td>60.0</td>\n",
       "      <td>e5626962a6939a75</td>\n",
       "      <td>NaN</td>\n",
       "      <td>10.0</td>\n",
       "    </tr>\n",
       "    <tr>\n",
       "      <th>4</th>\n",
       "      <td>000050cbb4ef5b42b16c4d2cf69e6358</td>\n",
       "      <td>2.016030e+13</td>\n",
       "      <td>c2bf5e5172a892dc</td>\n",
       "      <td>a</td>\n",
       "      <td>checkin</td>\n",
       "      <td>30.0</td>\n",
       "      <td>787dd6a4c371cbf9</td>\n",
       "      <td>NaN</td>\n",
       "      <td>NaN</td>\n",
       "    </tr>\n",
       "  </tbody>\n",
       "</table>\n",
       "</div>"
      ],
      "text/plain": [
       "                               uuid     timestamp        session_id group  \\\n",
       "0  00000736167c507e8ec225bd9e71f9e5  2.016030e+13  78245c2c3fba013a     b   \n",
       "1  00000c69fe345268935463abbfa5d5b3  2.016031e+13  c559c3be98dca8a4     a   \n",
       "2  00003bfdab715ee59077a3670331b787  2.016030e+13  760bf89817ce4b08     a   \n",
       "3  0000465cd7c35ad2bdeafec953e08c1a  2.016030e+13  fb905603d31b2071     a   \n",
       "4  000050cbb4ef5b42b16c4d2cf69e6358  2.016030e+13  c2bf5e5172a892dc     a   \n",
       "\n",
       "             action  checkin           page_id  n_results  result_position  \n",
       "0  searchResultPage      NaN  cbeb66d1bc1f1bc2        5.0              NaN  \n",
       "1  searchResultPage      NaN  eb658e8722aad674       10.0              NaN  \n",
       "2           checkin     30.0  f99a9fc1f7fdd21e        NaN              NaN  \n",
       "3           checkin     60.0  e5626962a6939a75        NaN             10.0  \n",
       "4           checkin     30.0  787dd6a4c371cbf9        NaN              NaN  "
      ]
     },
     "execution_count": 5,
     "metadata": {},
     "output_type": "execute_result"
    }
   ],
   "source": [
    "df.head()"
   ]
  },
  {
   "cell_type": "code",
   "execution_count": 6,
   "metadata": {},
   "outputs": [
    {
     "data": {
      "text/html": [
       "<div>\n",
       "<style scoped>\n",
       "    .dataframe tbody tr th:only-of-type {\n",
       "        vertical-align: middle;\n",
       "    }\n",
       "\n",
       "    .dataframe tbody tr th {\n",
       "        vertical-align: top;\n",
       "    }\n",
       "\n",
       "    .dataframe thead th {\n",
       "        text-align: right;\n",
       "    }\n",
       "</style>\n",
       "<table border=\"1\" class=\"dataframe\">\n",
       "  <thead>\n",
       "    <tr style=\"text-align: right;\">\n",
       "      <th></th>\n",
       "      <th>uuid</th>\n",
       "      <th>timestamp</th>\n",
       "      <th>session_id</th>\n",
       "      <th>group</th>\n",
       "      <th>action</th>\n",
       "      <th>checkin</th>\n",
       "      <th>page_id</th>\n",
       "      <th>n_results</th>\n",
       "      <th>result_position</th>\n",
       "      <th>date</th>\n",
       "    </tr>\n",
       "  </thead>\n",
       "  <tbody>\n",
       "    <tr>\n",
       "      <th>0</th>\n",
       "      <td>00000736167c507e8ec225bd9e71f9e5</td>\n",
       "      <td>2016-03-01 10:38:42</td>\n",
       "      <td>78245c2c3fba013a</td>\n",
       "      <td>b</td>\n",
       "      <td>searchResultPage</td>\n",
       "      <td>NaN</td>\n",
       "      <td>cbeb66d1bc1f1bc2</td>\n",
       "      <td>5.0</td>\n",
       "      <td>NaN</td>\n",
       "      <td>2016-03-01</td>\n",
       "    </tr>\n",
       "    <tr>\n",
       "      <th>1</th>\n",
       "      <td>00000c69fe345268935463abbfa5d5b3</td>\n",
       "      <td>2016-03-07 00:52:26</td>\n",
       "      <td>c559c3be98dca8a4</td>\n",
       "      <td>a</td>\n",
       "      <td>searchResultPage</td>\n",
       "      <td>NaN</td>\n",
       "      <td>eb658e8722aad674</td>\n",
       "      <td>10.0</td>\n",
       "      <td>NaN</td>\n",
       "      <td>2016-03-07</td>\n",
       "    </tr>\n",
       "    <tr>\n",
       "      <th>2</th>\n",
       "      <td>00003bfdab715ee59077a3670331b787</td>\n",
       "      <td>2016-03-02 14:53:05</td>\n",
       "      <td>760bf89817ce4b08</td>\n",
       "      <td>a</td>\n",
       "      <td>checkin</td>\n",
       "      <td>30.0</td>\n",
       "      <td>f99a9fc1f7fdd21e</td>\n",
       "      <td>NaN</td>\n",
       "      <td>NaN</td>\n",
       "      <td>2016-03-02</td>\n",
       "    </tr>\n",
       "    <tr>\n",
       "      <th>3</th>\n",
       "      <td>0000465cd7c35ad2bdeafec953e08c1a</td>\n",
       "      <td>2016-03-02 22:27:01</td>\n",
       "      <td>fb905603d31b2071</td>\n",
       "      <td>a</td>\n",
       "      <td>checkin</td>\n",
       "      <td>60.0</td>\n",
       "      <td>e5626962a6939a75</td>\n",
       "      <td>NaN</td>\n",
       "      <td>10.0</td>\n",
       "      <td>2016-03-02</td>\n",
       "    </tr>\n",
       "    <tr>\n",
       "      <th>4</th>\n",
       "      <td>000050cbb4ef5b42b16c4d2cf69e6358</td>\n",
       "      <td>2016-03-02 09:50:23</td>\n",
       "      <td>c2bf5e5172a892dc</td>\n",
       "      <td>a</td>\n",
       "      <td>checkin</td>\n",
       "      <td>30.0</td>\n",
       "      <td>787dd6a4c371cbf9</td>\n",
       "      <td>NaN</td>\n",
       "      <td>NaN</td>\n",
       "      <td>2016-03-02</td>\n",
       "    </tr>\n",
       "  </tbody>\n",
       "</table>\n",
       "</div>"
      ],
      "text/plain": [
       "                               uuid           timestamp        session_id  \\\n",
       "0  00000736167c507e8ec225bd9e71f9e5 2016-03-01 10:38:42  78245c2c3fba013a   \n",
       "1  00000c69fe345268935463abbfa5d5b3 2016-03-07 00:52:26  c559c3be98dca8a4   \n",
       "2  00003bfdab715ee59077a3670331b787 2016-03-02 14:53:05  760bf89817ce4b08   \n",
       "3  0000465cd7c35ad2bdeafec953e08c1a 2016-03-02 22:27:01  fb905603d31b2071   \n",
       "4  000050cbb4ef5b42b16c4d2cf69e6358 2016-03-02 09:50:23  c2bf5e5172a892dc   \n",
       "\n",
       "  group            action  checkin           page_id  n_results  \\\n",
       "0     b  searchResultPage      NaN  cbeb66d1bc1f1bc2        5.0   \n",
       "1     a  searchResultPage      NaN  eb658e8722aad674       10.0   \n",
       "2     a           checkin     30.0  f99a9fc1f7fdd21e        NaN   \n",
       "3     a           checkin     60.0  e5626962a6939a75        NaN   \n",
       "4     a           checkin     30.0  787dd6a4c371cbf9        NaN   \n",
       "\n",
       "   result_position        date  \n",
       "0              NaN  2016-03-01  \n",
       "1              NaN  2016-03-07  \n",
       "2              NaN  2016-03-02  \n",
       "3             10.0  2016-03-02  \n",
       "4              NaN  2016-03-02  "
      ]
     },
     "execution_count": 6,
     "metadata": {},
     "output_type": "execute_result"
    }
   ],
   "source": [
    "# Convert timestamp from float to datetime\n",
    "df['timestamp'] = pd.to_datetime(df['timestamp'], format='%Y%m%d%H%M%S')\n",
    "\n",
    "# Create new column with only date from timestamp\n",
    "df['date'] = df['timestamp'].apply(lambda var: var.date())\n",
    "df.head()"
   ]
  },
  {
   "cell_type": "code",
   "execution_count": 7,
   "metadata": {},
   "outputs": [
    {
     "data": {
      "text/plain": [
       "2016-03-03    60644\n",
       "2016-03-02    60322\n",
       "2016-03-01    59324\n",
       "2016-03-07    52558\n",
       "2016-03-04    45746\n",
       "2016-03-08    44129\n",
       "2016-03-06    41200\n",
       "2016-03-05    36242\n",
       "Name: date, dtype: int64"
      ]
     },
     "execution_count": 7,
     "metadata": {},
     "output_type": "execute_result"
    }
   ],
   "source": [
    "# Number of data for different dates\n",
    "df['date'].value_counts()"
   ]
  },
  {
   "cell_type": "code",
   "execution_count": 8,
   "metadata": {},
   "outputs": [
    {
     "data": {
      "text/plain": [
       "Text(0.5, 1.0, 'Total number of clicks')"
      ]
     },
     "execution_count": 8,
     "metadata": {},
     "output_type": "execute_result"
    },
    {
     "data": {
      "image/png": "[encoded data removed]",
      "text/plain": [
       "<Figure size 1080x576 with 1 Axes>"
      ]
     },
     "metadata": {
      "needs_background": "light"
     },
     "output_type": "display_data"
    }
   ],
   "source": [
    "# Total number of clicks by dates\n",
    "df[df['action'] == 'visitPage'].groupby('date')['page_id'].count().plot(figsize=(15, 8), kind='bar')\n",
    "plt.title('Total number of clicks')"
   ]
  },
  {
   "cell_type": "code",
   "execution_count": 9,
   "metadata": {},
   "outputs": [
    {
     "data": {
      "text/plain": [
       "Text(0.5, 1.0, 'Total number of clicks')"
      ]
     },
     "execution_count": 9,
     "metadata": {},
     "output_type": "execute_result"
    },
    {
     "data": {
      "image/png": "[encoded data removed]",
      "text/plain": [
       "<Figure size 1080x576 with 1 Axes>"
      ]
     },
     "metadata": {
      "needs_background": "light"
     },
     "output_type": "display_data"
    }
   ],
   "source": [
    "# Total number of clicks by dates, for different groups\n",
    "visitPageGroup = df[df['action'] == 'visitPage']\n",
    "\n",
    "plt.figure(figsize=(15, 8))\n",
    "sns.countplot(x='date', data=visitPageGroup, hue='group')\n",
    "plt.title('Total number of clicks')"
   ]
  },
  {
   "cell_type": "code",
   "execution_count": 10,
   "metadata": {},
   "outputs": [
    {
     "data": {
      "text/html": [
       "<div>\n",
       "<style scoped>\n",
       "    .dataframe tbody tr th:only-of-type {\n",
       "        vertical-align: middle;\n",
       "    }\n",
       "\n",
       "    .dataframe tbody tr th {\n",
       "        vertical-align: top;\n",
       "    }\n",
       "\n",
       "    .dataframe thead th {\n",
       "        text-align: right;\n",
       "    }\n",
       "</style>\n",
       "<table border=\"1\" class=\"dataframe\">\n",
       "  <thead>\n",
       "    <tr style=\"text-align: right;\">\n",
       "      <th></th>\n",
       "      <th>uuid</th>\n",
       "      <th>timestamp</th>\n",
       "      <th>session_id</th>\n",
       "      <th>group</th>\n",
       "      <th>action</th>\n",
       "      <th>checkin</th>\n",
       "      <th>page_id</th>\n",
       "      <th>n_results</th>\n",
       "      <th>result_position</th>\n",
       "      <th>date</th>\n",
       "      <th>day of week</th>\n",
       "    </tr>\n",
       "  </thead>\n",
       "  <tbody>\n",
       "    <tr>\n",
       "      <th>0</th>\n",
       "      <td>00000736167c507e8ec225bd9e71f9e5</td>\n",
       "      <td>2016-03-01 10:38:42</td>\n",
       "      <td>78245c2c3fba013a</td>\n",
       "      <td>b</td>\n",
       "      <td>searchResultPage</td>\n",
       "      <td>NaN</td>\n",
       "      <td>cbeb66d1bc1f1bc2</td>\n",
       "      <td>5.0</td>\n",
       "      <td>NaN</td>\n",
       "      <td>2016-03-01</td>\n",
       "      <td>Tue</td>\n",
       "    </tr>\n",
       "    <tr>\n",
       "      <th>1</th>\n",
       "      <td>00000c69fe345268935463abbfa5d5b3</td>\n",
       "      <td>2016-03-07 00:52:26</td>\n",
       "      <td>c559c3be98dca8a4</td>\n",
       "      <td>a</td>\n",
       "      <td>searchResultPage</td>\n",
       "      <td>NaN</td>\n",
       "      <td>eb658e8722aad674</td>\n",
       "      <td>10.0</td>\n",
       "      <td>NaN</td>\n",
       "      <td>2016-03-07</td>\n",
       "      <td>Mon</td>\n",
       "    </tr>\n",
       "    <tr>\n",
       "      <th>2</th>\n",
       "      <td>00003bfdab715ee59077a3670331b787</td>\n",
       "      <td>2016-03-02 14:53:05</td>\n",
       "      <td>760bf89817ce4b08</td>\n",
       "      <td>a</td>\n",
       "      <td>checkin</td>\n",
       "      <td>30.0</td>\n",
       "      <td>f99a9fc1f7fdd21e</td>\n",
       "      <td>NaN</td>\n",
       "      <td>NaN</td>\n",
       "      <td>2016-03-02</td>\n",
       "      <td>Wed</td>\n",
       "    </tr>\n",
       "    <tr>\n",
       "      <th>3</th>\n",
       "      <td>0000465cd7c35ad2bdeafec953e08c1a</td>\n",
       "      <td>2016-03-02 22:27:01</td>\n",
       "      <td>fb905603d31b2071</td>\n",
       "      <td>a</td>\n",
       "      <td>checkin</td>\n",
       "      <td>60.0</td>\n",
       "      <td>e5626962a6939a75</td>\n",
       "      <td>NaN</td>\n",
       "      <td>10.0</td>\n",
       "      <td>2016-03-02</td>\n",
       "      <td>Wed</td>\n",
       "    </tr>\n",
       "    <tr>\n",
       "      <th>4</th>\n",
       "      <td>000050cbb4ef5b42b16c4d2cf69e6358</td>\n",
       "      <td>2016-03-02 09:50:23</td>\n",
       "      <td>c2bf5e5172a892dc</td>\n",
       "      <td>a</td>\n",
       "      <td>checkin</td>\n",
       "      <td>30.0</td>\n",
       "      <td>787dd6a4c371cbf9</td>\n",
       "      <td>NaN</td>\n",
       "      <td>NaN</td>\n",
       "      <td>2016-03-02</td>\n",
       "      <td>Wed</td>\n",
       "    </tr>\n",
       "  </tbody>\n",
       "</table>\n",
       "</div>"
      ],
      "text/plain": [
       "                               uuid           timestamp        session_id  \\\n",
       "0  00000736167c507e8ec225bd9e71f9e5 2016-03-01 10:38:42  78245c2c3fba013a   \n",
       "1  00000c69fe345268935463abbfa5d5b3 2016-03-07 00:52:26  c559c3be98dca8a4   \n",
       "2  00003bfdab715ee59077a3670331b787 2016-03-02 14:53:05  760bf89817ce4b08   \n",
       "3  0000465cd7c35ad2bdeafec953e08c1a 2016-03-02 22:27:01  fb905603d31b2071   \n",
       "4  000050cbb4ef5b42b16c4d2cf69e6358 2016-03-02 09:50:23  c2bf5e5172a892dc   \n",
       "\n",
       "  group            action  checkin           page_id  n_results  \\\n",
       "0     b  searchResultPage      NaN  cbeb66d1bc1f1bc2        5.0   \n",
       "1     a  searchResultPage      NaN  eb658e8722aad674       10.0   \n",
       "2     a           checkin     30.0  f99a9fc1f7fdd21e        NaN   \n",
       "3     a           checkin     60.0  e5626962a6939a75        NaN   \n",
       "4     a           checkin     30.0  787dd6a4c371cbf9        NaN   \n",
       "\n",
       "   result_position        date day of week  \n",
       "0              NaN  2016-03-01         Tue  \n",
       "1              NaN  2016-03-07         Mon  \n",
       "2              NaN  2016-03-02         Wed  \n",
       "3             10.0  2016-03-02         Wed  \n",
       "4              NaN  2016-03-02         Wed  "
      ]
     },
     "execution_count": 10,
     "metadata": {},
     "output_type": "execute_result"
    }
   ],
   "source": [
    "# create new column day of week\n",
    "df['day of week'] = df['timestamp'].apply(lambda var: var.weekday())\n",
    "\n",
    "# change values in new column into strings\n",
    "dmap = {0:'Mon',1:'Tue',2:'Wed',3:'Thu',4:'Fri',5:'Sat',6:'Sun'}\n",
    "df['day of week'] = df['day of week'].map(dmap)\n",
    "df.head()"
   ]
  },
  {
   "cell_type": "code",
   "execution_count": 11,
   "metadata": {},
   "outputs": [
    {
     "data": {
      "text/plain": [
       "Text(0.5, 1.0, 'Total number of clicks')"
      ]
     },
     "execution_count": 11,
     "metadata": {},
     "output_type": "execute_result"
    },
    {
     "data": {
      "image/png": "[encoded data removed]",
      "text/plain": [
       "<Figure size 1080x576 with 1 Axes>"
      ]
     },
     "metadata": {
      "needs_background": "light"
     },
     "output_type": "display_data"
    }
   ],
   "source": [
    "# Total number of clicks by days (NOT DATES), for different groups\n",
    "visitPageGroup = df[df['action'] == 'visitPage']\n",
    "\n",
    "plt.figure(figsize=(15, 8))\n",
    "sns.countplot(x='day of week', data=visitPageGroup, hue='group')\n",
    "plt.title('Total number of clicks')"
   ]
  },
  {
   "cell_type": "markdown",
   "metadata": {},
   "source": [
    "Total clickthrough rate\n",
    "by definition: (clickSessionNum / sessionNum) * 100%"
   ]
  },
  {
   "cell_type": "code",
   "execution_count": 12,
   "metadata": {},
   "outputs": [
    {
     "data": {
      "text/plain": [
       "68013"
      ]
     },
     "execution_count": 12,
     "metadata": {},
     "output_type": "execute_result"
    }
   ],
   "source": [
    "# number of sessions (without checkins, because their already included in visitPage action)\n",
    "sessionNum = df[df['action'] != 'checkin']['session_id'].nunique()\n",
    "sessionNum\n",
    "#allSessions = df[df['action'] != 'checkin'].groupby('session_id').count()['page_id']\n",
    "#allSessions\n",
    "#len(allSessions)"
   ]
  },
  {
   "cell_type": "code",
   "execution_count": 13,
   "metadata": {},
   "outputs": [
    {
     "data": {
      "text/plain": [
       "26452"
      ]
     },
     "execution_count": 13,
     "metadata": {},
     "output_type": "execute_result"
    }
   ],
   "source": [
    "# number of sessions with click on one of search results\n",
    "clickSessions = df[df['action'] == 'visitPage'].groupby('session_id').count()['page_id']\n",
    "clickSessionNum = len(clickSessions)\n",
    "clickSessionNum"
   ]
  },
  {
   "cell_type": "code",
   "execution_count": 14,
   "metadata": {},
   "outputs": [
    {
     "name": "stdout",
     "output_type": "stream",
     "text": [
      "total clickthrought rate by first definition = 38.8925646567568 %\n"
     ]
    }
   ],
   "source": [
    "# DEF 1. total clickthrough rate (by definition: (clickSessionNum / sessionNum) * 100% )\n",
    "clickthroughtRate1 = (clickSessionNum / sessionNum) * 100\n",
    "print('total clickthrought rate by first definition = {} %'.format(clickthroughtRate1))"
   ]
  },
  {
   "cell_type": "markdown",
   "metadata": {},
   "source": [
    "Total clickthrough rate by definition: (clickSessionNum / sessionNum) * 100%\n",
    "\n",
    "For each of dates"
   ]
  },
  {
   "cell_type": "code",
   "execution_count": 15,
   "metadata": {},
   "outputs": [
    {
     "data": {
      "text/plain": [
       "date\n",
       "2016-03-01    9252\n",
       "2016-03-02    9206\n",
       "2016-03-03    9350\n",
       "2016-03-04    8248\n",
       "2016-03-05    6733\n",
       "2016-03-06    7643\n",
       "2016-03-07    9541\n",
       "2016-03-08    8084\n",
       "Name: session_id, dtype: int64"
      ]
     },
     "execution_count": 15,
     "metadata": {},
     "output_type": "execute_result"
    }
   ],
   "source": [
    "# DEF 1. total clickthrough rate (by definition: (clickSessionNum / sessionNum) * 100% ) for each date\n",
    "# number of sessions for each day\n",
    "sessionsByDate = df[df['action'] != 'checkin'].groupby(['date'])['session_id'].nunique()\n",
    "sessionsByDate"
   ]
  },
  {
   "cell_type": "code",
   "execution_count": 16,
   "metadata": {},
   "outputs": [
    {
     "data": {
      "text/plain": [
       "date\n",
       "2016-03-01    3524\n",
       "2016-03-02    3602\n",
       "2016-03-03    3626\n",
       "2016-03-04    3287\n",
       "2016-03-05    2573\n",
       "2016-03-06    2968\n",
       "2016-03-07    3747\n",
       "2016-03-08    3140\n",
       "Name: session_id, dtype: int64"
      ]
     },
     "execution_count": 16,
     "metadata": {},
     "output_type": "execute_result"
    }
   ],
   "source": [
    "clickSessionsByDate = df[df['action'] == 'visitPage'].groupby('date')['session_id'].nunique()\n",
    "clickSessionsByDate"
   ]
  },
  {
   "cell_type": "code",
   "execution_count": 17,
   "metadata": {},
   "outputs": [
    {
     "data": {
      "text/plain": [
       "Text(0.5, 1.0, 'Clickthrough rate by dates')"
      ]
     },
     "execution_count": 17,
     "metadata": {},
     "output_type": "execute_result"
    },
    {
     "data": {
      "image/png": "[encoded data removed]",
      "text/plain": [
       "<Figure size 1080x576 with 1 Axes>"
      ]
     },
     "metadata": {
      "needs_background": "light"
     },
     "output_type": "display_data"
    }
   ],
   "source": [
    "ctrDates1 = ((clickSessionsByDate / sessionsByDate) * 100).plot(figsize=(15, 8))\n",
    "plt.title('Clickthrough rate by dates')"
   ]
  },
  {
   "cell_type": "markdown",
   "metadata": {},
   "source": [
    "Total clickthrough rate by definition: (clickSessionNum / sessionNum) * 100%\n",
    "\n",
    "For each of dates and groups"
   ]
  },
  {
   "cell_type": "code",
   "execution_count": 18,
   "metadata": {},
   "outputs": [
    {
     "data": {
      "text/plain": [
       "date        group\n",
       "2016-03-01  a        4210\n",
       "            b        5042\n",
       "2016-03-02  a        4219\n",
       "            b        4987\n",
       "2016-03-03  a        4205\n",
       "            b        5145\n",
       "2016-03-04  a        3513\n",
       "            b        4735\n",
       "2016-03-05  a        2731\n",
       "            b        4002\n",
       "2016-03-06  a        3140\n",
       "            b        4503\n",
       "2016-03-07  a        4029\n",
       "            b        5512\n",
       "2016-03-08  a        3420\n",
       "            b        4664\n",
       "Name: session_id, dtype: int64"
      ]
     },
     "execution_count": 18,
     "metadata": {},
     "output_type": "execute_result"
    }
   ],
   "source": [
    "# mozda i == 'searchResultPage'\n",
    "sessionsByDateGroups = df[df['action'] != 'checkin'].groupby(['date', 'group'])['session_id'].nunique()\n",
    "sessionsByDateGroups"
   ]
  },
  {
   "cell_type": "code",
   "execution_count": 19,
   "metadata": {},
   "outputs": [
    {
     "data": {
      "text/plain": [
       "date        group\n",
       "2016-03-01  a        2825\n",
       "            b         699\n",
       "2016-03-02  a        2877\n",
       "            b         725\n",
       "2016-03-03  a        2844\n",
       "            b         782\n",
       "2016-03-04  a        2374\n",
       "            b         913\n",
       "2016-03-05  a        1764\n",
       "            b         809\n",
       "2016-03-06  a        2114\n",
       "            b         854\n",
       "2016-03-07  a        2648\n",
       "            b        1099\n",
       "2016-03-08  a        2275\n",
       "            b         865\n",
       "Name: session_id, dtype: int64"
      ]
     },
     "execution_count": 19,
     "metadata": {},
     "output_type": "execute_result"
    }
   ],
   "source": [
    "sessionsClickByDateGroups = df[df['action'] == 'visitPage'].groupby(['date', 'group'])['session_id'].nunique()\n",
    "sessionsClickByDateGroups"
   ]
  },
  {
   "cell_type": "code",
   "execution_count": 20,
   "metadata": {},
   "outputs": [
    {
     "data": {
      "text/plain": [
       "Text(0.5, 1.0, 'Clickthrough rate by dates for both groups')"
      ]
     },
     "execution_count": 20,
     "metadata": {},
     "output_type": "execute_result"
    },
    {
     "data": {
      "image/png": "[encoded data removed]",
      "text/plain": [
       "<Figure size 1080x576 with 1 Axes>"
      ]
     },
     "metadata": {
      "needs_background": "light"
     },
     "output_type": "display_data"
    }
   ],
   "source": [
    "ctrDatesGroups1 = (sessionsClickByDateGroups / sessionsByDateGroups) * 100\n",
    "ctrDatesGroups1.unstack().plot(figsize=(15, 8))\n",
    "plt.title('Clickthrough rate by dates for both groups')"
   ]
  },
  {
   "cell_type": "markdown",
   "metadata": {},
   "source": [
    "Clickthrough rate by definition: ctr = num of click / num of shown results (on session level)\n",
    "\n",
    "Definition from Skype"
   ]
  },
  {
   "cell_type": "code",
   "execution_count": 21,
   "metadata": {},
   "outputs": [
    {
     "data": {
      "text/plain": [
       "session_id\n",
       "0000cbcb67c19c45     20.0\n",
       "0001382e027b2ea4     18.0\n",
       "0001e8bb90445cb2     20.0\n",
       "000216cf18ae1ab1    120.0\n",
       "000527f711d50dfc      1.0\n",
       "00064fe774048046      1.0\n",
       "00071a2cf97168df     20.0\n",
       "0007582fe23d51e6      0.0\n",
       "0007b7f6b575feb6     20.0\n",
       "00086b6ff8156928      0.0\n",
       "000936ae06d62383     20.0\n",
       "000951bf5fe30840     20.0\n",
       "00099d10c3e9149a      3.0\n",
       "000b113f9abde96a     20.0\n",
       "000b72561100b509     20.0\n",
       "000eb0a149f6232c      0.0\n",
       "000f17bb91b8d6dc     20.0\n",
       "000fb60e9dab4303     42.0\n",
       "00106ab7f5dba3db    100.0\n",
       "00107af22eb9dc3a     20.0\n",
       "00110030e5582a05     40.0\n",
       "001113537e4f8a9f      0.0\n",
       "0011d89c413e9adb     40.0\n",
       "00128afbdfb1e2a5      6.0\n",
       "00131dfc3cd00a65     40.0\n",
       "0013922a4ed4df0a     20.0\n",
       "0013974d3a981c99      0.0\n",
       "00139b84719e8062      3.0\n",
       "0014bd91520b25f4      9.0\n",
       "0014fac7fd3e71e2     20.0\n",
       "                    ...  \n",
       "ffe002036e370b06    140.0\n",
       "ffe1a14d4565573d     20.0\n",
       "ffe1be6af4a9b8bb      6.0\n",
       "ffe23dcfbc85e73d     20.0\n",
       "ffe454e0e2dc801d      0.0\n",
       "ffe78a0ddf066d97     13.0\n",
       "ffe7e6f264d596f5     20.0\n",
       "ffeae7a8610b236a      1.0\n",
       "ffebe426e2429ca4     40.0\n",
       "ffebf2f8df702d3b     20.0\n",
       "ffee12e5d4e82c66     80.0\n",
       "ffef842da9f229e3     60.0\n",
       "fff0d75422ed5f08     20.0\n",
       "fff16db98468f34a     13.0\n",
       "fff2b5a8cfa190f9     20.0\n",
       "fff2bf5869344675     20.0\n",
       "fff2d74c777dbe54     20.0\n",
       "fff3a9ccbf16fd52     40.0\n",
       "fff42e6573b15d2d     20.0\n",
       "fff46f133025f41b      7.0\n",
       "fff5341be7e1b6cf     40.0\n",
       "fff73365ad380bc7     60.0\n",
       "fff83e025680fba6     20.0\n",
       "fffa1d5e2c608ba6     40.0\n",
       "fffa387663722d38      1.0\n",
       "fffa5a2bcaf090c4      0.0\n",
       "fffa88acebf831c8     80.0\n",
       "fffac2c4111308d0     20.0\n",
       "fffb978cc690214c     40.0\n",
       "ffff9adcd8f302d6    109.0\n",
       "Name: n_results, Length: 68028, dtype: float64"
      ]
     },
     "execution_count": 21,
     "metadata": {},
     "output_type": "execute_result"
    }
   ],
   "source": [
    "# OVDE SE NESTO CUDNO DESAVA, DOBRO RAZMISLI\n",
    "# ctr = num of click / num of shown results (on session level)\n",
    "numOfResults = df.groupby('session_id')['n_results'].sum()\n",
    "#numOfResults[numOfResults > 0]\n",
    "numOfResults"
   ]
  },
  {
   "cell_type": "code",
   "execution_count": 22,
   "metadata": {},
   "outputs": [
    {
     "data": {
      "text/plain": [
       "session_id\n",
       "0000cbcb67c19c45    1\n",
       "0001382e027b2ea4    1\n",
       "0001e8bb90445cb2    1\n",
       "000216cf18ae1ab1    6\n",
       "000527f711d50dfc    1\n",
       "00064fe774048046    2\n",
       "00071a2cf97168df    1\n",
       "0007582fe23d51e6    1\n",
       "0007b7f6b575feb6    1\n",
       "00086b6ff8156928    1\n",
       "000936ae06d62383    1\n",
       "000951bf5fe30840    1\n",
       "00099d10c3e9149a    1\n",
       "000b113f9abde96a    1\n",
       "000b72561100b509    1\n",
       "000eb0a149f6232c    1\n",
       "000f17bb91b8d6dc    1\n",
       "000fb60e9dab4303    4\n",
       "00106ab7f5dba3db    6\n",
       "00107af22eb9dc3a    1\n",
       "00110030e5582a05    2\n",
       "001113537e4f8a9f    1\n",
       "0011d89c413e9adb    2\n",
       "00128afbdfb1e2a5    1\n",
       "00131dfc3cd00a65    2\n",
       "0013922a4ed4df0a    2\n",
       "0013974d3a981c99    1\n",
       "00139b84719e8062    1\n",
       "0014bd91520b25f4    1\n",
       "0014fac7fd3e71e2    1\n",
       "                   ..\n",
       "ffe002036e370b06    7\n",
       "ffe1a14d4565573d    1\n",
       "ffe1be6af4a9b8bb    2\n",
       "ffe23dcfbc85e73d    1\n",
       "ffe454e0e2dc801d    1\n",
       "ffe78a0ddf066d97    1\n",
       "ffe7e6f264d596f5    2\n",
       "ffeae7a8610b236a    1\n",
       "ffebe426e2429ca4    2\n",
       "ffebf2f8df702d3b    1\n",
       "ffee12e5d4e82c66    4\n",
       "ffef842da9f229e3    3\n",
       "fff0d75422ed5f08    1\n",
       "fff16db98468f34a    1\n",
       "fff2b5a8cfa190f9    1\n",
       "fff2bf5869344675    1\n",
       "fff2d74c777dbe54    1\n",
       "fff3a9ccbf16fd52    2\n",
       "fff42e6573b15d2d    1\n",
       "fff46f133025f41b    1\n",
       "fff5341be7e1b6cf    2\n",
       "fff73365ad380bc7    3\n",
       "fff83e025680fba6    1\n",
       "fffa1d5e2c608ba6    2\n",
       "fffa387663722d38    1\n",
       "fffa5a2bcaf090c4    1\n",
       "fffa88acebf831c8    4\n",
       "fffac2c4111308d0    1\n",
       "fffb978cc690214c    2\n",
       "ffff9adcd8f302d6    7\n",
       "Name: page_id, Length: 67951, dtype: int64"
      ]
     },
     "execution_count": 22,
     "metadata": {},
     "output_type": "execute_result"
    }
   ],
   "source": [
    "df[df['action'] == 'searchResultPage'].groupby('session_id')['page_id'].count()"
   ]
  },
  {
   "cell_type": "code",
   "execution_count": 23,
   "metadata": {},
   "outputs": [
    {
     "data": {
      "text/plain": [
       "68028"
      ]
     },
     "execution_count": 23,
     "metadata": {},
     "output_type": "execute_result"
    }
   ],
   "source": [
    "df['session_id'].nunique()"
   ]
  },
  {
   "cell_type": "markdown",
   "metadata": {},
   "source": [
    "3. What is the daily overall zero results rate? How does it vary between the groups?\n",
    "\n",
    "def. => zero results rate = zero results sessions / all search sessions"
   ]
  },
  {
   "cell_type": "code",
   "execution_count": 24,
   "metadata": {},
   "outputs": [
    {
     "data": {
      "text/plain": [
       "date        group\n",
       "2016-03-01  a        12582\n",
       "            b         5792\n",
       "2016-03-02  a        13209\n",
       "            b         5693\n",
       "2016-03-03  a        13280\n",
       "            b         5879\n",
       "2016-03-04  a        11298\n",
       "            b         5377\n",
       "2016-03-05  a         8612\n",
       "            b         4592\n",
       "2016-03-06  a         9469\n",
       "            b         5143\n",
       "2016-03-07  a        12699\n",
       "            b         6312\n",
       "2016-03-08  a        10907\n",
       "            b         5390\n",
       "Name: page_id, dtype: int64"
      ]
     },
     "execution_count": 24,
     "metadata": {},
     "output_type": "execute_result"
    }
   ],
   "source": [
    "# zero results rate = (zero results sessions / all sessions) * 100\n",
    "allSearchSessions = df[df['action'] == 'searchResultPage'].groupby(['date', 'group']).count()['page_id']\n",
    "allSearchSessions"
   ]
  },
  {
   "cell_type": "code",
   "execution_count": 25,
   "metadata": {},
   "outputs": [
    {
     "data": {
      "text/plain": [
       "date        group\n",
       "2016-03-01  a        2350\n",
       "            b        1097\n",
       "2016-03-02  a        2524\n",
       "            b        1065\n",
       "2016-03-03  a        2371\n",
       "            b        1072\n",
       "2016-03-04  a        2068\n",
       "            b         947\n",
       "2016-03-05  a        1535\n",
       "            b         907\n",
       "2016-03-06  a        1599\n",
       "            b         975\n",
       "2016-03-07  a        2316\n",
       "            b        1144\n",
       "2016-03-08  a        2139\n",
       "            b        1018\n",
       "Name: page_id, dtype: int64"
      ]
     },
     "execution_count": 25,
     "metadata": {},
     "output_type": "execute_result"
    }
   ],
   "source": [
    "zeroResultsSessions = df[df['n_results'] == 0].groupby(['date', 'group']).count()['page_id']\n",
    "zeroResultsSessions"
   ]
  },
  {
   "cell_type": "code",
   "execution_count": 26,
   "metadata": {},
   "outputs": [
    {
     "data": {
      "text/plain": [
       "date        group\n",
       "2016-03-01  a        18.677476\n",
       "            b        18.939917\n",
       "2016-03-02  a        19.108184\n",
       "            b        18.707184\n",
       "2016-03-03  a        17.853916\n",
       "            b        18.234394\n",
       "2016-03-04  a        18.304125\n",
       "            b        17.612051\n",
       "2016-03-05  a        17.823967\n",
       "            b        19.751742\n",
       "2016-03-06  a        16.886683\n",
       "            b        18.957807\n",
       "2016-03-07  a        18.237657\n",
       "            b        18.124208\n",
       "2016-03-08  a        19.611259\n",
       "            b        18.886827\n",
       "Name: page_id, dtype: float64"
      ]
     },
     "execution_count": 26,
     "metadata": {},
     "output_type": "execute_result"
    }
   ],
   "source": [
    "zrr = (zeroResultsSessions / allSearchSessions) * 100\n",
    "zrr"
   ]
  },
  {
   "cell_type": "code",
   "execution_count": 27,
   "metadata": {},
   "outputs": [
    {
     "data": {
      "text/plain": [
       "Text(0, 0.5, '%')"
      ]
     },
     "execution_count": 27,
     "metadata": {},
     "output_type": "execute_result"
    },
    {
     "data": {
      "image/png": "[encoded data removed]",
      "text/plain": [
       "<Figure size 1080x576 with 1 Axes>"
      ]
     },
     "metadata": {
      "needs_background": "light"
     },
     "output_type": "display_data"
    }
   ],
   "source": [
    "zrr.unstack().plot.bar(figsize=(15, 8))\n",
    "plt.title('Zero result rate by dates for both groups')\n",
    "plt.ylabel('%')"
   ]
  },
  {
   "cell_type": "markdown",
   "metadata": {},
   "source": [
    "2. Which results do people tend to try first? How does it change day-to-day?"
   ]
  },
  {
   "cell_type": "code",
   "execution_count": 28,
   "metadata": {},
   "outputs": [
    {
     "data": {
      "text/plain": [
       "Text(0.5, 1.0, 'Relation between result position and number of clicks')"
      ]
     },
     "execution_count": 28,
     "metadata": {},
     "output_type": "execute_result"
    },
    {
     "data": {
      "image/png": "[encoded data removed]",
      "text/plain": [
       "<Figure size 1080x576 with 1 Axes>"
      ]
     },
     "metadata": {
      "needs_background": "light"
     },
     "output_type": "display_data"
    }
   ],
   "source": [
    "#value_count() i distribucija vrednosti result_position\n",
    "resPositionDistribution = df['result_position'].value_counts()\n",
    "dfRPD = pd.DataFrame(index=resPositionDistribution.index, data=resPositionDistribution)\n",
    "dfRPD.nlargest(10, 'result_position').plot(figsize=(15, 8))\n",
    "plt.title('Relation between result position and number of clicks')"
   ]
  },
  {
   "cell_type": "code",
   "execution_count": 42,
   "metadata": {},
   "outputs": [
    {
     "data": {
      "image/png": "[encoded data removed]",
      "text/plain": [
       "<Figure size 1080x576 with 1 Axes>"
      ]
     },
     "metadata": {
      "needs_background": "light"
     },
     "output_type": "display_data"
    }
   ],
   "source": [
    "# distribution of result position by dates\n",
    "tempRPD = df.groupby('date')['result_position'].apply(lambda var: var.value_counts().nlargest(5))\n",
    "dfDateRPD = pd.DataFrame(index=tempRPD.index, data=tempRPD).unstack()\n",
    "\n",
    "# plotting results\n",
    "labels = ['1st link', '2nd link', '3rd link', '4th link', '5th link']\n",
    "ax = dfDateRPD.plot(kind='bar', figsize=(15, 8)).legend(labels)"
   ]
  },
  {
   "cell_type": "code",
   "execution_count": null,
   "metadata": {},
   "outputs": [],
   "source": []
  }
 ],
 "metadata": {
  "kernelspec": {
   "display_name": "Python 3",
   "language": "python",
   "name": "python3"
  },
  "language_info": {
   "codemirror_mode": {
    "name": "ipython",
    "version": 3
   },
   "file_extension": ".py",
   "mimetype": "text/x-python",
   "name": "python",
   "nbconvert_exporter": "python",
   "pygments_lexer": "ipython3",
   "version": "3.7.3"
  }
 },
 "nbformat": 4,
 "nbformat_minor": 2
}
