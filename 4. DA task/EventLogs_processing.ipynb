{
 "cells": [
  {
   "cell_type": "markdown",
   "metadata": {},
   "source": [
    "# Data Analysis Task\n",
    "\n",
    "## Background\n",
    "\n",
    "*Event logging* (EL) is used to track a variety of performance and usage metrics to help on the decision making process. Specifically, the most used metrics are:\n",
    "\n",
    "- *clickthrough rate*: the proportion of search sessions where the user clicked on one of the results displayed\n",
    "- *zero results rate*: the proportion of searches that yielded 0 results\n",
    "\n",
    "and other metrics outside the scope of this task. EL uses JavaScript to asynchronously send messages (events) to the servers when the user has performed specific actions. In this task, you will analyze a subset of our event logs.\n",
    "\n",
    "## Task\n",
    "\n",
    "You must create a **reproducible report**\\* answering the following questions:\n",
    "\n",
    "1. What is the daily overall clickthrough rate? How does it vary between the groups?\n",
    "2. Which results do people tend to try first? How does it change day-to-day?\n",
    "3. What is the daily overall zero results rate? How does it vary between the groups?\n",
    "4. Let *session length* be approximately the time between the first event and the last event in a session. Choose a variable from the dataset and describe its relationship to session length. Visualize the relationship.\n",
    "5. Summarize your findings in an *executive summary*.\n",
    "\n",
    "## Data\n",
    "\n",
    "Desktop users are randomly sampled to be anonymously tracked by this schema which uses a \"I'm alive\" pinging system that it is used to estimate how long users stay on the pages they visit. The dataset contains just a little more than a week of EL data.\n",
    "\n",
    "| Column          | Value   | Description                                                                       |\n",
    "|:----------------|:--------|:----------------------------------------------------------------------------------|\n",
    "| uuid            | string  | Universally unique identifier (UUID) for backend event handling.|\n",
    "| timestamp       | integer | The date and time (UTC) of the event, formatted as YYYYMMDDhhmmss.                |\n",
    "| session_id      | string  | A unique ID identifying individual sessions.                                      |\n",
    "| group           | string  | A label (\"a\" or \"b\").                               |\n",
    "| action          | string  | Identifies in which the event was created. See below.                             |\n",
    "| checkin         | integer | How many seconds the page has been open for.                                      |\n",
    "| page_id         | string  | A unique identifier for correlating page visits and check-ins.                    |\n",
    "| n_results       | integer | Number of hits returned to the user. Only shown for searchResultPage events.      |\n",
    "| result_position | integer | The position of the visited page's link on the search engine results page (SERP). |\n",
    "\n",
    "The following are possible values for an event's action field:\n",
    "\n",
    "- **searchResultPage**: when a new search is performed and the user is shown a SERP.\n",
    "- **visitPage**: when the user clicks a link in the results.\n",
    "- **checkin**: when the user has remained on the page for a pre-specified amount of time.\n",
    "\n",
    "### Example Session\n",
    "\n",
    "|uuid                             |      timestamp|session_id       |group |action           | checkin|page_id          | n_results| result_position|\n",
    "|:--------------------------------|:--------------|:----------------|:-----|:----------------|-------:|:----------------|---------:|---------------:|\n",
    "|4f699f344515554a9371fe4ecb5b9ebc | 20160305195246|001e61b5477f5efc |b     |searchResultPage |      NA|1b341d0ab80eb77e |         7|              NA|\n",
    "|759d1dc9966353c2a36846a61125f286 | 20160305195302|001e61b5477f5efc |b     |visitPage        |      NA|5a6a1f75124cbf03 |        NA|               1|\n",
    "|77efd5a00a5053c4a713fbe5a48dbac4 | 20160305195312|001e61b5477f5efc |b     |checkin          |      10|5a6a1f75124cbf03 |        NA|               1|\n",
    "|42420284ad895ec4bcb1f000b949dd5e | 20160305195322|001e61b5477f5efc |b     |checkin          |      20|5a6a1f75124cbf03 |        NA|               1|\n",
    "|8ffd82c27a355a56882b5860993bd308 | 20160305195332|001e61b5477f5efc |b     |checkin          |      30|5a6a1f75124cbf03 |        NA|               1|\n",
    "|2988d11968b25b29add3a851bec2fe02 | 20160305195342|001e61b5477f5efc |b     |checkin          |      40|5a6a1f75124cbf03 |        NA|               1|\n",
    "\n",
    "This user's search query returned 7 results, they clicked on the first result, and stayed on the page between 40 and 50 seconds. (The next check-in would have happened at 50s.)\n",
    "\n",
    "Task 100% inspired by this one -> https://github.com/wikimedia-research/Discovery-Hiring-Analyst-2016\n",
    "\n",
    "\n",
    "\n"
   ]
  },
  {
   "cell_type": "code",
   "execution_count": 1,
   "metadata": {},
   "outputs": [],
   "source": [
    "# imports\n",
    "import numpy as np\n",
    "import pandas as pd\n",
    "import matplotlib.pyplot as plt\n",
    "import seaborn as sns\n",
    "%matplotlib inline\n",
    "\n",
    "# style of plots\n",
    "sns.set_style(\"darkgrid\")"
   ]
  },
  {
   "cell_type": "code",
   "execution_count": 2,
   "metadata": {},
   "outputs": [],
   "source": [
    "# data loading\n",
    "df = pd.read_csv('events_log.csv')"
   ]
  },
  {
   "cell_type": "code",
   "execution_count": 3,
   "metadata": {},
   "outputs": [
    {
     "name": "stdout",
     "output_type": "stream",
     "text": [
      "<class 'pandas.core.frame.DataFrame'>\n",
      "RangeIndex: 400165 entries, 0 to 400164\n",
      "Data columns (total 9 columns):\n",
      "uuid               400165 non-null object\n",
      "timestamp          400165 non-null float64\n",
      "session_id         400165 non-null object\n",
      "group              400165 non-null object\n",
      "action             400165 non-null object\n",
      "checkin            223824 non-null float64\n",
      "page_id            400165 non-null object\n",
      "n_results          136234 non-null float64\n",
      "result_position    230482 non-null float64\n",
      "dtypes: float64(4), object(5)\n",
      "memory usage: 27.5+ MB\n"
     ]
    }
   ],
   "source": [
    "# dataset info\n",
    "df.info()"
   ]
  },
  {
   "cell_type": "code",
   "execution_count": 4,
   "metadata": {},
   "outputs": [
    {
     "data": {
      "text/html": [
       "<div>\n",
       "<style scoped>\n",
       "    .dataframe tbody tr th:only-of-type {\n",
       "        vertical-align: middle;\n",
       "    }\n",
       "\n",
       "    .dataframe tbody tr th {\n",
       "        vertical-align: top;\n",
       "    }\n",
       "\n",
       "    .dataframe thead th {\n",
       "        text-align: right;\n",
       "    }\n",
       "</style>\n",
       "<table border=\"1\" class=\"dataframe\">\n",
       "  <thead>\n",
       "    <tr style=\"text-align: right;\">\n",
       "      <th></th>\n",
       "      <th>uuid</th>\n",
       "      <th>timestamp</th>\n",
       "      <th>session_id</th>\n",
       "      <th>group</th>\n",
       "      <th>action</th>\n",
       "      <th>checkin</th>\n",
       "      <th>page_id</th>\n",
       "      <th>n_results</th>\n",
       "      <th>result_position</th>\n",
       "    </tr>\n",
       "  </thead>\n",
       "  <tbody>\n",
       "    <tr>\n",
       "      <th>0</th>\n",
       "      <td>00000736167c507e8ec225bd9e71f9e5</td>\n",
       "      <td>2.016030e+13</td>\n",
       "      <td>78245c2c3fba013a</td>\n",
       "      <td>b</td>\n",
       "      <td>searchResultPage</td>\n",
       "      <td>NaN</td>\n",
       "      <td>cbeb66d1bc1f1bc2</td>\n",
       "      <td>5.0</td>\n",
       "      <td>NaN</td>\n",
       "    </tr>\n",
       "    <tr>\n",
       "      <th>1</th>\n",
       "      <td>00000c69fe345268935463abbfa5d5b3</td>\n",
       "      <td>2.016031e+13</td>\n",
       "      <td>c559c3be98dca8a4</td>\n",
       "      <td>a</td>\n",
       "      <td>searchResultPage</td>\n",
       "      <td>NaN</td>\n",
       "      <td>eb658e8722aad674</td>\n",
       "      <td>10.0</td>\n",
       "      <td>NaN</td>\n",
       "    </tr>\n",
       "    <tr>\n",
       "      <th>2</th>\n",
       "      <td>00003bfdab715ee59077a3670331b787</td>\n",
       "      <td>2.016030e+13</td>\n",
       "      <td>760bf89817ce4b08</td>\n",
       "      <td>a</td>\n",
       "      <td>checkin</td>\n",
       "      <td>30.0</td>\n",
       "      <td>f99a9fc1f7fdd21e</td>\n",
       "      <td>NaN</td>\n",
       "      <td>NaN</td>\n",
       "    </tr>\n",
       "    <tr>\n",
       "      <th>3</th>\n",
       "      <td>0000465cd7c35ad2bdeafec953e08c1a</td>\n",
       "      <td>2.016030e+13</td>\n",
       "      <td>fb905603d31b2071</td>\n",
       "      <td>a</td>\n",
       "      <td>checkin</td>\n",
       "      <td>60.0</td>\n",
       "      <td>e5626962a6939a75</td>\n",
       "      <td>NaN</td>\n",
       "      <td>10.0</td>\n",
       "    </tr>\n",
       "    <tr>\n",
       "      <th>4</th>\n",
       "      <td>000050cbb4ef5b42b16c4d2cf69e6358</td>\n",
       "      <td>2.016030e+13</td>\n",
       "      <td>c2bf5e5172a892dc</td>\n",
       "      <td>a</td>\n",
       "      <td>checkin</td>\n",
       "      <td>30.0</td>\n",
       "      <td>787dd6a4c371cbf9</td>\n",
       "      <td>NaN</td>\n",
       "      <td>NaN</td>\n",
       "    </tr>\n",
       "  </tbody>\n",
       "</table>\n",
       "</div>"
      ],
      "text/plain": [
       "                               uuid     timestamp        session_id group  \\\n",
       "0  00000736167c507e8ec225bd9e71f9e5  2.016030e+13  78245c2c3fba013a     b   \n",
       "1  00000c69fe345268935463abbfa5d5b3  2.016031e+13  c559c3be98dca8a4     a   \n",
       "2  00003bfdab715ee59077a3670331b787  2.016030e+13  760bf89817ce4b08     a   \n",
       "3  0000465cd7c35ad2bdeafec953e08c1a  2.016030e+13  fb905603d31b2071     a   \n",
       "4  000050cbb4ef5b42b16c4d2cf69e6358  2.016030e+13  c2bf5e5172a892dc     a   \n",
       "\n",
       "             action  checkin           page_id  n_results  result_position  \n",
       "0  searchResultPage      NaN  cbeb66d1bc1f1bc2        5.0              NaN  \n",
       "1  searchResultPage      NaN  eb658e8722aad674       10.0              NaN  \n",
       "2           checkin     30.0  f99a9fc1f7fdd21e        NaN              NaN  \n",
       "3           checkin     60.0  e5626962a6939a75        NaN             10.0  \n",
       "4           checkin     30.0  787dd6a4c371cbf9        NaN              NaN  "
      ]
     },
     "execution_count": 4,
     "metadata": {},
     "output_type": "execute_result"
    }
   ],
   "source": [
    "df.head()"
   ]
  },
  {
   "cell_type": "code",
   "execution_count": 5,
   "metadata": {},
   "outputs": [
    {
     "data": {
      "text/html": [
       "<div>\n",
       "<style scoped>\n",
       "    .dataframe tbody tr th:only-of-type {\n",
       "        vertical-align: middle;\n",
       "    }\n",
       "\n",
       "    .dataframe tbody tr th {\n",
       "        vertical-align: top;\n",
       "    }\n",
       "\n",
       "    .dataframe thead th {\n",
       "        text-align: right;\n",
       "    }\n",
       "</style>\n",
       "<table border=\"1\" class=\"dataframe\">\n",
       "  <thead>\n",
       "    <tr style=\"text-align: right;\">\n",
       "      <th></th>\n",
       "      <th>uuid</th>\n",
       "      <th>timestamp</th>\n",
       "      <th>session_id</th>\n",
       "      <th>group</th>\n",
       "      <th>action</th>\n",
       "      <th>checkin</th>\n",
       "      <th>page_id</th>\n",
       "      <th>n_results</th>\n",
       "      <th>result_position</th>\n",
       "      <th>date</th>\n",
       "    </tr>\n",
       "  </thead>\n",
       "  <tbody>\n",
       "    <tr>\n",
       "      <th>0</th>\n",
       "      <td>00000736167c507e8ec225bd9e71f9e5</td>\n",
       "      <td>2016-03-01 10:38:42</td>\n",
       "      <td>78245c2c3fba013a</td>\n",
       "      <td>b</td>\n",
       "      <td>searchResultPage</td>\n",
       "      <td>NaN</td>\n",
       "      <td>cbeb66d1bc1f1bc2</td>\n",
       "      <td>5.0</td>\n",
       "      <td>NaN</td>\n",
       "      <td>2016-03-01</td>\n",
       "    </tr>\n",
       "    <tr>\n",
       "      <th>1</th>\n",
       "      <td>00000c69fe345268935463abbfa5d5b3</td>\n",
       "      <td>2016-03-07 00:52:26</td>\n",
       "      <td>c559c3be98dca8a4</td>\n",
       "      <td>a</td>\n",
       "      <td>searchResultPage</td>\n",
       "      <td>NaN</td>\n",
       "      <td>eb658e8722aad674</td>\n",
       "      <td>10.0</td>\n",
       "      <td>NaN</td>\n",
       "      <td>2016-03-07</td>\n",
       "    </tr>\n",
       "    <tr>\n",
       "      <th>2</th>\n",
       "      <td>00003bfdab715ee59077a3670331b787</td>\n",
       "      <td>2016-03-02 14:53:05</td>\n",
       "      <td>760bf89817ce4b08</td>\n",
       "      <td>a</td>\n",
       "      <td>checkin</td>\n",
       "      <td>30.0</td>\n",
       "      <td>f99a9fc1f7fdd21e</td>\n",
       "      <td>NaN</td>\n",
       "      <td>NaN</td>\n",
       "      <td>2016-03-02</td>\n",
       "    </tr>\n",
       "    <tr>\n",
       "      <th>3</th>\n",
       "      <td>0000465cd7c35ad2bdeafec953e08c1a</td>\n",
       "      <td>2016-03-02 22:27:01</td>\n",
       "      <td>fb905603d31b2071</td>\n",
       "      <td>a</td>\n",
       "      <td>checkin</td>\n",
       "      <td>60.0</td>\n",
       "      <td>e5626962a6939a75</td>\n",
       "      <td>NaN</td>\n",
       "      <td>10.0</td>\n",
       "      <td>2016-03-02</td>\n",
       "    </tr>\n",
       "    <tr>\n",
       "      <th>4</th>\n",
       "      <td>000050cbb4ef5b42b16c4d2cf69e6358</td>\n",
       "      <td>2016-03-02 09:50:23</td>\n",
       "      <td>c2bf5e5172a892dc</td>\n",
       "      <td>a</td>\n",
       "      <td>checkin</td>\n",
       "      <td>30.0</td>\n",
       "      <td>787dd6a4c371cbf9</td>\n",
       "      <td>NaN</td>\n",
       "      <td>NaN</td>\n",
       "      <td>2016-03-02</td>\n",
       "    </tr>\n",
       "  </tbody>\n",
       "</table>\n",
       "</div>"
      ],
      "text/plain": [
       "                               uuid           timestamp        session_id  \\\n",
       "0  00000736167c507e8ec225bd9e71f9e5 2016-03-01 10:38:42  78245c2c3fba013a   \n",
       "1  00000c69fe345268935463abbfa5d5b3 2016-03-07 00:52:26  c559c3be98dca8a4   \n",
       "2  00003bfdab715ee59077a3670331b787 2016-03-02 14:53:05  760bf89817ce4b08   \n",
       "3  0000465cd7c35ad2bdeafec953e08c1a 2016-03-02 22:27:01  fb905603d31b2071   \n",
       "4  000050cbb4ef5b42b16c4d2cf69e6358 2016-03-02 09:50:23  c2bf5e5172a892dc   \n",
       "\n",
       "  group            action  checkin           page_id  n_results  \\\n",
       "0     b  searchResultPage      NaN  cbeb66d1bc1f1bc2        5.0   \n",
       "1     a  searchResultPage      NaN  eb658e8722aad674       10.0   \n",
       "2     a           checkin     30.0  f99a9fc1f7fdd21e        NaN   \n",
       "3     a           checkin     60.0  e5626962a6939a75        NaN   \n",
       "4     a           checkin     30.0  787dd6a4c371cbf9        NaN   \n",
       "\n",
       "   result_position        date  \n",
       "0              NaN  2016-03-01  \n",
       "1              NaN  2016-03-07  \n",
       "2              NaN  2016-03-02  \n",
       "3             10.0  2016-03-02  \n",
       "4              NaN  2016-03-02  "
      ]
     },
     "execution_count": 5,
     "metadata": {},
     "output_type": "execute_result"
    }
   ],
   "source": [
    "# Convert timestamp from float to datetime\n",
    "df['timestamp'] = pd.to_datetime(df['timestamp'], format='%Y%m%d%H%M%S')\n",
    "\n",
    "# Create new column with only date from timestamp\n",
    "df['date'] = df['timestamp'].apply(lambda var: var.date())\n",
    "df.head()"
   ]
  },
  {
   "cell_type": "code",
   "execution_count": 6,
   "metadata": {},
   "outputs": [
    {
     "data": {
      "text/plain": [
       "2016-03-03    60644\n",
       "2016-03-02    60322\n",
       "2016-03-01    59324\n",
       "2016-03-07    52558\n",
       "2016-03-04    45746\n",
       "2016-03-08    44129\n",
       "2016-03-06    41200\n",
       "2016-03-05    36242\n",
       "Name: date, dtype: int64"
      ]
     },
     "execution_count": 6,
     "metadata": {},
     "output_type": "execute_result"
    }
   ],
   "source": [
    "# Number of data for different dates\n",
    "df['date'].value_counts()"
   ]
  },
  {
   "cell_type": "code",
   "execution_count": 7,
   "metadata": {},
   "outputs": [
    {
     "data": {
      "text/plain": [
       "Text(0.5, 1.0, 'Total number of clicks')"
      ]
     },
     "execution_count": 7,
     "metadata": {},
     "output_type": "execute_result"
    },
    {
     "data": {
      "image/png": "[encoded data removed]",
      "text/plain": [
       "<Figure size 1080x576 with 1 Axes>"
      ]
     },
     "metadata": {
      "needs_background": "light"
     },
     "output_type": "display_data"
    }
   ],
   "source": [
    "# Total number of clicks by dates\n",
    "df[df['action'] == 'visitPage'].groupby('date')['page_id'].count().plot(figsize=(15, 8), kind='bar')\n",
    "plt.title('Total number of clicks')"
   ]
  },
  {
   "cell_type": "code",
   "execution_count": 8,
   "metadata": {},
   "outputs": [
    {
     "data": {
      "text/plain": [
       "Text(0.5, 1.0, 'Total number of clicks')"
      ]
     },
     "execution_count": 8,
     "metadata": {},
     "output_type": "execute_result"
    },
    {
     "data": {
      "image/png": "[encoded data removed]",
      "text/plain": [
       "<Figure size 1080x576 with 1 Axes>"
      ]
     },
     "metadata": {
      "needs_background": "light"
     },
     "output_type": "display_data"
    }
   ],
   "source": [
    "# Total number of clicks by dates, for different groups\n",
    "visitPageGroup = df[df['action'] == 'visitPage']\n",
    "\n",
    "plt.figure(figsize=(15, 8))\n",
    "sns.countplot(x='date', data=visitPageGroup, hue='group')\n",
    "plt.title('Total number of clicks')"
   ]
  },
  {
   "cell_type": "code",
   "execution_count": 9,
   "metadata": {},
   "outputs": [
    {
     "data": {
      "text/html": [
       "<div>\n",
       "<style scoped>\n",
       "    .dataframe tbody tr th:only-of-type {\n",
       "        vertical-align: middle;\n",
       "    }\n",
       "\n",
       "    .dataframe tbody tr th {\n",
       "        vertical-align: top;\n",
       "    }\n",
       "\n",
       "    .dataframe thead th {\n",
       "        text-align: right;\n",
       "    }\n",
       "</style>\n",
       "<table border=\"1\" class=\"dataframe\">\n",
       "  <thead>\n",
       "    <tr style=\"text-align: right;\">\n",
       "      <th></th>\n",
       "      <th>uuid</th>\n",
       "      <th>timestamp</th>\n",
       "      <th>session_id</th>\n",
       "      <th>group</th>\n",
       "      <th>action</th>\n",
       "      <th>checkin</th>\n",
       "      <th>page_id</th>\n",
       "      <th>n_results</th>\n",
       "      <th>result_position</th>\n",
       "      <th>date</th>\n",
       "      <th>day of week</th>\n",
       "    </tr>\n",
       "  </thead>\n",
       "  <tbody>\n",
       "    <tr>\n",
       "      <th>0</th>\n",
       "      <td>00000736167c507e8ec225bd9e71f9e5</td>\n",
       "      <td>2016-03-01 10:38:42</td>\n",
       "      <td>78245c2c3fba013a</td>\n",
       "      <td>b</td>\n",
       "      <td>searchResultPage</td>\n",
       "      <td>NaN</td>\n",
       "      <td>cbeb66d1bc1f1bc2</td>\n",
       "      <td>5.0</td>\n",
       "      <td>NaN</td>\n",
       "      <td>2016-03-01</td>\n",
       "      <td>Tue</td>\n",
       "    </tr>\n",
       "    <tr>\n",
       "      <th>1</th>\n",
       "      <td>00000c69fe345268935463abbfa5d5b3</td>\n",
       "      <td>2016-03-07 00:52:26</td>\n",
       "      <td>c559c3be98dca8a4</td>\n",
       "      <td>a</td>\n",
       "      <td>searchResultPage</td>\n",
       "      <td>NaN</td>\n",
       "      <td>eb658e8722aad674</td>\n",
       "      <td>10.0</td>\n",
       "      <td>NaN</td>\n",
       "      <td>2016-03-07</td>\n",
       "      <td>Mon</td>\n",
       "    </tr>\n",
       "    <tr>\n",
       "      <th>2</th>\n",
       "      <td>00003bfdab715ee59077a3670331b787</td>\n",
       "      <td>2016-03-02 14:53:05</td>\n",
       "      <td>760bf89817ce4b08</td>\n",
       "      <td>a</td>\n",
       "      <td>checkin</td>\n",
       "      <td>30.0</td>\n",
       "      <td>f99a9fc1f7fdd21e</td>\n",
       "      <td>NaN</td>\n",
       "      <td>NaN</td>\n",
       "      <td>2016-03-02</td>\n",
       "      <td>Wed</td>\n",
       "    </tr>\n",
       "    <tr>\n",
       "      <th>3</th>\n",
       "      <td>0000465cd7c35ad2bdeafec953e08c1a</td>\n",
       "      <td>2016-03-02 22:27:01</td>\n",
       "      <td>fb905603d31b2071</td>\n",
       "      <td>a</td>\n",
       "      <td>checkin</td>\n",
       "      <td>60.0</td>\n",
       "      <td>e5626962a6939a75</td>\n",
       "      <td>NaN</td>\n",
       "      <td>10.0</td>\n",
       "      <td>2016-03-02</td>\n",
       "      <td>Wed</td>\n",
       "    </tr>\n",
       "    <tr>\n",
       "      <th>4</th>\n",
       "      <td>000050cbb4ef5b42b16c4d2cf69e6358</td>\n",
       "      <td>2016-03-02 09:50:23</td>\n",
       "      <td>c2bf5e5172a892dc</td>\n",
       "      <td>a</td>\n",
       "      <td>checkin</td>\n",
       "      <td>30.0</td>\n",
       "      <td>787dd6a4c371cbf9</td>\n",
       "      <td>NaN</td>\n",
       "      <td>NaN</td>\n",
       "      <td>2016-03-02</td>\n",
       "      <td>Wed</td>\n",
       "    </tr>\n",
       "  </tbody>\n",
       "</table>\n",
       "</div>"
      ],
      "text/plain": [
       "                               uuid           timestamp        session_id  \\\n",
       "0  00000736167c507e8ec225bd9e71f9e5 2016-03-01 10:38:42  78245c2c3fba013a   \n",
       "1  00000c69fe345268935463abbfa5d5b3 2016-03-07 00:52:26  c559c3be98dca8a4   \n",
       "2  00003bfdab715ee59077a3670331b787 2016-03-02 14:53:05  760bf89817ce4b08   \n",
       "3  0000465cd7c35ad2bdeafec953e08c1a 2016-03-02 22:27:01  fb905603d31b2071   \n",
       "4  000050cbb4ef5b42b16c4d2cf69e6358 2016-03-02 09:50:23  c2bf5e5172a892dc   \n",
       "\n",
       "  group            action  checkin           page_id  n_results  \\\n",
       "0     b  searchResultPage      NaN  cbeb66d1bc1f1bc2        5.0   \n",
       "1     a  searchResultPage      NaN  eb658e8722aad674       10.0   \n",
       "2     a           checkin     30.0  f99a9fc1f7fdd21e        NaN   \n",
       "3     a           checkin     60.0  e5626962a6939a75        NaN   \n",
       "4     a           checkin     30.0  787dd6a4c371cbf9        NaN   \n",
       "\n",
       "   result_position        date day of week  \n",
       "0              NaN  2016-03-01         Tue  \n",
       "1              NaN  2016-03-07         Mon  \n",
       "2              NaN  2016-03-02         Wed  \n",
       "3             10.0  2016-03-02         Wed  \n",
       "4              NaN  2016-03-02         Wed  "
      ]
     },
     "execution_count": 9,
     "metadata": {},
     "output_type": "execute_result"
    }
   ],
   "source": [
    "# create new column day of week\n",
    "df['day of week'] = df['timestamp'].apply(lambda var: var.weekday())\n",
    "\n",
    "# change values in new column into strings\n",
    "dmap = {0:'Mon',1:'Tue',2:'Wed',3:'Thu',4:'Fri',5:'Sat',6:'Sun'}\n",
    "df['day of week'] = df['day of week'].map(dmap)\n",
    "df.head()"
   ]
  },
  {
   "cell_type": "code",
   "execution_count": 10,
   "metadata": {},
   "outputs": [
    {
     "data": {
      "text/plain": [
       "Text(0.5, 1.0, 'Total number of clicks')"
      ]
     },
     "execution_count": 10,
     "metadata": {},
     "output_type": "execute_result"
    },
    {
     "data": {
      "image/png": "[encoded data removed]",
      "text/plain": [
       "<Figure size 1080x576 with 1 Axes>"
      ]
     },
     "metadata": {
      "needs_background": "light"
     },
     "output_type": "display_data"
    }
   ],
   "source": [
    "# Total number of clicks by days (NOT DATES), for different groups\n",
    "visitPageGroup = df[df['action'] == 'visitPage']\n",
    "\n",
    "plt.figure(figsize=(15, 8))\n",
    "sns.countplot(x='day of week', data=visitPageGroup, hue='group')\n",
    "plt.title('Total number of clicks')"
   ]
  },
  {
   "cell_type": "markdown",
   "metadata": {},
   "source": [
    "Total clickthrough rate\n",
    "by definition: (clickSessionNum / sessionNum) * 100%"
   ]
  },
  {
   "cell_type": "code",
   "execution_count": 11,
   "metadata": {},
   "outputs": [
    {
     "data": {
      "text/plain": [
       "68013"
      ]
     },
     "execution_count": 11,
     "metadata": {},
     "output_type": "execute_result"
    }
   ],
   "source": [
    "# number of sessions (without checkins, because their already included in visitPage action)\n",
    "sessionNum = df[df['action'] != 'checkin']['session_id'].nunique()\n",
    "sessionNum\n",
    "#allSessions = df[df['action'] != 'checkin'].groupby('session_id').count()['page_id']\n",
    "#allSessions\n",
    "#len(allSessions)"
   ]
  },
  {
   "cell_type": "code",
   "execution_count": 12,
   "metadata": {},
   "outputs": [
    {
     "data": {
      "text/plain": [
       "26452"
      ]
     },
     "execution_count": 12,
     "metadata": {},
     "output_type": "execute_result"
    }
   ],
   "source": [
    "# number of sessions with click on one of search results\n",
    "clickSessions = df[df['action'] == 'visitPage'].groupby('session_id').count()['page_id']\n",
    "clickSessionNum = len(clickSessions)\n",
    "clickSessionNum"
   ]
  },
  {
   "cell_type": "code",
   "execution_count": 13,
   "metadata": {},
   "outputs": [
    {
     "name": "stdout",
     "output_type": "stream",
     "text": [
      "total clickthrought rate by first definition = 38.8925646567568 %\n"
     ]
    }
   ],
   "source": [
    "# DEF 1. total clickthrough rate (by definition: (clickSessionNum / sessionNum) * 100% )\n",
    "clickthroughtRate1 = (clickSessionNum / sessionNum) * 100\n",
    "print('total clickthrought rate by first definition = {} %'.format(clickthroughtRate1))"
   ]
  },
  {
   "cell_type": "markdown",
   "metadata": {},
   "source": [
    "Total clickthrough rate by definition: (clickSessionNum / sessionNum) * 100%\n",
    "\n",
    "For each of dates"
   ]
  },
  {
   "cell_type": "code",
   "execution_count": 14,
   "metadata": {},
   "outputs": [
    {
     "data": {
      "text/plain": [
       "date\n",
       "2016-03-01    9252\n",
       "2016-03-02    9206\n",
       "2016-03-03    9350\n",
       "2016-03-04    8248\n",
       "2016-03-05    6733\n",
       "2016-03-06    7643\n",
       "2016-03-07    9541\n",
       "2016-03-08    8084\n",
       "Name: session_id, dtype: int64"
      ]
     },
     "execution_count": 14,
     "metadata": {},
     "output_type": "execute_result"
    }
   ],
   "source": [
    "# DEF 1. total clickthrough rate (by definition: (clickSessionNum / sessionNum) * 100% ) for each date\n",
    "# number of sessions for each day\n",
    "sessionsByDate = df[df['action'] != 'checkin'].groupby(['date'])['session_id'].nunique()\n",
    "sessionsByDate"
   ]
  },
  {
   "cell_type": "code",
   "execution_count": 15,
   "metadata": {},
   "outputs": [
    {
     "data": {
      "text/plain": [
       "date\n",
       "2016-03-01    3524\n",
       "2016-03-02    3602\n",
       "2016-03-03    3626\n",
       "2016-03-04    3287\n",
       "2016-03-05    2573\n",
       "2016-03-06    2968\n",
       "2016-03-07    3747\n",
       "2016-03-08    3140\n",
       "Name: session_id, dtype: int64"
      ]
     },
     "execution_count": 15,
     "metadata": {},
     "output_type": "execute_result"
    }
   ],
   "source": [
    "clickSessionsByDate = df[df['action'] == 'visitPage'].groupby('date')['session_id'].nunique()\n",
    "clickSessionsByDate"
   ]
  },
  {
   "cell_type": "code",
   "execution_count": 16,
   "metadata": {},
   "outputs": [
    {
     "data": {
      "text/plain": [
       "Text(0.5, 1.0, 'Clickthrough rate by dates')"
      ]
     },
     "execution_count": 16,
     "metadata": {},
     "output_type": "execute_result"
    },
    {
     "data": {
      "image/png": "[encoded data removed]",
      "text/plain": [
       "<Figure size 1080x576 with 1 Axes>"
      ]
     },
     "metadata": {
      "needs_background": "light"
     },
     "output_type": "display_data"
    }
   ],
   "source": [
    "ctrDates1 = ((clickSessionsByDate / sessionsByDate) * 100).plot(figsize=(15, 8))\n",
    "plt.title('Clickthrough rate by dates')"
   ]
  },
  {
   "cell_type": "markdown",
   "metadata": {},
   "source": [
    "Total clickthrough rate by definition: (clickSessionNum / sessionNum) * 100%\n",
    "\n",
    "For each of dates and groups"
   ]
  },
  {
   "cell_type": "code",
   "execution_count": 17,
   "metadata": {},
   "outputs": [
    {
     "data": {
      "text/plain": [
       "date        group\n",
       "2016-03-01  a        4210\n",
       "            b        5042\n",
       "2016-03-02  a        4219\n",
       "            b        4987\n",
       "2016-03-03  a        4205\n",
       "            b        5145\n",
       "2016-03-04  a        3513\n",
       "            b        4735\n",
       "2016-03-05  a        2731\n",
       "            b        4002\n",
       "2016-03-06  a        3140\n",
       "            b        4503\n",
       "2016-03-07  a        4029\n",
       "            b        5512\n",
       "2016-03-08  a        3420\n",
       "            b        4664\n",
       "Name: session_id, dtype: int64"
      ]
     },
     "execution_count": 17,
     "metadata": {},
     "output_type": "execute_result"
    }
   ],
   "source": [
    "# mozda i == 'searchResultPage'\n",
    "sessionsByDateGroups = df[df['action'] != 'checkin'].groupby(['date', 'group'])['session_id'].nunique()\n",
    "sessionsByDateGroups"
   ]
  },
  {
   "cell_type": "code",
   "execution_count": 18,
   "metadata": {},
   "outputs": [
    {
     "data": {
      "text/plain": [
       "date        group\n",
       "2016-03-01  a        2825\n",
       "            b         699\n",
       "2016-03-02  a        2877\n",
       "            b         725\n",
       "2016-03-03  a        2844\n",
       "            b         782\n",
       "2016-03-04  a        2374\n",
       "            b         913\n",
       "2016-03-05  a        1764\n",
       "            b         809\n",
       "2016-03-06  a        2114\n",
       "            b         854\n",
       "2016-03-07  a        2648\n",
       "            b        1099\n",
       "2016-03-08  a        2275\n",
       "            b         865\n",
       "Name: session_id, dtype: int64"
      ]
     },
     "execution_count": 18,
     "metadata": {},
     "output_type": "execute_result"
    }
   ],
   "source": [
    "sessionsClickByDateGroups = df[df['action'] == 'visitPage'].groupby(['date', 'group'])['session_id'].nunique()\n",
    "sessionsClickByDateGroups"
   ]
  },
  {
   "cell_type": "code",
   "execution_count": 19,
   "metadata": {},
   "outputs": [
    {
     "data": {
      "text/plain": [
       "Text(0.5, 1.0, 'Clickthrough rate by dates for both groups')"
      ]
     },
     "execution_count": 19,
     "metadata": {},
     "output_type": "execute_result"
    },
    {
     "data": {
      "image/png": "[encoded data removed]",
      "text/plain": [
       "<Figure size 1080x576 with 1 Axes>"
      ]
     },
     "metadata": {
      "needs_background": "light"
     },
     "output_type": "display_data"
    }
   ],
   "source": [
    "ctrDatesGroups1 = (sessionsClickByDateGroups / sessionsByDateGroups) * 100\n",
    "ctrDatesGroups1.unstack().plot(figsize=(15, 8))\n",
    "plt.title('Clickthrough rate by dates for both groups')"
   ]
  },
  {
   "cell_type": "markdown",
   "metadata": {},
   "source": [
    "Clickthrough rate by definition: ctr = num of click / num of shown results (on session level)\n",
    "\n",
    "Definition from Skype"
   ]
  },
  {
   "cell_type": "code",
   "execution_count": 20,
   "metadata": {},
   "outputs": [
    {
     "data": {
      "text/plain": [
       "session_id\n",
       "0000cbcb67c19c45     20.0\n",
       "0001382e027b2ea4     18.0\n",
       "0001e8bb90445cb2     20.0\n",
       "000216cf18ae1ab1    120.0\n",
       "000527f711d50dfc      1.0\n",
       "00064fe774048046      1.0\n",
       "00071a2cf97168df     20.0\n",
       "0007582fe23d51e6      0.0\n",
       "0007b7f6b575feb6     20.0\n",
       "00086b6ff8156928      0.0\n",
       "000936ae06d62383     20.0\n",
       "000951bf5fe30840     20.0\n",
       "00099d10c3e9149a      3.0\n",
       "000b113f9abde96a     20.0\n",
       "000b72561100b509     20.0\n",
       "000eb0a149f6232c      0.0\n",
       "000f17bb91b8d6dc     20.0\n",
       "000fb60e9dab4303     42.0\n",
       "00106ab7f5dba3db    100.0\n",
       "00107af22eb9dc3a     20.0\n",
       "00110030e5582a05     40.0\n",
       "001113537e4f8a9f      0.0\n",
       "0011d89c413e9adb     40.0\n",
       "00128afbdfb1e2a5      6.0\n",
       "00131dfc3cd00a65     40.0\n",
       "0013922a4ed4df0a     20.0\n",
       "0013974d3a981c99      0.0\n",
       "00139b84719e8062      3.0\n",
       "0014bd91520b25f4      9.0\n",
       "0014fac7fd3e71e2     20.0\n",
       "                    ...  \n",
       "ffe002036e370b06    140.0\n",
       "ffe1a14d4565573d     20.0\n",
       "ffe1be6af4a9b8bb      6.0\n",
       "ffe23dcfbc85e73d     20.0\n",
       "ffe454e0e2dc801d      0.0\n",
       "ffe78a0ddf066d97     13.0\n",
       "ffe7e6f264d596f5     20.0\n",
       "ffeae7a8610b236a      1.0\n",
       "ffebe426e2429ca4     40.0\n",
       "ffebf2f8df702d3b     20.0\n",
       "ffee12e5d4e82c66     80.0\n",
       "ffef842da9f229e3     60.0\n",
       "fff0d75422ed5f08     20.0\n",
       "fff16db98468f34a     13.0\n",
       "fff2b5a8cfa190f9     20.0\n",
       "fff2bf5869344675     20.0\n",
       "fff2d74c777dbe54     20.0\n",
       "fff3a9ccbf16fd52     40.0\n",
       "fff42e6573b15d2d     20.0\n",
       "fff46f133025f41b      7.0\n",
       "fff5341be7e1b6cf     40.0\n",
       "fff73365ad380bc7     60.0\n",
       "fff83e025680fba6     20.0\n",
       "fffa1d5e2c608ba6     40.0\n",
       "fffa387663722d38      1.0\n",
       "fffa5a2bcaf090c4      0.0\n",
       "fffa88acebf831c8     80.0\n",
       "fffac2c4111308d0     20.0\n",
       "fffb978cc690214c     40.0\n",
       "ffff9adcd8f302d6    109.0\n",
       "Name: n_results, Length: 68028, dtype: float64"
      ]
     },
     "execution_count": 20,
     "metadata": {},
     "output_type": "execute_result"
    }
   ],
   "source": [
    "# number of search results for each different session\n",
    "numOfResults = df.groupby('session_id')['n_results'].sum()\n",
    "numOfResults"
   ]
  },
  {
   "cell_type": "code",
   "execution_count": 46,
   "metadata": {},
   "outputs": [
    {
     "data": {
      "text/plain": [
       "session_id\n",
       "0001382e027b2ea4    1\n",
       "0001e8bb90445cb2    1\n",
       "00064fe774048046    1\n",
       "0007b7f6b575feb6    3\n",
       "000b72561100b509    1\n",
       "000f17bb91b8d6dc    1\n",
       "000fb60e9dab4303    1\n",
       "00131dfc3cd00a65    1\n",
       "0014bd91520b25f4    1\n",
       "0017941fc481e3cd    1\n",
       "001a5d781a77e163    1\n",
       "001b3ab86a341cb8    1\n",
       "001e2d0e159172d2    1\n",
       "001e61b5477f5efc    1\n",
       "0021bdc79443f16b    1\n",
       "00224c4200d5a2f1    1\n",
       "0024c4506bf92e1c    2\n",
       "00277db385057323    1\n",
       "002856cd6d1f2fd8    1\n",
       "0029420a5f8c7d90    1\n",
       "002b97995ca9ce77    2\n",
       "002d123e0605ad64    1\n",
       "003037c8d3c3fe94    1\n",
       "00317ffe60c93021    3\n",
       "0031a92ff6c1d7a6    1\n",
       "0033cbfcfa745cf9    1\n",
       "0034a5ad56ece776    1\n",
       "0036c92860f1e6e3    1\n",
       "00376681bebc19f5    1\n",
       "0038e2d15bd5859a    1\n",
       "                   ..\n",
       "ffbe76f2d777029a    1\n",
       "ffc1fa66ded4bbc7    1\n",
       "ffc2a8bd07506206    1\n",
       "ffc506c2f7d24b32    1\n",
       "ffc7058c6769e3ac    2\n",
       "ffc8a4206d7272ee    1\n",
       "ffc8e9affd1f6770    2\n",
       "ffcdebd4713829d3    2\n",
       "ffce5c81ae5782cc    1\n",
       "ffd1aaf1e0fbb88e    1\n",
       "ffd85369e0e6d8a7    1\n",
       "ffd88039c4b94be2    2\n",
       "ffda8f3cff8f953c    1\n",
       "ffdb4d6bd1d6449e    1\n",
       "ffdb853870092f4c    1\n",
       "ffdd549708b44dd3    1\n",
       "ffdf5d155e9b5c19    1\n",
       "ffe002036e370b06    1\n",
       "ffe1a14d4565573d    1\n",
       "ffe1be6af4a9b8bb    2\n",
       "ffe23dcfbc85e73d    1\n",
       "ffe78a0ddf066d97    1\n",
       "ffebe426e2429ca4    1\n",
       "fff3a9ccbf16fd52    1\n",
       "fff5341be7e1b6cf    1\n",
       "fff73365ad380bc7    3\n",
       "fffa1d5e2c608ba6    1\n",
       "fffa88acebf831c8    2\n",
       "fffb978cc690214c    1\n",
       "ffff9adcd8f302d6    1\n",
       "Name: page_id, Length: 26452, dtype: int64"
      ]
     },
     "execution_count": 46,
     "metadata": {},
     "output_type": "execute_result"
    }
   ],
   "source": [
    "# number of clicks (visited pages) for each different session\n",
    "numOfClicks = df[df['action'] == 'visitPage'].groupby('session_id')['page_id'].count()\n",
    "numOfClicks"
   ]
  },
  {
   "cell_type": "code",
   "execution_count": 49,
   "metadata": {},
   "outputs": [
    {
     "data": {
      "text/plain": [
       "(1, 100)"
      ]
     },
     "execution_count": 49,
     "metadata": {},
     "output_type": "execute_result"
    },
    {
     "data": {
      "image/png": "[encoded data removed]",
      "text/plain": [
       "<Figure size 1080x576 with 1 Axes>"
      ]
     },
     "metadata": {
      "needs_background": "light"
     },
     "output_type": "display_data"
    }
   ],
   "source": [
    "# ctr = num of click / num of shown results (on session level)\n",
    "ctr2 = numOfClicks[numOfClicks > 0] / numOfResults[numOfResults > 0] * 100\n",
    "ctr2 = ctr2[ctr2 <= 100]\n",
    "\n",
    "# distribution plot of results\n",
    "plt.figure(figsize=(15, 8))\n",
    "sns.distplot(ctr2, kde=False, bins=20)\n",
    "plt.title('Distribution of clickthrough rate (ctr = num of clicks / num of results * 100%)')\n",
    "plt.xlabel('%')\n",
    "plt.xlim(1, 100)\n",
    "\n",
    "# here we can see that people tend to open just a few link per session (most of the time just one link)"
   ]
  },
  {
   "cell_type": "markdown",
   "metadata": {},
   "source": [
    "3. What is the daily overall zero results rate? How does it vary between the groups?\n",
    "\n",
    "def. => zero results rate = zero results sessions / all search sessions"
   ]
  },
  {
   "cell_type": "code",
   "execution_count": 23,
   "metadata": {},
   "outputs": [
    {
     "data": {
      "text/plain": [
       "date        group\n",
       "2016-03-01  a        12582\n",
       "            b         5792\n",
       "2016-03-02  a        13209\n",
       "            b         5693\n",
       "2016-03-03  a        13280\n",
       "            b         5879\n",
       "2016-03-04  a        11298\n",
       "            b         5377\n",
       "2016-03-05  a         8612\n",
       "            b         4592\n",
       "2016-03-06  a         9469\n",
       "            b         5143\n",
       "2016-03-07  a        12699\n",
       "            b         6312\n",
       "2016-03-08  a        10907\n",
       "            b         5390\n",
       "Name: page_id, dtype: int64"
      ]
     },
     "execution_count": 23,
     "metadata": {},
     "output_type": "execute_result"
    }
   ],
   "source": [
    "# zero results rate = (zero results sessions / all sessions) * 100\n",
    "allSearchSessions = df[df['action'] == 'searchResultPage'].groupby(['date', 'group']).count()['page_id']\n",
    "allSearchSessions"
   ]
  },
  {
   "cell_type": "code",
   "execution_count": 24,
   "metadata": {},
   "outputs": [
    {
     "data": {
      "text/plain": [
       "date        group\n",
       "2016-03-01  a        2350\n",
       "            b        1097\n",
       "2016-03-02  a        2524\n",
       "            b        1065\n",
       "2016-03-03  a        2371\n",
       "            b        1072\n",
       "2016-03-04  a        2068\n",
       "            b         947\n",
       "2016-03-05  a        1535\n",
       "            b         907\n",
       "2016-03-06  a        1599\n",
       "            b         975\n",
       "2016-03-07  a        2316\n",
       "            b        1144\n",
       "2016-03-08  a        2139\n",
       "            b        1018\n",
       "Name: page_id, dtype: int64"
      ]
     },
     "execution_count": 24,
     "metadata": {},
     "output_type": "execute_result"
    }
   ],
   "source": [
    "zeroResultsSessions = df[df['n_results'] == 0].groupby(['date', 'group']).count()['page_id']\n",
    "zeroResultsSessions"
   ]
  },
  {
   "cell_type": "code",
   "execution_count": 25,
   "metadata": {},
   "outputs": [
    {
     "data": {
      "text/plain": [
       "date        group\n",
       "2016-03-01  a        18.677476\n",
       "            b        18.939917\n",
       "2016-03-02  a        19.108184\n",
       "            b        18.707184\n",
       "2016-03-03  a        17.853916\n",
       "            b        18.234394\n",
       "2016-03-04  a        18.304125\n",
       "            b        17.612051\n",
       "2016-03-05  a        17.823967\n",
       "            b        19.751742\n",
       "2016-03-06  a        16.886683\n",
       "            b        18.957807\n",
       "2016-03-07  a        18.237657\n",
       "            b        18.124208\n",
       "2016-03-08  a        19.611259\n",
       "            b        18.886827\n",
       "Name: page_id, dtype: float64"
      ]
     },
     "execution_count": 25,
     "metadata": {},
     "output_type": "execute_result"
    }
   ],
   "source": [
    "zrr = (zeroResultsSessions / allSearchSessions) * 100\n",
    "zrr"
   ]
  },
  {
   "cell_type": "code",
   "execution_count": 99,
   "metadata": {},
   "outputs": [
    {
     "data": {
      "text/plain": [
       "Text(0, 0.5, '%')"
      ]
     },
     "execution_count": 99,
     "metadata": {},
     "output_type": "execute_result"
    },
    {
     "data": {
      "image/png": "[encoded data removed]",
      "text/plain": [
       "<Figure size 1080x576 with 1 Axes>"
      ]
     },
     "metadata": {
      "needs_background": "light"
     },
     "output_type": "display_data"
    }
   ],
   "source": [
    "zrr.unstack().plot.bar(figsize=(15, 8))\n",
    "plt.title('Zero result rate by dates for both groups')\n",
    "plt.ylabel('%')\n",
    "#zrr.unstack().plot()"
   ]
  },
  {
   "cell_type": "markdown",
   "metadata": {},
   "source": [
    "2. Which results do people tend to try first? How does it change day-to-day?"
   ]
  },
  {
   "cell_type": "code",
   "execution_count": 27,
   "metadata": {},
   "outputs": [
    {
     "data": {
      "text/plain": [
       "Text(0.5, 1.0, 'Relation between result position and number of clicks')"
      ]
     },
     "execution_count": 27,
     "metadata": {},
     "output_type": "execute_result"
    },
    {
     "data": {
      "image/png": "[encoded data removed]",
      "text/plain": [
       "<Figure size 1080x576 with 1 Axes>"
      ]
     },
     "metadata": {
      "needs_background": "light"
     },
     "output_type": "display_data"
    }
   ],
   "source": [
    "#value_count() i distribucija vrednosti result_position\n",
    "resPositionDistribution = df[df['action'] == 'visitPage']['result_position'].value_counts()\n",
    "dfRPD = pd.DataFrame(index=resPositionDistribution.index, data=resPositionDistribution)\n",
    "dfRPD.nlargest(10, 'result_position').plot(figsize=(15, 8))\n",
    "plt.title('Relation between result position and number of clicks')"
   ]
  },
  {
   "cell_type": "code",
   "execution_count": 28,
   "metadata": {},
   "outputs": [
    {
     "data": {
      "text/plain": [
       "Text(0, 0.5, 'Number of clicks')"
      ]
     },
     "execution_count": 28,
     "metadata": {},
     "output_type": "execute_result"
    },
    {
     "data": {
      "image/png": "[encoded data removed]",
      "text/plain": [
       "<Figure size 1080x576 with 1 Axes>"
      ]
     },
     "metadata": {
      "needs_background": "light"
     },
     "output_type": "display_data"
    }
   ],
   "source": [
    "# distribution of result position by dates\n",
    "tempRPD = df[df['action'] == 'visitPage'].groupby('date')['result_position'].apply(lambda var: var.value_counts().nlargest(5))\n",
    "dfDateRPD = pd.DataFrame(index=tempRPD.index, data=tempRPD).unstack()\n",
    "\n",
    "# plotting results\n",
    "labels = ['1st link', '2nd link', '3rd link', '4th link', '5th link']\n",
    "ax = dfDateRPD.plot(kind='bar', figsize=(15, 8)).legend(labels)\n",
    "plt.title('Distribution of result positions by dates')\n",
    "plt.xlabel('Dates')\n",
    "plt.ylabel('Number of clicks')"
   ]
  },
  {
   "cell_type": "markdown",
   "metadata": {},
   "source": [
    "4. Let session length be approximately the time between the first event and the last event in a session. Choose a variable from the dataset and describe its relationship to session length. Visualize the relationship."
   ]
  },
  {
   "cell_type": "code",
   "execution_count": 29,
   "metadata": {},
   "outputs": [
    {
     "data": {
      "text/plain": [
       "session_id\n",
       "0000cbcb67c19c45   2016-03-03 15:20:45\n",
       "0001382e027b2ea4   2016-03-07 08:49:55\n",
       "0001e8bb90445cb2   2016-03-05 09:24:15\n",
       "000216cf18ae1ab1   2016-03-08 16:19:46\n",
       "000527f711d50dfc   2016-03-08 05:33:00\n",
       "00064fe774048046   2016-03-05 07:42:04\n",
       "00071a2cf97168df   2016-03-07 14:50:35\n",
       "0007582fe23d51e6   2016-03-02 00:13:05\n",
       "0007b7f6b575feb6   2016-03-03 16:56:29\n",
       "00086b6ff8156928   2016-03-07 05:29:01\n",
       "000936ae06d62383   2016-03-01 12:36:54\n",
       "000951bf5fe30840   2016-03-04 12:10:35\n",
       "00099d10c3e9149a   2016-03-03 05:24:12\n",
       "000b113f9abde96a   2016-03-07 04:52:26\n",
       "000b72561100b509   2016-03-02 17:25:17\n",
       "000eb0a149f6232c   2016-03-05 16:48:14\n",
       "000f17bb91b8d6dc   2016-03-05 08:52:32\n",
       "000fb60e9dab4303   2016-03-02 21:26:06\n",
       "00106ab7f5dba3db   2016-03-02 16:19:22\n",
       "00107af22eb9dc3a   2016-03-07 22:44:44\n",
       "00110030e5582a05   2016-03-02 08:33:25\n",
       "001113537e4f8a9f   2016-03-02 18:36:52\n",
       "0011d89c413e9adb   2016-03-04 16:45:30\n",
       "00128afbdfb1e2a5   2016-03-06 08:21:23\n",
       "00131dfc3cd00a65   2016-03-08 01:16:52\n",
       "0013922a4ed4df0a   2016-03-08 07:39:47\n",
       "0013974d3a981c99   2016-03-03 09:14:43\n",
       "00139b84719e8062   2016-03-05 08:44:50\n",
       "0014bd91520b25f4   2016-03-08 16:02:39\n",
       "0014fac7fd3e71e2   2016-03-02 14:48:22\n",
       "                           ...        \n",
       "ffe002036e370b06   2016-03-07 21:20:09\n",
       "ffe1a14d4565573d   2016-03-08 15:18:39\n",
       "ffe1be6af4a9b8bb   2016-03-01 08:14:16\n",
       "ffe23dcfbc85e73d   2016-03-05 18:28:06\n",
       "ffe454e0e2dc801d   2016-03-06 11:19:50\n",
       "ffe78a0ddf066d97   2016-03-07 13:19:39\n",
       "ffe7e6f264d596f5   2016-03-05 17:35:49\n",
       "ffeae7a8610b236a   2016-03-07 07:31:14\n",
       "ffebe426e2429ca4   2016-03-03 08:07:20\n",
       "ffebf2f8df702d3b   2016-03-01 09:58:27\n",
       "ffee12e5d4e82c66   2016-03-03 14:14:42\n",
       "ffef842da9f229e3   2016-03-01 14:25:28\n",
       "fff0d75422ed5f08   2016-03-04 15:05:51\n",
       "fff16db98468f34a   2016-03-07 21:28:14\n",
       "fff2b5a8cfa190f9   2016-03-01 13:32:18\n",
       "fff2bf5869344675   2016-03-02 16:14:53\n",
       "fff2d74c777dbe54   2016-03-03 05:24:21\n",
       "fff3a9ccbf16fd52   2016-03-07 21:36:18\n",
       "fff42e6573b15d2d   2016-03-06 17:30:52\n",
       "fff46f133025f41b   2016-03-07 10:06:39\n",
       "fff5341be7e1b6cf   2016-03-04 10:28:31\n",
       "fff73365ad380bc7   2016-03-01 22:40:10\n",
       "fff83e025680fba6   2016-03-05 06:55:57\n",
       "fffa1d5e2c608ba6   2016-03-03 21:24:55\n",
       "fffa387663722d38   2016-03-08 13:36:05\n",
       "fffa5a2bcaf090c4   2016-03-03 14:41:29\n",
       "fffa88acebf831c8   2016-03-04 09:21:18\n",
       "fffac2c4111308d0   2016-03-08 03:27:08\n",
       "fffb978cc690214c   2016-03-01 15:06:59\n",
       "ffff9adcd8f302d6   2016-03-07 09:28:41\n",
       "Length: 68028, dtype: datetime64[ns]"
      ]
     },
     "execution_count": 29,
     "metadata": {},
     "output_type": "execute_result"
    }
   ],
   "source": [
    "# start of each session\n",
    "sessionStart = df.groupby('session_id').apply(lambda var: var['timestamp'].min())\n",
    "sessionStart"
   ]
  },
  {
   "cell_type": "code",
   "execution_count": 30,
   "metadata": {},
   "outputs": [
    {
     "data": {
      "text/plain": [
       "session_id\n",
       "0000cbcb67c19c45   2016-03-03 15:20:45\n",
       "0001382e027b2ea4   2016-03-07 08:54:58\n",
       "0001e8bb90445cb2   2016-03-05 09:31:30\n",
       "000216cf18ae1ab1   2016-03-08 16:20:44\n",
       "000527f711d50dfc   2016-03-08 05:33:00\n",
       "00064fe774048046   2016-03-05 07:42:47\n",
       "00071a2cf97168df   2016-03-07 14:50:35\n",
       "0007582fe23d51e6   2016-03-02 00:13:05\n",
       "0007b7f6b575feb6   2016-03-03 17:02:08\n",
       "00086b6ff8156928   2016-03-07 05:29:01\n",
       "000936ae06d62383   2016-03-01 12:36:54\n",
       "000951bf5fe30840   2016-03-04 12:10:35\n",
       "00099d10c3e9149a   2016-03-03 05:24:12\n",
       "000b113f9abde96a   2016-03-07 04:52:26\n",
       "000b72561100b509   2016-03-02 17:32:41\n",
       "000eb0a149f6232c   2016-03-05 16:48:14\n",
       "000f17bb91b8d6dc   2016-03-05 08:54:24\n",
       "000fb60e9dab4303   2016-03-02 21:29:39\n",
       "00106ab7f5dba3db   2016-03-02 16:22:05\n",
       "00107af22eb9dc3a   2016-03-07 22:44:44\n",
       "00110030e5582a05   2016-03-02 08:33:28\n",
       "001113537e4f8a9f   2016-03-02 18:36:52\n",
       "0011d89c413e9adb   2016-03-04 16:46:26\n",
       "00128afbdfb1e2a5   2016-03-06 08:21:23\n",
       "00131dfc3cd00a65   2016-03-08 01:24:15\n",
       "0013922a4ed4df0a   2016-03-08 07:40:24\n",
       "0013974d3a981c99   2016-03-03 09:14:43\n",
       "00139b84719e8062   2016-03-05 08:44:50\n",
       "0014bd91520b25f4   2016-03-08 16:09:58\n",
       "0014fac7fd3e71e2   2016-03-02 14:48:22\n",
       "                           ...        \n",
       "ffe002036e370b06   2016-03-07 21:21:47\n",
       "ffe1a14d4565573d   2016-03-08 15:25:41\n",
       "ffe1be6af4a9b8bb   2016-03-01 08:17:57\n",
       "ffe23dcfbc85e73d   2016-03-05 18:28:33\n",
       "ffe454e0e2dc801d   2016-03-06 11:19:50\n",
       "ffe78a0ddf066d97   2016-03-07 13:20:51\n",
       "ffe7e6f264d596f5   2016-03-05 17:36:00\n",
       "ffeae7a8610b236a   2016-03-07 07:31:14\n",
       "ffebe426e2429ca4   2016-03-03 08:07:41\n",
       "ffebf2f8df702d3b   2016-03-01 09:58:27\n",
       "ffee12e5d4e82c66   2016-03-03 14:22:22\n",
       "ffef842da9f229e3   2016-03-01 14:26:16\n",
       "fff0d75422ed5f08   2016-03-04 15:05:51\n",
       "fff16db98468f34a   2016-03-07 21:28:14\n",
       "fff2b5a8cfa190f9   2016-03-01 13:32:18\n",
       "fff2bf5869344675   2016-03-02 16:14:53\n",
       "fff2d74c777dbe54   2016-03-03 05:24:21\n",
       "fff3a9ccbf16fd52   2016-03-07 21:45:14\n",
       "fff42e6573b15d2d   2016-03-06 17:30:52\n",
       "fff46f133025f41b   2016-03-07 10:06:39\n",
       "fff5341be7e1b6cf   2016-03-04 10:45:37\n",
       "fff73365ad380bc7   2016-03-01 22:42:28\n",
       "fff83e025680fba6   2016-03-05 06:55:57\n",
       "fffa1d5e2c608ba6   2016-03-03 21:25:53\n",
       "fffa387663722d38   2016-03-08 13:36:05\n",
       "fffa5a2bcaf090c4   2016-03-03 14:41:29\n",
       "fffa88acebf831c8   2016-03-04 09:28:44\n",
       "fffac2c4111308d0   2016-03-08 03:27:08\n",
       "fffb978cc690214c   2016-03-01 15:09:55\n",
       "ffff9adcd8f302d6   2016-03-07 09:34:08\n",
       "Length: 68028, dtype: datetime64[ns]"
      ]
     },
     "execution_count": 30,
     "metadata": {},
     "output_type": "execute_result"
    }
   ],
   "source": [
    "# stop of each session\n",
    "sessionStop = df.groupby('session_id').apply(lambda var: var['timestamp'].max())\n",
    "sessionStop"
   ]
  },
  {
   "cell_type": "code",
   "execution_count": 41,
   "metadata": {},
   "outputs": [],
   "source": [
    "# sessionLenght = sessionStop - sessionStart\n",
    "sessionLength = sessionStop - sessionStart\n",
    "sessionLength = sessionLength.apply(lambda var: var.total_seconds())\n",
    "sessionLength = list(sessionLength)"
   ]
  },
  {
   "cell_type": "code",
   "execution_count": 143,
   "metadata": {},
   "outputs": [],
   "source": [
    "# max checkin for each session and page_id\n",
    "totalCheckins = df.groupby(['session_id', 'page_id']).apply(lambda var: var['checkin'].max())\n",
    "totalCheckins = totalCheckins.groupby('session_id').sum()\n",
    "totalCheckins = totalCheckins.fillna(0)\n",
    "totalCheckins = list(totalCheckins)"
   ]
  },
  {
   "cell_type": "code",
   "execution_count": 74,
   "metadata": {},
   "outputs": [],
   "source": [
    "# number of results for each session\n",
    "resultNums = df.groupby('session_id')['n_results'].sum()\n",
    "resultNums = list(resultNums)"
   ]
  },
  {
   "cell_type": "code",
   "execution_count": 117,
   "metadata": {},
   "outputs": [
    {
     "data": {
      "text/html": [
       "<div>\n",
       "<style scoped>\n",
       "    .dataframe tbody tr th:only-of-type {\n",
       "        vertical-align: middle;\n",
       "    }\n",
       "\n",
       "    .dataframe tbody tr th {\n",
       "        vertical-align: top;\n",
       "    }\n",
       "\n",
       "    .dataframe thead th {\n",
       "        text-align: right;\n",
       "    }\n",
       "</style>\n",
       "<table border=\"1\" class=\"dataframe\">\n",
       "  <thead>\n",
       "    <tr style=\"text-align: right;\">\n",
       "      <th></th>\n",
       "      <th>session length</th>\n",
       "      <th>visit page length</th>\n",
       "      <th>number of results</th>\n",
       "    </tr>\n",
       "  </thead>\n",
       "  <tbody>\n",
       "    <tr>\n",
       "      <th>0</th>\n",
       "      <td>0.0</td>\n",
       "      <td>0.0</td>\n",
       "      <td>20.0</td>\n",
       "    </tr>\n",
       "    <tr>\n",
       "      <th>1</th>\n",
       "      <td>303.0</td>\n",
       "      <td>300.0</td>\n",
       "      <td>18.0</td>\n",
       "    </tr>\n",
       "    <tr>\n",
       "      <th>2</th>\n",
       "      <td>435.0</td>\n",
       "      <td>420.0</td>\n",
       "      <td>20.0</td>\n",
       "    </tr>\n",
       "    <tr>\n",
       "      <th>3</th>\n",
       "      <td>58.0</td>\n",
       "      <td>0.0</td>\n",
       "      <td>120.0</td>\n",
       "    </tr>\n",
       "    <tr>\n",
       "      <th>4</th>\n",
       "      <td>0.0</td>\n",
       "      <td>0.0</td>\n",
       "      <td>1.0</td>\n",
       "    </tr>\n",
       "  </tbody>\n",
       "</table>\n",
       "</div>"
      ],
      "text/plain": [
       "   session length  visit page length  number of results\n",
       "0             0.0                0.0               20.0\n",
       "1           303.0              300.0               18.0\n",
       "2           435.0              420.0               20.0\n",
       "3            58.0                0.0              120.0\n",
       "4             0.0                0.0                1.0"
      ]
     },
     "execution_count": 117,
     "metadata": {},
     "output_type": "execute_result"
    }
   ],
   "source": [
    "# create new dataframe with two columns: total session length and visit page length\n",
    "dfLengths = pd.DataFrame(list(zip(sessionLength, totalCheckins, resultNums)), columns=['session length', 'visit page length', 'number of results'])\n",
    "dfLengths.head()"
   ]
  },
  {
   "cell_type": "code",
   "execution_count": 147,
   "metadata": {},
   "outputs": [
    {
     "data": {
      "text/html": [
       "<div>\n",
       "<style scoped>\n",
       "    .dataframe tbody tr th:only-of-type {\n",
       "        vertical-align: middle;\n",
       "    }\n",
       "\n",
       "    .dataframe tbody tr th {\n",
       "        vertical-align: top;\n",
       "    }\n",
       "\n",
       "    .dataframe thead th {\n",
       "        text-align: right;\n",
       "    }\n",
       "</style>\n",
       "<table border=\"1\" class=\"dataframe\">\n",
       "  <thead>\n",
       "    <tr style=\"text-align: right;\">\n",
       "      <th></th>\n",
       "      <th>session length</th>\n",
       "      <th>visit page length</th>\n",
       "      <th>number of results</th>\n",
       "    </tr>\n",
       "  </thead>\n",
       "  <tbody>\n",
       "    <tr>\n",
       "      <th>1</th>\n",
       "      <td>303.0</td>\n",
       "      <td>300.0</td>\n",
       "      <td>18.0</td>\n",
       "    </tr>\n",
       "    <tr>\n",
       "      <th>2</th>\n",
       "      <td>435.0</td>\n",
       "      <td>420.0</td>\n",
       "      <td>20.0</td>\n",
       "    </tr>\n",
       "    <tr>\n",
       "      <th>3</th>\n",
       "      <td>58.0</td>\n",
       "      <td>0.0</td>\n",
       "      <td>120.0</td>\n",
       "    </tr>\n",
       "    <tr>\n",
       "      <th>5</th>\n",
       "      <td>43.0</td>\n",
       "      <td>10.0</td>\n",
       "      <td>1.0</td>\n",
       "    </tr>\n",
       "    <tr>\n",
       "      <th>8</th>\n",
       "      <td>339.0</td>\n",
       "      <td>300.0</td>\n",
       "      <td>20.0</td>\n",
       "    </tr>\n",
       "  </tbody>\n",
       "</table>\n",
       "</div>"
      ],
      "text/plain": [
       "   session length  visit page length  number of results\n",
       "1           303.0              300.0               18.0\n",
       "2           435.0              420.0               20.0\n",
       "3            58.0                0.0              120.0\n",
       "5            43.0               10.0                1.0\n",
       "8           339.0              300.0               20.0"
      ]
     },
     "execution_count": 147,
     "metadata": {},
     "output_type": "execute_result"
    }
   ],
   "source": [
    "# session length, visit page length and number of results, without session with 0 duration\n",
    "notZeroLengths = pd.DataFrame(dfLengths[dfLengths['session length'] > 0])\n",
    "notZeroLengths.head()"
   ]
  },
  {
   "cell_type": "code",
   "execution_count": 148,
   "metadata": {},
   "outputs": [
    {
     "data": {
      "text/plain": [
       "<matplotlib.axes._subplots.AxesSubplot at 0x21b73c75390>"
      ]
     },
     "execution_count": 148,
     "metadata": {},
     "output_type": "execute_result"
    },
    {
     "data": {
      "image/png": "[encoded data removed]",
      "text/plain": [
       "<Figure size 432x288 with 2 Axes>"
      ]
     },
     "metadata": {},
     "output_type": "display_data"
    }
   ],
   "source": [
    "# correlation heatmap\n",
    "sns.heatmap(notZeroLengths.corr(), annot=True, cmap='viridis')"
   ]
  },
  {
   "cell_type": "code",
   "execution_count": 160,
   "metadata": {},
   "outputs": [
    {
     "data": {
      "text/html": [
       "<div>\n",
       "<style scoped>\n",
       "    .dataframe tbody tr th:only-of-type {\n",
       "        vertical-align: middle;\n",
       "    }\n",
       "\n",
       "    .dataframe tbody tr th {\n",
       "        vertical-align: top;\n",
       "    }\n",
       "\n",
       "    .dataframe thead th {\n",
       "        text-align: right;\n",
       "    }\n",
       "</style>\n",
       "<table border=\"1\" class=\"dataframe\">\n",
       "  <thead>\n",
       "    <tr style=\"text-align: right;\">\n",
       "      <th></th>\n",
       "      <th>session length</th>\n",
       "      <th>visit page length</th>\n",
       "      <th>number of results</th>\n",
       "      <th>proportion</th>\n",
       "    </tr>\n",
       "  </thead>\n",
       "  <tbody>\n",
       "    <tr>\n",
       "      <th>1</th>\n",
       "      <td>303.0</td>\n",
       "      <td>300.0</td>\n",
       "      <td>18.0</td>\n",
       "      <td>99.009901</td>\n",
       "    </tr>\n",
       "    <tr>\n",
       "      <th>2</th>\n",
       "      <td>435.0</td>\n",
       "      <td>420.0</td>\n",
       "      <td>20.0</td>\n",
       "      <td>96.551724</td>\n",
       "    </tr>\n",
       "    <tr>\n",
       "      <th>3</th>\n",
       "      <td>58.0</td>\n",
       "      <td>0.0</td>\n",
       "      <td>120.0</td>\n",
       "      <td>0.000000</td>\n",
       "    </tr>\n",
       "    <tr>\n",
       "      <th>5</th>\n",
       "      <td>43.0</td>\n",
       "      <td>10.0</td>\n",
       "      <td>1.0</td>\n",
       "      <td>23.255814</td>\n",
       "    </tr>\n",
       "    <tr>\n",
       "      <th>8</th>\n",
       "      <td>339.0</td>\n",
       "      <td>300.0</td>\n",
       "      <td>20.0</td>\n",
       "      <td>88.495575</td>\n",
       "    </tr>\n",
       "    <tr>\n",
       "      <th>14</th>\n",
       "      <td>444.0</td>\n",
       "      <td>420.0</td>\n",
       "      <td>20.0</td>\n",
       "      <td>94.594595</td>\n",
       "    </tr>\n",
       "    <tr>\n",
       "      <th>16</th>\n",
       "      <td>112.0</td>\n",
       "      <td>90.0</td>\n",
       "      <td>20.0</td>\n",
       "      <td>80.357143</td>\n",
       "    </tr>\n",
       "    <tr>\n",
       "      <th>17</th>\n",
       "      <td>213.0</td>\n",
       "      <td>0.0</td>\n",
       "      <td>42.0</td>\n",
       "      <td>0.000000</td>\n",
       "    </tr>\n",
       "    <tr>\n",
       "      <th>18</th>\n",
       "      <td>163.0</td>\n",
       "      <td>0.0</td>\n",
       "      <td>100.0</td>\n",
       "      <td>0.000000</td>\n",
       "    </tr>\n",
       "    <tr>\n",
       "      <th>20</th>\n",
       "      <td>3.0</td>\n",
       "      <td>0.0</td>\n",
       "      <td>40.0</td>\n",
       "      <td>0.000000</td>\n",
       "    </tr>\n",
       "    <tr>\n",
       "      <th>22</th>\n",
       "      <td>56.0</td>\n",
       "      <td>0.0</td>\n",
       "      <td>40.0</td>\n",
       "      <td>0.000000</td>\n",
       "    </tr>\n",
       "    <tr>\n",
       "      <th>24</th>\n",
       "      <td>443.0</td>\n",
       "      <td>420.0</td>\n",
       "      <td>40.0</td>\n",
       "      <td>94.808126</td>\n",
       "    </tr>\n",
       "    <tr>\n",
       "      <th>25</th>\n",
       "      <td>37.0</td>\n",
       "      <td>0.0</td>\n",
       "      <td>20.0</td>\n",
       "      <td>0.000000</td>\n",
       "    </tr>\n",
       "    <tr>\n",
       "      <th>28</th>\n",
       "      <td>439.0</td>\n",
       "      <td>420.0</td>\n",
       "      <td>9.0</td>\n",
       "      <td>95.671982</td>\n",
       "    </tr>\n",
       "    <tr>\n",
       "      <th>31</th>\n",
       "      <td>172.0</td>\n",
       "      <td>0.0</td>\n",
       "      <td>40.0</td>\n",
       "      <td>0.000000</td>\n",
       "    </tr>\n",
       "    <tr>\n",
       "      <th>32</th>\n",
       "      <td>20.0</td>\n",
       "      <td>0.0</td>\n",
       "      <td>40.0</td>\n",
       "      <td>0.000000</td>\n",
       "    </tr>\n",
       "    <tr>\n",
       "      <th>34</th>\n",
       "      <td>11.0</td>\n",
       "      <td>0.0</td>\n",
       "      <td>28.0</td>\n",
       "      <td>0.000000</td>\n",
       "    </tr>\n",
       "    <tr>\n",
       "      <th>36</th>\n",
       "      <td>84.0</td>\n",
       "      <td>60.0</td>\n",
       "      <td>60.0</td>\n",
       "      <td>71.428571</td>\n",
       "    </tr>\n",
       "    <tr>\n",
       "      <th>38</th>\n",
       "      <td>42.0</td>\n",
       "      <td>0.0</td>\n",
       "      <td>20.0</td>\n",
       "      <td>0.000000</td>\n",
       "    </tr>\n",
       "    <tr>\n",
       "      <th>40</th>\n",
       "      <td>197.0</td>\n",
       "      <td>60.0</td>\n",
       "      <td>3.0</td>\n",
       "      <td>30.456853</td>\n",
       "    </tr>\n",
       "    <tr>\n",
       "      <th>41</th>\n",
       "      <td>425.0</td>\n",
       "      <td>420.0</td>\n",
       "      <td>20.0</td>\n",
       "      <td>98.823529</td>\n",
       "    </tr>\n",
       "    <tr>\n",
       "      <th>43</th>\n",
       "      <td>14.0</td>\n",
       "      <td>10.0</td>\n",
       "      <td>20.0</td>\n",
       "      <td>71.428571</td>\n",
       "    </tr>\n",
       "    <tr>\n",
       "      <th>44</th>\n",
       "      <td>56.0</td>\n",
       "      <td>40.0</td>\n",
       "      <td>7.0</td>\n",
       "      <td>71.428571</td>\n",
       "    </tr>\n",
       "    <tr>\n",
       "      <th>45</th>\n",
       "      <td>128.0</td>\n",
       "      <td>0.0</td>\n",
       "      <td>0.0</td>\n",
       "      <td>0.000000</td>\n",
       "    </tr>\n",
       "    <tr>\n",
       "      <th>46</th>\n",
       "      <td>4.0</td>\n",
       "      <td>0.0</td>\n",
       "      <td>7.0</td>\n",
       "      <td>0.000000</td>\n",
       "    </tr>\n",
       "    <tr>\n",
       "      <th>47</th>\n",
       "      <td>34.0</td>\n",
       "      <td>30.0</td>\n",
       "      <td>20.0</td>\n",
       "      <td>88.235294</td>\n",
       "    </tr>\n",
       "    <tr>\n",
       "      <th>49</th>\n",
       "      <td>607.0</td>\n",
       "      <td>420.0</td>\n",
       "      <td>40.0</td>\n",
       "      <td>69.192751</td>\n",
       "    </tr>\n",
       "    <tr>\n",
       "      <th>50</th>\n",
       "      <td>115.0</td>\n",
       "      <td>0.0</td>\n",
       "      <td>60.0</td>\n",
       "      <td>0.000000</td>\n",
       "    </tr>\n",
       "    <tr>\n",
       "      <th>54</th>\n",
       "      <td>34.0</td>\n",
       "      <td>30.0</td>\n",
       "      <td>20.0</td>\n",
       "      <td>88.235294</td>\n",
       "    </tr>\n",
       "    <tr>\n",
       "      <th>55</th>\n",
       "      <td>30.0</td>\n",
       "      <td>20.0</td>\n",
       "      <td>20.0</td>\n",
       "      <td>66.666667</td>\n",
       "    </tr>\n",
       "    <tr>\n",
       "      <th>...</th>\n",
       "      <td>...</td>\n",
       "      <td>...</td>\n",
       "      <td>...</td>\n",
       "      <td>...</td>\n",
       "    </tr>\n",
       "    <tr>\n",
       "      <th>67979</th>\n",
       "      <td>9.0</td>\n",
       "      <td>0.0</td>\n",
       "      <td>21.0</td>\n",
       "      <td>0.000000</td>\n",
       "    </tr>\n",
       "    <tr>\n",
       "      <th>67980</th>\n",
       "      <td>120.0</td>\n",
       "      <td>0.0</td>\n",
       "      <td>0.0</td>\n",
       "      <td>0.000000</td>\n",
       "    </tr>\n",
       "    <tr>\n",
       "      <th>67982</th>\n",
       "      <td>3.0</td>\n",
       "      <td>0.0</td>\n",
       "      <td>40.0</td>\n",
       "      <td>0.000000</td>\n",
       "    </tr>\n",
       "    <tr>\n",
       "      <th>67983</th>\n",
       "      <td>25.0</td>\n",
       "      <td>0.0</td>\n",
       "      <td>40.0</td>\n",
       "      <td>0.000000</td>\n",
       "    </tr>\n",
       "    <tr>\n",
       "      <th>67984</th>\n",
       "      <td>17.0</td>\n",
       "      <td>10.0</td>\n",
       "      <td>20.0</td>\n",
       "      <td>58.823529</td>\n",
       "    </tr>\n",
       "    <tr>\n",
       "      <th>67985</th>\n",
       "      <td>18.0</td>\n",
       "      <td>10.0</td>\n",
       "      <td>20.0</td>\n",
       "      <td>55.555556</td>\n",
       "    </tr>\n",
       "    <tr>\n",
       "      <th>67987</th>\n",
       "      <td>23.0</td>\n",
       "      <td>0.0</td>\n",
       "      <td>0.0</td>\n",
       "      <td>0.000000</td>\n",
       "    </tr>\n",
       "    <tr>\n",
       "      <th>67988</th>\n",
       "      <td>18.0</td>\n",
       "      <td>10.0</td>\n",
       "      <td>34.0</td>\n",
       "      <td>55.555556</td>\n",
       "    </tr>\n",
       "    <tr>\n",
       "      <th>67989</th>\n",
       "      <td>43.0</td>\n",
       "      <td>0.0</td>\n",
       "      <td>22.0</td>\n",
       "      <td>0.000000</td>\n",
       "    </tr>\n",
       "    <tr>\n",
       "      <th>67990</th>\n",
       "      <td>28.0</td>\n",
       "      <td>20.0</td>\n",
       "      <td>40.0</td>\n",
       "      <td>71.428571</td>\n",
       "    </tr>\n",
       "    <tr>\n",
       "      <th>67991</th>\n",
       "      <td>316.0</td>\n",
       "      <td>300.0</td>\n",
       "      <td>10.0</td>\n",
       "      <td>94.936709</td>\n",
       "    </tr>\n",
       "    <tr>\n",
       "      <th>67993</th>\n",
       "      <td>56.0</td>\n",
       "      <td>50.0</td>\n",
       "      <td>20.0</td>\n",
       "      <td>89.285714</td>\n",
       "    </tr>\n",
       "    <tr>\n",
       "      <th>67995</th>\n",
       "      <td>14.0</td>\n",
       "      <td>0.0</td>\n",
       "      <td>0.0</td>\n",
       "      <td>0.000000</td>\n",
       "    </tr>\n",
       "    <tr>\n",
       "      <th>67996</th>\n",
       "      <td>643.0</td>\n",
       "      <td>240.0</td>\n",
       "      <td>108.0</td>\n",
       "      <td>37.325039</td>\n",
       "    </tr>\n",
       "    <tr>\n",
       "      <th>67998</th>\n",
       "      <td>98.0</td>\n",
       "      <td>30.0</td>\n",
       "      <td>140.0</td>\n",
       "      <td>30.612245</td>\n",
       "    </tr>\n",
       "    <tr>\n",
       "      <th>67999</th>\n",
       "      <td>422.0</td>\n",
       "      <td>420.0</td>\n",
       "      <td>20.0</td>\n",
       "      <td>99.526066</td>\n",
       "    </tr>\n",
       "    <tr>\n",
       "      <th>68000</th>\n",
       "      <td>221.0</td>\n",
       "      <td>60.0</td>\n",
       "      <td>6.0</td>\n",
       "      <td>27.149321</td>\n",
       "    </tr>\n",
       "    <tr>\n",
       "      <th>68001</th>\n",
       "      <td>27.0</td>\n",
       "      <td>20.0</td>\n",
       "      <td>20.0</td>\n",
       "      <td>74.074074</td>\n",
       "    </tr>\n",
       "    <tr>\n",
       "      <th>68003</th>\n",
       "      <td>72.0</td>\n",
       "      <td>60.0</td>\n",
       "      <td>13.0</td>\n",
       "      <td>83.333333</td>\n",
       "    </tr>\n",
       "    <tr>\n",
       "      <th>68004</th>\n",
       "      <td>11.0</td>\n",
       "      <td>0.0</td>\n",
       "      <td>20.0</td>\n",
       "      <td>0.000000</td>\n",
       "    </tr>\n",
       "    <tr>\n",
       "      <th>68006</th>\n",
       "      <td>21.0</td>\n",
       "      <td>0.0</td>\n",
       "      <td>40.0</td>\n",
       "      <td>0.000000</td>\n",
       "    </tr>\n",
       "    <tr>\n",
       "      <th>68008</th>\n",
       "      <td>460.0</td>\n",
       "      <td>0.0</td>\n",
       "      <td>80.0</td>\n",
       "      <td>0.000000</td>\n",
       "    </tr>\n",
       "    <tr>\n",
       "      <th>68009</th>\n",
       "      <td>48.0</td>\n",
       "      <td>0.0</td>\n",
       "      <td>60.0</td>\n",
       "      <td>0.000000</td>\n",
       "    </tr>\n",
       "    <tr>\n",
       "      <th>68015</th>\n",
       "      <td>536.0</td>\n",
       "      <td>300.0</td>\n",
       "      <td>40.0</td>\n",
       "      <td>55.970149</td>\n",
       "    </tr>\n",
       "    <tr>\n",
       "      <th>68018</th>\n",
       "      <td>1026.0</td>\n",
       "      <td>420.0</td>\n",
       "      <td>40.0</td>\n",
       "      <td>40.935673</td>\n",
       "    </tr>\n",
       "    <tr>\n",
       "      <th>68019</th>\n",
       "      <td>138.0</td>\n",
       "      <td>60.0</td>\n",
       "      <td>60.0</td>\n",
       "      <td>43.478261</td>\n",
       "    </tr>\n",
       "    <tr>\n",
       "      <th>68021</th>\n",
       "      <td>58.0</td>\n",
       "      <td>40.0</td>\n",
       "      <td>40.0</td>\n",
       "      <td>68.965517</td>\n",
       "    </tr>\n",
       "    <tr>\n",
       "      <th>68024</th>\n",
       "      <td>446.0</td>\n",
       "      <td>360.0</td>\n",
       "      <td>80.0</td>\n",
       "      <td>80.717489</td>\n",
       "    </tr>\n",
       "    <tr>\n",
       "      <th>68026</th>\n",
       "      <td>176.0</td>\n",
       "      <td>150.0</td>\n",
       "      <td>40.0</td>\n",
       "      <td>85.227273</td>\n",
       "    </tr>\n",
       "    <tr>\n",
       "      <th>68027</th>\n",
       "      <td>327.0</td>\n",
       "      <td>60.0</td>\n",
       "      <td>109.0</td>\n",
       "      <td>18.348624</td>\n",
       "    </tr>\n",
       "  </tbody>\n",
       "</table>\n",
       "<p>40422 rows × 4 columns</p>\n",
       "</div>"
      ],
      "text/plain": [
       "       session length  visit page length  number of results  proportion\n",
       "1               303.0              300.0               18.0   99.009901\n",
       "2               435.0              420.0               20.0   96.551724\n",
       "3                58.0                0.0              120.0    0.000000\n",
       "5                43.0               10.0                1.0   23.255814\n",
       "8               339.0              300.0               20.0   88.495575\n",
       "14              444.0              420.0               20.0   94.594595\n",
       "16              112.0               90.0               20.0   80.357143\n",
       "17              213.0                0.0               42.0    0.000000\n",
       "18              163.0                0.0              100.0    0.000000\n",
       "20                3.0                0.0               40.0    0.000000\n",
       "22               56.0                0.0               40.0    0.000000\n",
       "24              443.0              420.0               40.0   94.808126\n",
       "25               37.0                0.0               20.0    0.000000\n",
       "28              439.0              420.0                9.0   95.671982\n",
       "31              172.0                0.0               40.0    0.000000\n",
       "32               20.0                0.0               40.0    0.000000\n",
       "34               11.0                0.0               28.0    0.000000\n",
       "36               84.0               60.0               60.0   71.428571\n",
       "38               42.0                0.0               20.0    0.000000\n",
       "40              197.0               60.0                3.0   30.456853\n",
       "41              425.0              420.0               20.0   98.823529\n",
       "43               14.0               10.0               20.0   71.428571\n",
       "44               56.0               40.0                7.0   71.428571\n",
       "45              128.0                0.0                0.0    0.000000\n",
       "46                4.0                0.0                7.0    0.000000\n",
       "47               34.0               30.0               20.0   88.235294\n",
       "49              607.0              420.0               40.0   69.192751\n",
       "50              115.0                0.0               60.0    0.000000\n",
       "54               34.0               30.0               20.0   88.235294\n",
       "55               30.0               20.0               20.0   66.666667\n",
       "...               ...                ...                ...         ...\n",
       "67979             9.0                0.0               21.0    0.000000\n",
       "67980           120.0                0.0                0.0    0.000000\n",
       "67982             3.0                0.0               40.0    0.000000\n",
       "67983            25.0                0.0               40.0    0.000000\n",
       "67984            17.0               10.0               20.0   58.823529\n",
       "67985            18.0               10.0               20.0   55.555556\n",
       "67987            23.0                0.0                0.0    0.000000\n",
       "67988            18.0               10.0               34.0   55.555556\n",
       "67989            43.0                0.0               22.0    0.000000\n",
       "67990            28.0               20.0               40.0   71.428571\n",
       "67991           316.0              300.0               10.0   94.936709\n",
       "67993            56.0               50.0               20.0   89.285714\n",
       "67995            14.0                0.0                0.0    0.000000\n",
       "67996           643.0              240.0              108.0   37.325039\n",
       "67998            98.0               30.0              140.0   30.612245\n",
       "67999           422.0              420.0               20.0   99.526066\n",
       "68000           221.0               60.0                6.0   27.149321\n",
       "68001            27.0               20.0               20.0   74.074074\n",
       "68003            72.0               60.0               13.0   83.333333\n",
       "68004            11.0                0.0               20.0    0.000000\n",
       "68006            21.0                0.0               40.0    0.000000\n",
       "68008           460.0                0.0               80.0    0.000000\n",
       "68009            48.0                0.0               60.0    0.000000\n",
       "68015           536.0              300.0               40.0   55.970149\n",
       "68018          1026.0              420.0               40.0   40.935673\n",
       "68019           138.0               60.0               60.0   43.478261\n",
       "68021            58.0               40.0               40.0   68.965517\n",
       "68024           446.0              360.0               80.0   80.717489\n",
       "68026           176.0              150.0               40.0   85.227273\n",
       "68027           327.0               60.0              109.0   18.348624\n",
       "\n",
       "[40422 rows x 4 columns]"
      ]
     },
     "execution_count": 160,
     "metadata": {},
     "output_type": "execute_result"
    }
   ],
   "source": [
    "# add column for proportion between session length and visit page length\n",
    "temp = notZeroLengths['visit page length'] / notZeroLengths['session length'] * 100\n",
    "notZeroLengths['proportion'] = temp\n",
    "notZeroLengths"
   ]
  },
  {
   "cell_type": "code",
   "execution_count": 167,
   "metadata": {},
   "outputs": [
    {
     "data": {
      "text/plain": [
       "Text(0, 0.5, 'Number of sessions')"
      ]
     },
     "execution_count": 167,
     "metadata": {},
     "output_type": "execute_result"
    },
    {
     "data": {
      "image/png": "[encoded data removed]",
      "text/plain": [
       "<Figure size 1080x576 with 1 Axes>"
      ]
     },
     "metadata": {},
     "output_type": "display_data"
    }
   ],
   "source": [
    "# plot distribution of proportion between duration of entire session and duration of link visits (search results links)\n",
    "plt.figure(figsize=(15, 8))\n",
    "sns.distplot(notZeroLengths['proportion'], kde=False, bins=70)\n",
    "plt.xlim(0, 100)\n",
    "plt.xlabel('%')\n",
    "plt.ylabel('Number of sessions')\n",
    "\n",
    "# here we can see that there are a lot of sessions with 0% <=> 0 seconds spent on visited pages (there are 0 visited pages)\n",
    "# also we can see that there are a lot of session with between 90-100% <=> \n",
    "# almost all of session duration is spent on visited pages "
   ]
  },
  {
   "cell_type": "code",
   "execution_count": 169,
   "metadata": {},
   "outputs": [
    {
     "data": {
      "text/plain": [
       "Text(0, 0.5, 'Number of sessions')"
      ]
     },
     "execution_count": 169,
     "metadata": {},
     "output_type": "execute_result"
    },
    {
     "data": {
      "image/png": "[encoded data removed]",
      "text/plain": [
       "<Figure size 1080x576 with 1 Axes>"
      ]
     },
     "metadata": {},
     "output_type": "display_data"
    }
   ],
   "source": [
    "# plot distribution of proportion between duration of entire session and duration of link visits (search results links)\n",
    "# 0 values of visited pages length are excluded!\n",
    "plt.figure(figsize=(15, 8))\n",
    "sns.distplot(notZeroLengths[notZeroLengths['proportion'] > 0]['proportion'], kde=False, bins=70)\n",
    "plt.xlim(0, 100)\n",
    "plt.xlabel('%')\n",
    "plt.ylabel('Number of sessions')\n",
    "\n",
    "# this plot shows similar distributuion as previous, but 0 values are excluded\n",
    "# the number of sessions with high precentage of time spent on \"visit page links\" (search result page links) is clearer here,\n",
    "# because 0 values are excluded"
   ]
  },
  {
   "cell_type": "code",
   "execution_count": 121,
   "metadata": {},
   "outputs": [
    {
     "data": {
      "text/plain": [
       "<seaborn.axisgrid.JointGrid at 0x23552af4470>"
      ]
     },
     "execution_count": 121,
     "metadata": {},
     "output_type": "execute_result"
    },
    {
     "data": {
      "image/png": "[encoded data removed]",
      "text/plain": [
       "<Figure size 432x432 with 3 Axes>"
      ]
     },
     "metadata": {
      "needs_background": "light"
     },
     "output_type": "display_data"
    }
   ],
   "source": [
    "sns.jointplot(x='number of results', y='session length', data=notZeroLengths, kind='reg')"
   ]
  },
  {
   "cell_type": "code",
   "execution_count": 127,
   "metadata": {},
   "outputs": [
    {
     "data": {
      "text/plain": [
       "<matplotlib.axes._subplots.AxesSubplot at 0x23553576400>"
      ]
     },
     "execution_count": 127,
     "metadata": {},
     "output_type": "execute_result"
    },
    {
     "data": {
      "image/png": "[encoded data removed]",
      "text/plain": [
       "<Figure size 432x288 with 2 Axes>"
      ]
     },
     "metadata": {
      "needs_background": "light"
     },
     "output_type": "display_data"
    }
   ],
   "source": [
    "# session length and hour of session start\n",
    "# check if there is any correlation between time when session is started (hours) and duration of session\n",
    "startHours = sessionStart.apply(lambda var: var.hour)\n",
    "dfStartLength = pd.DataFrame(list(zip(sessionLength, startHours)), columns=['session length', 'start hour'])\n",
    "sns.heatmap(dfStartLength[dfStartLength['session length'] > 0].corr(), annot=True)\n",
    "\n",
    "# there isn't much of correlation between hour when session is started and duration of session"
   ]
  },
  {
   "cell_type": "code",
   "execution_count": 37,
   "metadata": {},
   "outputs": [
    {
     "data": {
      "text/plain": [
       "Series([], dtype: float64)"
      ]
     },
     "execution_count": 37,
     "metadata": {},
     "output_type": "execute_result"
    }
   ],
   "source": []
  }
 ],
 "metadata": {
  "kernelspec": {
   "display_name": "Python 3",
   "language": "python",
   "name": "python3"
  },
  "language_info": {
   "codemirror_mode": {
    "name": "ipython",
    "version": 3
   },
   "file_extension": ".py",
   "mimetype": "text/x-python",
   "name": "python",
   "nbconvert_exporter": "python",
   "pygments_lexer": "ipython3",
   "version": "3.7.3"
  }
 },
 "nbformat": 4,
 "nbformat_minor": 2
}
